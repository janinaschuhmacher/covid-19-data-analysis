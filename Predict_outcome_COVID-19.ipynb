{
 "cells": [
  {
   "cell_type": "markdown",
   "metadata": {},
   "source": [
    "# Sample Project Coronavirus"
   ]
  },
  {
   "cell_type": "markdown",
   "metadata": {},
   "source": [
    "The goal of this project is to explore a dataset of coronavirus patients to train a model which predicts whether a patient will die or recover from Coronavirus. "
   ]
  },
  {
   "cell_type": "markdown",
   "metadata": {},
   "source": [
    "## About the data"
   ]
  },
  {
   "cell_type": "markdown",
   "metadata": {},
   "source": [
    "The dataset confirmed-positive-on data comes from https://howsmyflattening.ca/#/data/. \n",
    "\n",
    "The site is set up by a group of physicians, medical students, computational health researchers, designers and epidemiologists who aim to rapidly filter and present emergent COVID-19 data to help Ontario #FlattenTheCurve. They intend to connect experts and present data in an easy to digest, actionable way to help Ontario's public leaders and individuals act decisively as evidence grows and time ticks by."
   ]
  },
  {
   "cell_type": "markdown",
   "metadata": {},
   "source": [
    "### Confirmed positive cases of COVID19 in Ontario"
   ]
  },
  {
   "cell_type": "markdown",
   "metadata": {},
   "source": [
    "The dataset includes compiled daily reported data from public health units on confirmed positive cases of COVID-19 in Ontario. It includes data on patients from 1st January 2020 to 28th June 2020 and is updated daily. Currently, the dataset inludes data from 37,947 patients. Case data is as initially reported.\n",
    "\n",
    "The following are the features which we will use for predicting the outcome variable (recovered or diseased).\n",
    "\n",
    "1. accurate_episode_date - date of diagnosis\n",
    "2. age_group - categorized to <20, 30s, 40s, 50s, 60s, 70s, 80s or 90s\n",
    "3. client_gender - female, male, unkown, other,or transgender\n",
    "4. outbreak_related - Yes or no entry\n",
    "5. reporting_phu_latitude - Latitude of the reporting public health unit\n",
    "6. reporting_phu_longitude - longitude of the reporting public health unit\n",
    "\n",
    "\n"
   ]
  },
  {
   "cell_type": "markdown",
   "metadata": {},
   "source": [
    "## Load necessary packages"
   ]
  },
  {
   "cell_type": "code",
   "execution_count": 30,
   "metadata": {},
   "outputs": [],
   "source": [
    "# Exploratory Data Analysis and plotting libraries \n",
    "import numpy as np\n",
    "import pandas as pd\n",
    "import matplotlib.pyplot as plt\n",
    "import seaborn as sns\n",
    "\n",
    "%matplotlib inline\n",
    "\n",
    "# Data Cleaning with Scikit Learn\n",
    "from sklearn.preprocessing import OneHotEncoder, StandardScaler\n",
    "from sklearn.compose import ColumnTransformer\n",
    "from sklearn.base import BaseEstimator, TransformerMixin\n",
    "from sklearn.impute import SimpleImputer\n",
    "from sklearn.pipeline import Pipeline\n",
    "from sklearn import preprocessing\n",
    "\n",
    "# convert data time\n",
    "from datetime import date\n",
    "from datetime import datetime\n",
    "\n",
    "# Models from Skikit Learn\n",
    "from sklearn.linear_model import LogisticRegression\n",
    "from sklearn.neighbors import KNeighborsClassifier\n",
    "from sklearn.ensemble import RandomForestClassifier\n",
    "\n",
    "\n",
    "# Model Evaluation\n",
    "from sklearn.model_selection import train_test_split, cross_val_score\n",
    "from sklearn.model_selection import RandomizedSearchCV, GridSearchCV\n",
    "from sklearn.metrics import confusion_matrix, classification_report\n",
    "from sklearn.metrics import precision_score, recall_score, f1_score, accuracy_score\n",
    "from sklearn.metrics import plot_roc_curve, roc_curve, roc_auc_score\n",
    "from sklearn.metrics import plot_confusion_matrix\n",
    "\n"
   ]
  },
  {
   "cell_type": "markdown",
   "metadata": {},
   "source": [
    "## Load Data"
   ]
  },
  {
   "cell_type": "code",
   "execution_count": 31,
   "metadata": {},
   "outputs": [
    {
     "data": {
      "text/plain": [
       "(37947, 18)"
      ]
     },
     "execution_count": 31,
     "metadata": {},
     "output_type": "execute_result"
    }
   ],
   "source": [
    "df = pd.read_csv(\"confirmed_positive_on.csv\", sep =\";\")\n",
    "df.shape"
   ]
  },
  {
   "cell_type": "markdown",
   "metadata": {},
   "source": [
    "## Explorative Data Anlysis"
   ]
  },
  {
   "cell_type": "code",
   "execution_count": 32,
   "metadata": {},
   "outputs": [
    {
     "data": {
      "text/html": [
       "<div>\n",
       "<style scoped>\n",
       "    .dataframe tbody tr th:only-of-type {\n",
       "        vertical-align: middle;\n",
       "    }\n",
       "\n",
       "    .dataframe tbody tr th {\n",
       "        vertical-align: top;\n",
       "    }\n",
       "\n",
       "    .dataframe thead th {\n",
       "        text-align: right;\n",
       "    }\n",
       "</style>\n",
       "<table border=\"1\" class=\"dataframe\">\n",
       "  <thead>\n",
       "    <tr style=\"text-align: right;\">\n",
       "      <th></th>\n",
       "      <th>id</th>\n",
       "      <th>row_id</th>\n",
       "      <th>accurate_episode_date</th>\n",
       "      <th>age_group</th>\n",
       "      <th>client_gender</th>\n",
       "      <th>case_acquisitionInfo</th>\n",
       "      <th>outcome1</th>\n",
       "      <th>outbreak_related</th>\n",
       "      <th>reporting_phu</th>\n",
       "      <th>reporting_phu_address</th>\n",
       "      <th>reporting_phu_city</th>\n",
       "      <th>reporting_phu_postal_code</th>\n",
       "      <th>reporting_phu_website</th>\n",
       "      <th>reporting_phu_latitude</th>\n",
       "      <th>reporting_phu_longitude</th>\n",
       "      <th>case_reported_date</th>\n",
       "      <th>specimen_reported_date</th>\n",
       "      <th>test_reported_date</th>\n",
       "    </tr>\n",
       "  </thead>\n",
       "  <tbody>\n",
       "    <tr>\n",
       "      <th>0</th>\n",
       "      <td>4066</td>\n",
       "      <td>4066</td>\n",
       "      <td>2020-03-28</td>\n",
       "      <td>20s</td>\n",
       "      <td>FEMALE</td>\n",
       "      <td>Travel</td>\n",
       "      <td>Resolved</td>\n",
       "      <td>NaN</td>\n",
       "      <td>Windsor-Essex County Health Unit</td>\n",
       "      <td>1005 Ouellette Avenue</td>\n",
       "      <td>Windsor</td>\n",
       "      <td>N9A 4J8</td>\n",
       "      <td>www.wechu.org</td>\n",
       "      <td>42.308796</td>\n",
       "      <td>-83.033670</td>\n",
       "      <td>2020-04-03</td>\n",
       "      <td>2020-03-30</td>\n",
       "      <td>2020-04-03</td>\n",
       "    </tr>\n",
       "    <tr>\n",
       "      <th>1</th>\n",
       "      <td>1091</td>\n",
       "      <td>1091</td>\n",
       "      <td>2020-03-13</td>\n",
       "      <td>30s</td>\n",
       "      <td>MALE</td>\n",
       "      <td>Travel</td>\n",
       "      <td>Resolved</td>\n",
       "      <td>NaN</td>\n",
       "      <td>Ottawa Public Health</td>\n",
       "      <td>100 Constellation Drive</td>\n",
       "      <td>Ottawa</td>\n",
       "      <td>K2G 6J8</td>\n",
       "      <td>www.ottawapublichealth.ca</td>\n",
       "      <td>45.345665</td>\n",
       "      <td>-75.763912</td>\n",
       "      <td>2020-03-26</td>\n",
       "      <td>2020-03-17</td>\n",
       "      <td>2020-03-26</td>\n",
       "    </tr>\n",
       "    <tr>\n",
       "      <th>2</th>\n",
       "      <td>34119</td>\n",
       "      <td>33188</td>\n",
       "      <td>2020-04-12</td>\n",
       "      <td>20s</td>\n",
       "      <td>FEMALE</td>\n",
       "      <td>No Epi-link</td>\n",
       "      <td>Resolved</td>\n",
       "      <td>NaN</td>\n",
       "      <td>Middlesex-London Health Unit</td>\n",
       "      <td>50 King Street</td>\n",
       "      <td>London</td>\n",
       "      <td>N6A 5L7</td>\n",
       "      <td>www.healthunit.com</td>\n",
       "      <td>42.981468</td>\n",
       "      <td>-81.254016</td>\n",
       "      <td>2020-05-20</td>\n",
       "      <td>2020-05-17</td>\n",
       "      <td>2020-05-20</td>\n",
       "    </tr>\n",
       "    <tr>\n",
       "      <th>3</th>\n",
       "      <td>9095</td>\n",
       "      <td>9095</td>\n",
       "      <td>2020-04-12</td>\n",
       "      <td>30s</td>\n",
       "      <td>FEMALE</td>\n",
       "      <td>CC</td>\n",
       "      <td>Resolved</td>\n",
       "      <td>NaN</td>\n",
       "      <td>Region of Waterloo, Public Health</td>\n",
       "      <td>99 Regina Street South</td>\n",
       "      <td>Waterloo</td>\n",
       "      <td>N2J 4V3</td>\n",
       "      <td>www.regionofwaterloo.ca</td>\n",
       "      <td>43.462876</td>\n",
       "      <td>-80.520913</td>\n",
       "      <td>2020-04-15</td>\n",
       "      <td>2020-04-14</td>\n",
       "      <td>2020-04-15</td>\n",
       "    </tr>\n",
       "    <tr>\n",
       "      <th>4</th>\n",
       "      <td>1713</td>\n",
       "      <td>1713</td>\n",
       "      <td>2020-03-23</td>\n",
       "      <td>30s</td>\n",
       "      <td>MALE</td>\n",
       "      <td>CC</td>\n",
       "      <td>Resolved</td>\n",
       "      <td>NaN</td>\n",
       "      <td>Eastern Ontario Health Unit</td>\n",
       "      <td>1000 Pitt Street</td>\n",
       "      <td>Cornwall</td>\n",
       "      <td>K6J 5T1</td>\n",
       "      <td>www.eohu.ca</td>\n",
       "      <td>45.029152</td>\n",
       "      <td>-74.736298</td>\n",
       "      <td>2020-04-01</td>\n",
       "      <td>2020-03-24</td>\n",
       "      <td>2020-04-01</td>\n",
       "    </tr>\n",
       "  </tbody>\n",
       "</table>\n",
       "</div>"
      ],
      "text/plain": [
       "      id  row_id accurate_episode_date age_group client_gender  \\\n",
       "0   4066    4066            2020-03-28       20s        FEMALE   \n",
       "1   1091    1091            2020-03-13       30s          MALE   \n",
       "2  34119   33188            2020-04-12       20s        FEMALE   \n",
       "3   9095    9095            2020-04-12       30s        FEMALE   \n",
       "4   1713    1713            2020-03-23       30s          MALE   \n",
       "\n",
       "  case_acquisitionInfo  outcome1 outbreak_related  \\\n",
       "0               Travel  Resolved              NaN   \n",
       "1               Travel  Resolved              NaN   \n",
       "2          No Epi-link  Resolved              NaN   \n",
       "3                   CC  Resolved              NaN   \n",
       "4                   CC  Resolved              NaN   \n",
       "\n",
       "                       reporting_phu    reporting_phu_address  \\\n",
       "0   Windsor-Essex County Health Unit    1005 Ouellette Avenue   \n",
       "1               Ottawa Public Health  100 Constellation Drive   \n",
       "2       Middlesex-London Health Unit           50 King Street   \n",
       "3  Region of Waterloo, Public Health   99 Regina Street South   \n",
       "4        Eastern Ontario Health Unit         1000 Pitt Street   \n",
       "\n",
       "  reporting_phu_city reporting_phu_postal_code      reporting_phu_website  \\\n",
       "0            Windsor                   N9A 4J8              www.wechu.org   \n",
       "1             Ottawa                   K2G 6J8  www.ottawapublichealth.ca   \n",
       "2             London                   N6A 5L7         www.healthunit.com   \n",
       "3           Waterloo                   N2J 4V3    www.regionofwaterloo.ca   \n",
       "4           Cornwall                   K6J 5T1                www.eohu.ca   \n",
       "\n",
       "   reporting_phu_latitude  reporting_phu_longitude case_reported_date  \\\n",
       "0               42.308796               -83.033670         2020-04-03   \n",
       "1               45.345665               -75.763912         2020-03-26   \n",
       "2               42.981468               -81.254016         2020-05-20   \n",
       "3               43.462876               -80.520913         2020-04-15   \n",
       "4               45.029152               -74.736298         2020-04-01   \n",
       "\n",
       "  specimen_reported_date test_reported_date  \n",
       "0             2020-03-30         2020-04-03  \n",
       "1             2020-03-17         2020-03-26  \n",
       "2             2020-05-17         2020-05-20  \n",
       "3             2020-04-14         2020-04-15  \n",
       "4             2020-03-24         2020-04-01  "
      ]
     },
     "execution_count": 32,
     "metadata": {},
     "output_type": "execute_result"
    }
   ],
   "source": [
    "df.head()"
   ]
  },
  {
   "cell_type": "code",
   "execution_count": 33,
   "metadata": {},
   "outputs": [
    {
     "data": {
      "image/png": "[encoded data removed]",
      "text/plain": [
       "<Figure size 432x288 with 1 Axes>"
      ]
     },
     "metadata": {
      "needs_background": "light"
     },
     "output_type": "display_data"
    }
   ],
   "source": [
    "# plot frequency of target variable categories\n",
    "\n",
    "fig, ax = plt.subplots()\n",
    "ax.bar(x = list(set(df[\"outcome1\"])), height = df[\"outcome1\"].value_counts(), color=['darkred', 'g', 'orange'])\n",
    "ax.set_ylabel(\"nr of cases\")\n",
    "ax.set_title(\"Outcome of COVID-19 disease\")\n",
    "\n",
    "plt.show()\n",
    "\n"
   ]
  },
  {
   "cell_type": "code",
   "execution_count": 34,
   "metadata": {},
   "outputs": [
    {
     "data": {
      "text/plain": [
       "Resolved        0.854033\n",
       "Fatal           0.075895\n",
       "Not Resolved    0.070071\n",
       "Name: outcome1, dtype: float64"
      ]
     },
     "execution_count": 34,
     "metadata": {},
     "output_type": "execute_result"
    }
   ],
   "source": [
    "df[\"outcome1\"].value_counts(normalize = True)"
   ]
  },
  {
   "cell_type": "markdown",
   "metadata": {},
   "source": [
    "The dataset is highly unbalanced with approximately 85 % recoveries, 8 % fatal outcomes and 7 % not yet resolved cases. For now, we shall exclude unresolved cases from our analysis and label \"Fatal\" outcome as 1 and Resolved as 0."
   ]
  },
  {
   "cell_type": "code",
   "execution_count": 35,
   "metadata": {},
   "outputs": [],
   "source": [
    "df.drop(df[df[\"outcome1\"] == \"Not Resolved\"].index, inplace = True)\n",
    "df[\"outcome1\"].replace({\"Fatal\": 1, \"Resolved\": 0}, inplace = True)"
   ]
  },
  {
   "cell_type": "code",
   "execution_count": 36,
   "metadata": {},
   "outputs": [
    {
     "data": {
      "text/plain": [
       "0    0.918386\n",
       "1    0.081614\n",
       "Name: outcome1, dtype: float64"
      ]
     },
     "execution_count": 36,
     "metadata": {},
     "output_type": "execute_result"
    }
   ],
   "source": [
    "df[\"outcome1\"].value_counts(normalize = True)"
   ]
  },
  {
   "cell_type": "code",
   "execution_count": 37,
   "metadata": {},
   "outputs": [
    {
     "name": "stdout",
     "output_type": "stream",
     "text": [
      "<class 'pandas.core.frame.DataFrame'>\n",
      "Int64Index: 35288 entries, 0 to 37946\n",
      "Data columns (total 18 columns):\n",
      " #   Column                     Non-Null Count  Dtype  \n",
      "---  ------                     --------------  -----  \n",
      " 0   id                         35288 non-null  int64  \n",
      " 1   row_id                     35288 non-null  int64  \n",
      " 2   accurate_episode_date      35286 non-null  object \n",
      " 3   age_group                  35288 non-null  object \n",
      " 4   client_gender              35288 non-null  object \n",
      " 5   case_acquisitionInfo       35288 non-null  object \n",
      " 6   outcome1                   35288 non-null  int64  \n",
      " 7   outbreak_related           14676 non-null  object \n",
      " 8   reporting_phu              35288 non-null  object \n",
      " 9   reporting_phu_address      35288 non-null  object \n",
      " 10  reporting_phu_city         35288 non-null  object \n",
      " 11  reporting_phu_postal_code  35288 non-null  object \n",
      " 12  reporting_phu_website      35288 non-null  object \n",
      " 13  reporting_phu_latitude     35288 non-null  float64\n",
      " 14  reporting_phu_longitude    35288 non-null  float64\n",
      " 15  case_reported_date         35288 non-null  object \n",
      " 16  specimen_reported_date     34959 non-null  object \n",
      " 17  test_reported_date         34841 non-null  object \n",
      "dtypes: float64(2), int64(3), object(13)\n",
      "memory usage: 5.1+ MB\n"
     ]
    }
   ],
   "source": [
    "df.info()"
   ]
  },
  {
   "cell_type": "markdown",
   "metadata": {},
   "source": [
    "### COVID 19 outcome according to Gender"
   ]
  },
  {
   "cell_type": "code",
   "execution_count": 38,
   "metadata": {},
   "outputs": [
    {
     "data": {
      "text/plain": [
       "FEMALE         19006\n",
       "MALE           16005\n",
       "UNKNOWN          262\n",
       "OTHER              8\n",
       "TRANSGENDER        7\n",
       "Name: client_gender, dtype: int64"
      ]
     },
     "execution_count": 38,
     "metadata": {},
     "output_type": "execute_result"
    }
   ],
   "source": [
    "df.client_gender.value_counts()"
   ]
  },
  {
   "cell_type": "code",
   "execution_count": 39,
   "metadata": {},
   "outputs": [
    {
     "data": {
      "text/html": [
       "<div>\n",
       "<style scoped>\n",
       "    .dataframe tbody tr th:only-of-type {\n",
       "        vertical-align: middle;\n",
       "    }\n",
       "\n",
       "    .dataframe tbody tr th {\n",
       "        vertical-align: top;\n",
       "    }\n",
       "\n",
       "    .dataframe thead th {\n",
       "        text-align: right;\n",
       "    }\n",
       "</style>\n",
       "<table border=\"1\" class=\"dataframe\">\n",
       "  <thead>\n",
       "    <tr style=\"text-align: right;\">\n",
       "      <th>client_gender</th>\n",
       "      <th>FEMALE</th>\n",
       "      <th>MALE</th>\n",
       "      <th>OTHER</th>\n",
       "      <th>TRANSGENDER</th>\n",
       "      <th>UNKNOWN</th>\n",
       "    </tr>\n",
       "    <tr>\n",
       "      <th>outcome1</th>\n",
       "      <th></th>\n",
       "      <th></th>\n",
       "      <th></th>\n",
       "      <th></th>\n",
       "      <th></th>\n",
       "    </tr>\n",
       "  </thead>\n",
       "  <tbody>\n",
       "    <tr>\n",
       "      <th>0</th>\n",
       "      <td>17462</td>\n",
       "      <td>14712</td>\n",
       "      <td>8</td>\n",
       "      <td>6</td>\n",
       "      <td>220</td>\n",
       "    </tr>\n",
       "    <tr>\n",
       "      <th>1</th>\n",
       "      <td>1544</td>\n",
       "      <td>1293</td>\n",
       "      <td>0</td>\n",
       "      <td>1</td>\n",
       "      <td>42</td>\n",
       "    </tr>\n",
       "  </tbody>\n",
       "</table>\n",
       "</div>"
      ],
      "text/plain": [
       "client_gender  FEMALE   MALE  OTHER  TRANSGENDER  UNKNOWN\n",
       "outcome1                                                 \n",
       "0               17462  14712      8            6      220\n",
       "1                1544   1293      0            1       42"
      ]
     },
     "execution_count": 39,
     "metadata": {},
     "output_type": "execute_result"
    }
   ],
   "source": [
    "pd.crosstab(df.outcome1, df.client_gender)"
   ]
  },
  {
   "cell_type": "code",
   "execution_count": 40,
   "metadata": {
    "scrolled": true
   },
   "outputs": [
    {
     "data": {
      "text/plain": [
       "0.08842057038139961"
      ]
     },
     "execution_count": 40,
     "metadata": {},
     "output_type": "execute_result"
    }
   ],
   "source": [
    "female_fatal = sum((df.client_gender == \"FEMALE\") & (df.outcome1 == 1))\n",
    "female_resolved = sum((df.client_gender == \"FEMALE\") & (df.outcome1 == 0))\n",
    "mortality_rate_female = female_fatal / female_resolved\n",
    "mortality_rate_female\n"
   ]
  },
  {
   "cell_type": "code",
   "execution_count": 41,
   "metadata": {},
   "outputs": [
    {
     "data": {
      "text/plain": [
       "0.08788743882544861"
      ]
     },
     "execution_count": 41,
     "metadata": {},
     "output_type": "execute_result"
    }
   ],
   "source": [
    "male_fatal = sum((df.client_gender == \"MALE\") & (df.outcome1 == 1))\n",
    "male_resolved = sum((df.client_gender == \"MALE\") & (df.outcome1 == 0))\n",
    "mortality_rate_male = male_fatal / male_resolved\n",
    "mortality_rate_male"
   ]
  },
  {
   "cell_type": "code",
   "execution_count": 42,
   "metadata": {},
   "outputs": [
    {
     "data": {
      "image/png": "[encoded data removed]",
      "text/plain": [
       "<Figure size 720x432 with 1 Axes>"
      ]
     },
     "metadata": {
      "needs_background": "light"
     },
     "output_type": "display_data"
    }
   ],
   "source": [
    "# Plotting the data\n",
    "pd.crosstab(df.outcome1, df.client_gender).plot(kind=\"bar\", figsize=(10,6), color=[\"darkcyan\", \"goldenrod\", \"skyblue\", \"darkgreen\", \"coral\"])\n",
    "\n",
    "plt.title(\"COVID-19 outcomes by gender\")\n",
    "plt.xlabel(\"outcome\")\n",
    "plt.ylabel(\"nr of cases\");"
   ]
  },
  {
   "cell_type": "markdown",
   "metadata": {},
   "source": [
    "### Plot COVID-19 outcomes for different age groups"
   ]
  },
  {
   "cell_type": "code",
   "execution_count": 43,
   "metadata": {},
   "outputs": [
    {
     "data": {
      "image/png": "[encoded data removed]",
      "text/plain": [
       "<Figure size 720x432 with 1 Axes>"
      ]
     },
     "metadata": {
      "needs_background": "light"
     },
     "output_type": "display_data"
    }
   ],
   "source": [
    "pd.crosstab(df.outcome1, df.age_group).plot(kind=\"bar\", figsize=(10,6))\n",
    "\n",
    "plt.title(\"COVID-19 outcomes by age\")\n",
    "plt.xlabel(\"outcome\")\n",
    "plt.ylabel(\"nr of cases\");"
   ]
  },
  {
   "cell_type": "code",
   "execution_count": 44,
   "metadata": {},
   "outputs": [
    {
     "data": {
      "image/png": "[encoded data removed]",
      "text/plain": [
       "<Figure size 432x288 with 1 Axes>"
      ]
     },
     "metadata": {
      "needs_background": "light"
     },
     "output_type": "display_data"
    }
   ],
   "source": [
    "# calculate relative frequencies of fatal/resolved outcome for each age group\n",
    "\n",
    "age_groups_ordered = [\"UNKNOWN\", \"<20\", \"20s\", \"30s\", \"40s\", \"50s\", \"60s\", \"70s\", \"80s\", \"90s\"]\n",
    "\n",
    "df.age_group = pd.Categorical(df.age_group, categories=\n",
    "    [\"UNKNOWN\", \"<20\", \"20s\", \"30s\", \"40s\", \"50s\", \"60s\", \"70s\", \"80s\", \"90s\"],\n",
    "    ordered=True)\n",
    "freq_per_age = df.age_group.value_counts()\n",
    "\n",
    "freq_per_age = freq_per_age.sort_index()\n",
    "freq_fatal_per_age = df.age_group[df.outcome1 == 1].value_counts()\n",
    "\n",
    "rel_freq_fatal_per_age = (freq_fatal_per_age / freq_per_age) * 100\n",
    "rel_freq_resolved_per_age = 100 - rel_freq_fatal_per_age\n",
    "\n",
    "# plot the relative frequencies per age group\n",
    "fig, ax = plt.subplots()\n",
    "ax.bar(rel_freq_fatal_per_age.index, 100, color = \"lightblue\", zorder = 1, label=\"resolved cases\")\n",
    "ax.bar(rel_freq_fatal_per_age.index, rel_freq_fatal_per_age, color = \"red\", zorder = 2, label=\"proportion of fatal cases\")\n",
    "ax.set_ylabel(\"proportion of cases\")\n",
    "ax.set_title(\"Proportion of fatal vs. resolved cases per age group\")\n",
    "ax.legend()\n",
    "\n",
    "plt.show();"
   ]
  },
  {
   "cell_type": "markdown",
   "metadata": {},
   "source": [
    "## Modeling"
   ]
  },
  {
   "cell_type": "code",
   "execution_count": 45,
   "metadata": {},
   "outputs": [
    {
     "data": {
      "text/html": [
       "<div>\n",
       "<style scoped>\n",
       "    .dataframe tbody tr th:only-of-type {\n",
       "        vertical-align: middle;\n",
       "    }\n",
       "\n",
       "    .dataframe tbody tr th {\n",
       "        vertical-align: top;\n",
       "    }\n",
       "\n",
       "    .dataframe thead th {\n",
       "        text-align: right;\n",
       "    }\n",
       "</style>\n",
       "<table border=\"1\" class=\"dataframe\">\n",
       "  <thead>\n",
       "    <tr style=\"text-align: right;\">\n",
       "      <th></th>\n",
       "      <th>id</th>\n",
       "      <th>row_id</th>\n",
       "      <th>accurate_episode_date</th>\n",
       "      <th>age_group</th>\n",
       "      <th>client_gender</th>\n",
       "      <th>case_acquisitionInfo</th>\n",
       "      <th>outcome1</th>\n",
       "      <th>outbreak_related</th>\n",
       "      <th>reporting_phu</th>\n",
       "      <th>reporting_phu_address</th>\n",
       "      <th>reporting_phu_city</th>\n",
       "      <th>reporting_phu_postal_code</th>\n",
       "      <th>reporting_phu_website</th>\n",
       "      <th>reporting_phu_latitude</th>\n",
       "      <th>reporting_phu_longitude</th>\n",
       "      <th>case_reported_date</th>\n",
       "      <th>specimen_reported_date</th>\n",
       "      <th>test_reported_date</th>\n",
       "    </tr>\n",
       "  </thead>\n",
       "  <tbody>\n",
       "    <tr>\n",
       "      <th>0</th>\n",
       "      <td>4066</td>\n",
       "      <td>4066</td>\n",
       "      <td>2020-03-28</td>\n",
       "      <td>20s</td>\n",
       "      <td>FEMALE</td>\n",
       "      <td>Travel</td>\n",
       "      <td>0</td>\n",
       "      <td>NaN</td>\n",
       "      <td>Windsor-Essex County Health Unit</td>\n",
       "      <td>1005 Ouellette Avenue</td>\n",
       "      <td>Windsor</td>\n",
       "      <td>N9A 4J8</td>\n",
       "      <td>www.wechu.org</td>\n",
       "      <td>42.308796</td>\n",
       "      <td>-83.033670</td>\n",
       "      <td>2020-04-03</td>\n",
       "      <td>2020-03-30</td>\n",
       "      <td>2020-04-03</td>\n",
       "    </tr>\n",
       "    <tr>\n",
       "      <th>1</th>\n",
       "      <td>1091</td>\n",
       "      <td>1091</td>\n",
       "      <td>2020-03-13</td>\n",
       "      <td>30s</td>\n",
       "      <td>MALE</td>\n",
       "      <td>Travel</td>\n",
       "      <td>0</td>\n",
       "      <td>NaN</td>\n",
       "      <td>Ottawa Public Health</td>\n",
       "      <td>100 Constellation Drive</td>\n",
       "      <td>Ottawa</td>\n",
       "      <td>K2G 6J8</td>\n",
       "      <td>www.ottawapublichealth.ca</td>\n",
       "      <td>45.345665</td>\n",
       "      <td>-75.763912</td>\n",
       "      <td>2020-03-26</td>\n",
       "      <td>2020-03-17</td>\n",
       "      <td>2020-03-26</td>\n",
       "    </tr>\n",
       "    <tr>\n",
       "      <th>2</th>\n",
       "      <td>34119</td>\n",
       "      <td>33188</td>\n",
       "      <td>2020-04-12</td>\n",
       "      <td>20s</td>\n",
       "      <td>FEMALE</td>\n",
       "      <td>No Epi-link</td>\n",
       "      <td>0</td>\n",
       "      <td>NaN</td>\n",
       "      <td>Middlesex-London Health Unit</td>\n",
       "      <td>50 King Street</td>\n",
       "      <td>London</td>\n",
       "      <td>N6A 5L7</td>\n",
       "      <td>www.healthunit.com</td>\n",
       "      <td>42.981468</td>\n",
       "      <td>-81.254016</td>\n",
       "      <td>2020-05-20</td>\n",
       "      <td>2020-05-17</td>\n",
       "      <td>2020-05-20</td>\n",
       "    </tr>\n",
       "    <tr>\n",
       "      <th>3</th>\n",
       "      <td>9095</td>\n",
       "      <td>9095</td>\n",
       "      <td>2020-04-12</td>\n",
       "      <td>30s</td>\n",
       "      <td>FEMALE</td>\n",
       "      <td>CC</td>\n",
       "      <td>0</td>\n",
       "      <td>NaN</td>\n",
       "      <td>Region of Waterloo, Public Health</td>\n",
       "      <td>99 Regina Street South</td>\n",
       "      <td>Waterloo</td>\n",
       "      <td>N2J 4V3</td>\n",
       "      <td>www.regionofwaterloo.ca</td>\n",
       "      <td>43.462876</td>\n",
       "      <td>-80.520913</td>\n",
       "      <td>2020-04-15</td>\n",
       "      <td>2020-04-14</td>\n",
       "      <td>2020-04-15</td>\n",
       "    </tr>\n",
       "    <tr>\n",
       "      <th>4</th>\n",
       "      <td>1713</td>\n",
       "      <td>1713</td>\n",
       "      <td>2020-03-23</td>\n",
       "      <td>30s</td>\n",
       "      <td>MALE</td>\n",
       "      <td>CC</td>\n",
       "      <td>0</td>\n",
       "      <td>NaN</td>\n",
       "      <td>Eastern Ontario Health Unit</td>\n",
       "      <td>1000 Pitt Street</td>\n",
       "      <td>Cornwall</td>\n",
       "      <td>K6J 5T1</td>\n",
       "      <td>www.eohu.ca</td>\n",
       "      <td>45.029152</td>\n",
       "      <td>-74.736298</td>\n",
       "      <td>2020-04-01</td>\n",
       "      <td>2020-03-24</td>\n",
       "      <td>2020-04-01</td>\n",
       "    </tr>\n",
       "  </tbody>\n",
       "</table>\n",
       "</div>"
      ],
      "text/plain": [
       "      id  row_id accurate_episode_date age_group client_gender  \\\n",
       "0   4066    4066            2020-03-28       20s        FEMALE   \n",
       "1   1091    1091            2020-03-13       30s          MALE   \n",
       "2  34119   33188            2020-04-12       20s        FEMALE   \n",
       "3   9095    9095            2020-04-12       30s        FEMALE   \n",
       "4   1713    1713            2020-03-23       30s          MALE   \n",
       "\n",
       "  case_acquisitionInfo  outcome1 outbreak_related  \\\n",
       "0               Travel         0              NaN   \n",
       "1               Travel         0              NaN   \n",
       "2          No Epi-link         0              NaN   \n",
       "3                   CC         0              NaN   \n",
       "4                   CC         0              NaN   \n",
       "\n",
       "                       reporting_phu    reporting_phu_address  \\\n",
       "0   Windsor-Essex County Health Unit    1005 Ouellette Avenue   \n",
       "1               Ottawa Public Health  100 Constellation Drive   \n",
       "2       Middlesex-London Health Unit           50 King Street   \n",
       "3  Region of Waterloo, Public Health   99 Regina Street South   \n",
       "4        Eastern Ontario Health Unit         1000 Pitt Street   \n",
       "\n",
       "  reporting_phu_city reporting_phu_postal_code      reporting_phu_website  \\\n",
       "0            Windsor                   N9A 4J8              www.wechu.org   \n",
       "1             Ottawa                   K2G 6J8  www.ottawapublichealth.ca   \n",
       "2             London                   N6A 5L7         www.healthunit.com   \n",
       "3           Waterloo                   N2J 4V3    www.regionofwaterloo.ca   \n",
       "4           Cornwall                   K6J 5T1                www.eohu.ca   \n",
       "\n",
       "   reporting_phu_latitude  reporting_phu_longitude case_reported_date  \\\n",
       "0               42.308796               -83.033670         2020-04-03   \n",
       "1               45.345665               -75.763912         2020-03-26   \n",
       "2               42.981468               -81.254016         2020-05-20   \n",
       "3               43.462876               -80.520913         2020-04-15   \n",
       "4               45.029152               -74.736298         2020-04-01   \n",
       "\n",
       "  specimen_reported_date test_reported_date  \n",
       "0             2020-03-30         2020-04-03  \n",
       "1             2020-03-17         2020-03-26  \n",
       "2             2020-05-17         2020-05-20  \n",
       "3             2020-04-14         2020-04-15  \n",
       "4             2020-03-24         2020-04-01  "
      ]
     },
     "execution_count": 45,
     "metadata": {},
     "output_type": "execute_result"
    }
   ],
   "source": [
    "df.head()\n"
   ]
  },
  {
   "cell_type": "markdown",
   "metadata": {},
   "source": [
    "### Transform the features"
   ]
  },
  {
   "cell_type": "code",
   "execution_count": 46,
   "metadata": {},
   "outputs": [
    {
     "data": {
      "text/plain": [
       "id                              int64\n",
       "row_id                          int64\n",
       "accurate_episode_date          object\n",
       "age_group                    category\n",
       "client_gender                  object\n",
       "case_acquisitionInfo           object\n",
       "outcome1                        int64\n",
       "outbreak_related               object\n",
       "reporting_phu                  object\n",
       "reporting_phu_address          object\n",
       "reporting_phu_city             object\n",
       "reporting_phu_postal_code      object\n",
       "reporting_phu_website          object\n",
       "reporting_phu_latitude        float64\n",
       "reporting_phu_longitude       float64\n",
       "case_reported_date             object\n",
       "specimen_reported_date         object\n",
       "test_reported_date             object\n",
       "dtype: object"
      ]
     },
     "execution_count": 46,
     "metadata": {},
     "output_type": "execute_result"
    }
   ],
   "source": [
    "df.dtypes"
   ]
  },
  {
   "cell_type": "code",
   "execution_count": 47,
   "metadata": {},
   "outputs": [
    {
     "data": {
      "text/plain": [
       "id                               0\n",
       "row_id                           0\n",
       "accurate_episode_date            2\n",
       "age_group                        0\n",
       "client_gender                    0\n",
       "case_acquisitionInfo             0\n",
       "outcome1                         0\n",
       "outbreak_related             20612\n",
       "reporting_phu                    0\n",
       "reporting_phu_address            0\n",
       "reporting_phu_city               0\n",
       "reporting_phu_postal_code        0\n",
       "reporting_phu_website            0\n",
       "reporting_phu_latitude           0\n",
       "reporting_phu_longitude          0\n",
       "case_reported_date               0\n",
       "specimen_reported_date         329\n",
       "test_reported_date             447\n",
       "dtype: int64"
      ]
     },
     "execution_count": 47,
     "metadata": {},
     "output_type": "execute_result"
    }
   ],
   "source": [
    "df.isna().sum()"
   ]
  },
  {
   "cell_type": "markdown",
   "metadata": {},
   "source": [
    "Since there is only two missing values for accurate_episode_date, we exclude these data points."
   ]
  },
  {
   "cell_type": "code",
   "execution_count": 48,
   "metadata": {},
   "outputs": [],
   "source": [
    "df.dropna(subset = [\"accurate_episode_date\"], inplace = True)"
   ]
  },
  {
   "cell_type": "markdown",
   "metadata": {},
   "source": [
    "The id, row_id, case_acquisitionInfo and reporting_phu_website columns are not relevant for our analyis. We also drop the columns with information on the reporting phu address since this information is redundant. Also, we only keep one date (\"accurate episode_date\") to prevent redundancies and avoid more missing data points."
   ]
  },
  {
   "cell_type": "code",
   "execution_count": 49,
   "metadata": {},
   "outputs": [],
   "source": [
    "df.drop(columns=[\"id\", \"row_id\", \"case_acquisitionInfo\", \"reporting_phu_address\", \"reporting_phu_website\", \"specimen_reported_date\", \"case_reported_date\", \"test_reported_date\"], axis =1, inplace =True)\n"
   ]
  },
  {
   "cell_type": "code",
   "execution_count": 50,
   "metadata": {},
   "outputs": [
    {
     "data": {
      "text/html": [
       "<div>\n",
       "<style scoped>\n",
       "    .dataframe tbody tr th:only-of-type {\n",
       "        vertical-align: middle;\n",
       "    }\n",
       "\n",
       "    .dataframe tbody tr th {\n",
       "        vertical-align: top;\n",
       "    }\n",
       "\n",
       "    .dataframe thead th {\n",
       "        text-align: right;\n",
       "    }\n",
       "</style>\n",
       "<table border=\"1\" class=\"dataframe\">\n",
       "  <thead>\n",
       "    <tr style=\"text-align: right;\">\n",
       "      <th></th>\n",
       "      <th>accurate_episode_date</th>\n",
       "      <th>age_group</th>\n",
       "      <th>client_gender</th>\n",
       "      <th>outcome1</th>\n",
       "      <th>outbreak_related</th>\n",
       "      <th>reporting_phu</th>\n",
       "      <th>reporting_phu_city</th>\n",
       "      <th>reporting_phu_postal_code</th>\n",
       "      <th>reporting_phu_latitude</th>\n",
       "      <th>reporting_phu_longitude</th>\n",
       "    </tr>\n",
       "  </thead>\n",
       "  <tbody>\n",
       "    <tr>\n",
       "      <th>0</th>\n",
       "      <td>2020-03-28</td>\n",
       "      <td>20s</td>\n",
       "      <td>FEMALE</td>\n",
       "      <td>0</td>\n",
       "      <td>NaN</td>\n",
       "      <td>Windsor-Essex County Health Unit</td>\n",
       "      <td>Windsor</td>\n",
       "      <td>N9A 4J8</td>\n",
       "      <td>42.308796</td>\n",
       "      <td>-83.033670</td>\n",
       "    </tr>\n",
       "    <tr>\n",
       "      <th>1</th>\n",
       "      <td>2020-03-13</td>\n",
       "      <td>30s</td>\n",
       "      <td>MALE</td>\n",
       "      <td>0</td>\n",
       "      <td>NaN</td>\n",
       "      <td>Ottawa Public Health</td>\n",
       "      <td>Ottawa</td>\n",
       "      <td>K2G 6J8</td>\n",
       "      <td>45.345665</td>\n",
       "      <td>-75.763912</td>\n",
       "    </tr>\n",
       "    <tr>\n",
       "      <th>2</th>\n",
       "      <td>2020-04-12</td>\n",
       "      <td>20s</td>\n",
       "      <td>FEMALE</td>\n",
       "      <td>0</td>\n",
       "      <td>NaN</td>\n",
       "      <td>Middlesex-London Health Unit</td>\n",
       "      <td>London</td>\n",
       "      <td>N6A 5L7</td>\n",
       "      <td>42.981468</td>\n",
       "      <td>-81.254016</td>\n",
       "    </tr>\n",
       "    <tr>\n",
       "      <th>3</th>\n",
       "      <td>2020-04-12</td>\n",
       "      <td>30s</td>\n",
       "      <td>FEMALE</td>\n",
       "      <td>0</td>\n",
       "      <td>NaN</td>\n",
       "      <td>Region of Waterloo, Public Health</td>\n",
       "      <td>Waterloo</td>\n",
       "      <td>N2J 4V3</td>\n",
       "      <td>43.462876</td>\n",
       "      <td>-80.520913</td>\n",
       "    </tr>\n",
       "    <tr>\n",
       "      <th>4</th>\n",
       "      <td>2020-03-23</td>\n",
       "      <td>30s</td>\n",
       "      <td>MALE</td>\n",
       "      <td>0</td>\n",
       "      <td>NaN</td>\n",
       "      <td>Eastern Ontario Health Unit</td>\n",
       "      <td>Cornwall</td>\n",
       "      <td>K6J 5T1</td>\n",
       "      <td>45.029152</td>\n",
       "      <td>-74.736298</td>\n",
       "    </tr>\n",
       "  </tbody>\n",
       "</table>\n",
       "</div>"
      ],
      "text/plain": [
       "  accurate_episode_date age_group client_gender  outcome1 outbreak_related  \\\n",
       "0            2020-03-28       20s        FEMALE         0              NaN   \n",
       "1            2020-03-13       30s          MALE         0              NaN   \n",
       "2            2020-04-12       20s        FEMALE         0              NaN   \n",
       "3            2020-04-12       30s        FEMALE         0              NaN   \n",
       "4            2020-03-23       30s          MALE         0              NaN   \n",
       "\n",
       "                       reporting_phu reporting_phu_city  \\\n",
       "0   Windsor-Essex County Health Unit            Windsor   \n",
       "1               Ottawa Public Health             Ottawa   \n",
       "2       Middlesex-London Health Unit             London   \n",
       "3  Region of Waterloo, Public Health           Waterloo   \n",
       "4        Eastern Ontario Health Unit           Cornwall   \n",
       "\n",
       "  reporting_phu_postal_code  reporting_phu_latitude  reporting_phu_longitude  \n",
       "0                   N9A 4J8               42.308796               -83.033670  \n",
       "1                   K2G 6J8               45.345665               -75.763912  \n",
       "2                   N6A 5L7               42.981468               -81.254016  \n",
       "3                   N2J 4V3               43.462876               -80.520913  \n",
       "4                   K6J 5T1               45.029152               -74.736298  "
      ]
     },
     "execution_count": 50,
     "metadata": {},
     "output_type": "execute_result"
    }
   ],
   "source": [
    "df.head()"
   ]
  },
  {
   "cell_type": "markdown",
   "metadata": {},
   "source": [
    "#### Define custom transformer for the data"
   ]
  },
  {
   "cell_type": "code",
   "execution_count": 51,
   "metadata": {},
   "outputs": [],
   "source": [
    "# custom transformer that calculates numbers of days from first of january\n",
    "\n",
    "class CustomDateTransformer( BaseEstimator, TransformerMixin ):\n",
    "    def __init__(self):\n",
    "        return None\n",
    "        \n",
    "    def fit(self, X, y = None):\n",
    "        return self\n",
    "    \n",
    "    \n",
    "    def transform(self, X, y=None):\n",
    "        d0 = pd.to_datetime('2020-01-01')\n",
    "        transformed_X = pd.DataFrame(X.copy())\n",
    "\n",
    "        \n",
    "        transformed_X = (transformed_X.apply(pd.to_datetime) - d0)\n",
    "        transformed_X = transformed_X.astype('timedelta64[D]')\n",
    "\n",
    "        return transformed_X"
   ]
  },
  {
   "cell_type": "code",
   "execution_count": 52,
   "metadata": {},
   "outputs": [],
   "source": [
    "# custom transformer that assigns numbers to the age_groups\n",
    "class CustomAgeTransformer( BaseEstimator, TransformerMixin ):\n",
    "    def __init__(self):\n",
    "        return None\n",
    "        \n",
    "    def fit(self, X, y = None):\n",
    "        return self\n",
    "    \n",
    "    \n",
    "    def transform(self, X, y=None):\n",
    "\n",
    "        transformed_X = pd.DataFrame(X.copy())\n",
    "\n",
    "        transformed_X = transformed_X.replace({'80s':80, '20s':20, '<20':10, '60s':60, '50s':50, '70s':70, '30s':30, '40s':40, '90s':90})\n",
    "\n",
    "\n",
    "        return transformed_X\n",
    "\n"
   ]
  },
  {
   "cell_type": "code",
   "execution_count": 53,
   "metadata": {
    "scrolled": true
   },
   "outputs": [],
   "source": [
    "# Define different features and transformer pipeline\n",
    "categorical_features = [\"client_gender\", \"outbreak_related\", \"reporting_phu\", \"reporting_phu_city\", \"reporting_phu_postal_code\"]\n",
    "categorical_transformer = Pipeline(steps=[\n",
    "    (\"imputer\", SimpleImputer(strategy=\"constant\", fill_value=\"missing\")),\n",
    "    (\"onehot\", OneHotEncoder(handle_unknown=\"ignore\"))])\n",
    "\n",
    "age_features = [\"age_group\"]\n",
    "age_transformer = Pipeline(steps=[\n",
    "    (\"imputer\", SimpleImputer(missing_values=\"UNKNOWN\",strategy=\"most_frequent\")),\n",
    "    (\"age_transformer\", CustomAgeTransformer()),\n",
    "    (\"scaler\", StandardScaler())\n",
    "])\n",
    "\n",
    "date_features = [\"accurate_episode_date\"]\n",
    "date_transformer = Pipeline(steps=[\n",
    "    (\"date_transformer\", CustomDateTransformer()), \n",
    "    (\"scaler\", StandardScaler())\n",
    "])\n",
    "\n",
    "\n",
    "preprocessor = ColumnTransformer(\n",
    "    transformers=[\n",
    "        (\"age_transformer\", age_transformer, age_features),\n",
    "        (\"date_transformer\", date_transformer, date_features),\n",
    "        (\"cat_transformer\", categorical_transformer, categorical_features)])\n",
    "\n"
   ]
  },
  {
   "cell_type": "markdown",
   "metadata": {},
   "source": [
    "### Fit models"
   ]
  },
  {
   "cell_type": "markdown",
   "metadata": {},
   "source": [
    "First, we split the data into training and test set. "
   ]
  },
  {
   "cell_type": "code",
   "execution_count": 54,
   "metadata": {},
   "outputs": [],
   "source": [
    "# split data into predictor and target variables\n",
    "X = df.drop(\"outcome1\", axis=1)\n",
    "y = df.outcome1"
   ]
  },
  {
   "cell_type": "code",
   "execution_count": 55,
   "metadata": {},
   "outputs": [],
   "source": [
    "# split data into train and test data\n",
    "np.random.seed(7)\n",
    "\n",
    "X_train, X_test, y_train, y_test = train_test_split(X, \n",
    "                                                   y, \n",
    "                                                   test_size = 0.2)\n"
   ]
  },
  {
   "cell_type": "markdown",
   "metadata": {},
   "source": [
    "To begin with, we try out KNN, Logistic Regression and Random Forest. "
   ]
  },
  {
   "cell_type": "code",
   "execution_count": 15,
   "metadata": {},
   "outputs": [],
   "source": [
    "models = {\"KNN\": KNeighborsClassifier(),\n",
    "          \"Logistic Regression\": LogisticRegression(max_iter = 1000), \n",
    "          \"Random Forest\": RandomForestClassifier()}\n",
    "\n",
    "def fit_and_score(models, X_train, X_test, y_train, y_test):\n",
    "    \"\"\"\n",
    "    Fits and evaluates given machine learning models.\n",
    "    models : a dict of different Scikit-Learn machine learning models\n",
    "    X_train : training data\n",
    "    X_test : testing data\n",
    "    y_train : labels assosciated with training data\n",
    "    y_test : labels assosciated with test data\n",
    "    \"\"\"\n",
    "    # Random seed for reproducible results\n",
    "    np.random.seed(7)\n",
    "    # Make a list to keep model classification reports\n",
    "    model_classification_report = {}\n",
    "    # Loop through models\n",
    "    for name, model in models.items():\n",
    "        # Fit the model to the data\n",
    "        clf = Pipeline(steps=[(\"preprocessor\", preprocessor),\n",
    "                        (\"model\", model)])\n",
    "        clf.fit(X_train, y_train)\n",
    "        y_pred = clf.predict(X_test)\n",
    "        # Evaluate the model and append its classification report\n",
    "        model_classification_report[name] = classification_report(y_test, y_pred)\n",
    "        \n",
    "    return model_classification_report"
   ]
  },
  {
   "cell_type": "code",
   "execution_count": 16,
   "metadata": {},
   "outputs": [],
   "source": [
    "model_scores = fit_and_score(models=models,\n",
    "                             X_train=X_train,\n",
    "                             X_test=X_test,\n",
    "                             y_train=y_train,\n",
    "                             y_test=y_test)\n"
   ]
  },
  {
   "cell_type": "code",
   "execution_count": 17,
   "metadata": {},
   "outputs": [
    {
     "name": "stdout",
     "output_type": "stream",
     "text": [
      "KNN\n",
      "\n",
      "              precision    recall  f1-score   support\n",
      "\n",
      "           0       0.93      0.97      0.95      6467\n",
      "           1       0.39      0.21      0.27       591\n",
      "\n",
      "    accuracy                           0.91      7058\n",
      "   macro avg       0.66      0.59      0.61      7058\n",
      "weighted avg       0.89      0.91      0.89      7058\n",
      "\n",
      "Logistic Regression\n",
      "\n",
      "              precision    recall  f1-score   support\n",
      "\n",
      "           0       0.92      0.99      0.96      6467\n",
      "           1       0.52      0.10      0.17       591\n",
      "\n",
      "    accuracy                           0.92      7058\n",
      "   macro avg       0.72      0.55      0.56      7058\n",
      "weighted avg       0.89      0.92      0.89      7058\n",
      "\n",
      "Random Forest\n",
      "\n",
      "              precision    recall  f1-score   support\n",
      "\n",
      "           0       0.94      0.96      0.95      6467\n",
      "           1       0.41      0.27      0.33       591\n",
      "\n",
      "    accuracy                           0.91      7058\n",
      "   macro avg       0.67      0.62      0.64      7058\n",
      "weighted avg       0.89      0.91      0.90      7058\n",
      "\n"
     ]
    }
   ],
   "source": [
    "for clf in model_scores:\n",
    "    print(clf, model_scores[clf], sep = \"\\n\\n\")\n"
   ]
  },
  {
   "cell_type": "markdown",
   "metadata": {},
   "source": [
    "All three classifiers have low sensitivity (i.e., recall for class 1). In the following, we try to improve the sensitivity by tuning the hyperparameters of the three classifiers. "
   ]
  },
  {
   "cell_type": "markdown",
   "metadata": {},
   "source": [
    "## Hyperparameter Tuning"
   ]
  },
  {
   "cell_type": "markdown",
   "metadata": {},
   "source": [
    "### Tuning KNN by hand"
   ]
  },
  {
   "cell_type": "code",
   "execution_count": 34,
   "metadata": {},
   "outputs": [],
   "source": [
    "from imblearn.over_sampling import SMOTE\n",
    "\n",
    "X_train, X_test, y_train, y_test = train_test_split(X, \n",
    "                                                   y,\n",
    "                                                   test_size=0.2)\n",
    "\n",
    "# since the class imbalance affects KNN, we oversample the minority class to compensate\n",
    "oversample = SMOTE()\n",
    "\n",
    "X_train = preprocessor.fit_transform(X_train)\n",
    "\n",
    "X_train, y_train = oversample.fit_resample(X_train, y_train)\n",
    "\n",
    "X_test = preprocessor.transform(X_test)"
   ]
  },
  {
   "cell_type": "code",
   "execution_count": 35,
   "metadata": {},
   "outputs": [],
   "source": [
    "# Create a list of train scores\n",
    "train_scores = []\n",
    "\n",
    "# Create a list of test scores\n",
    "test_scores = []\n",
    "\n",
    "# Create a dictionary for classification_reports\n",
    "classification_reports = {}\n",
    "\n",
    "# Create a list of different values for n_neighbors\n",
    "neighbors = [2,5,10,20] # 1 to 20\n",
    "\n",
    "# Setup algorithm\n",
    "knn = KNeighborsClassifier()\n",
    "\n",
    "# Loop through different neighbors values\n",
    "for i in neighbors:\n",
    "    knn.set_params(n_neighbors = i) # set neighbors value\n",
    "    \n",
    "    #model = Pipeline(steps=[(\"preprocessor\", preprocessor),\n",
    "     #                   (\"knn\", knn.set_params(n_neighbors = i))])\n",
    "    \n",
    "    knn.fit(X_train, y_train)\n",
    "    \n",
    "    # Update the training scores\n",
    "    train_scores.append(knn.score(X_train, y_train))\n",
    "    \n",
    "    # Update the test scores\n",
    "    test_scores.append(knn.score(X_test, y_test))\n",
    "    \n",
    "    # update the classification reports\n",
    "    classification_reports[i] = classification_report(y_test, knn.predict(X_test))"
   ]
  },
  {
   "cell_type": "code",
   "execution_count": 38,
   "metadata": {},
   "outputs": [
    {
     "data": {
      "text/plain": [
       "[0.903655426466421, 0.8498158118447152, 0.8360725417965429, 0.8134032303768773]"
      ]
     },
     "execution_count": 38,
     "metadata": {},
     "output_type": "execute_result"
    }
   ],
   "source": [
    "test_scores"
   ]
  },
  {
   "cell_type": "code",
   "execution_count": 37,
   "metadata": {},
   "outputs": [
    {
     "name": "stdout",
     "output_type": "stream",
     "text": [
      "Maximum KNN score on the test data: 90.37%\n"
     ]
    },
    {
     "data": {
      "image/png": "[encoded data removed]",
      "text/plain": [
       "<Figure size 432x288 with 1 Axes>"
      ]
     },
     "metadata": {
      "needs_background": "light"
     },
     "output_type": "display_data"
    }
   ],
   "source": [
    "# Plot test vs. train accuracy for KNN\n",
    "plt.plot(range(1,5), train_scores, label=\"Train score\")\n",
    "plt.plot(range(1,5), test_scores, label=\"Test score\")\n",
    "plt.xticks(np.arange(1, 4, 1))\n",
    "plt.xlabel(\"Number of neighbors\")\n",
    "plt.ylabel(\"Model score\")\n",
    "plt.legend()\n",
    "\n",
    "print(f\"Maximum KNN score on the test data: {max(test_scores)*100:.2f}%\")"
   ]
  },
  {
   "cell_type": "code",
   "execution_count": 45,
   "metadata": {},
   "outputs": [
    {
     "name": "stdout",
     "output_type": "stream",
     "text": [
      "2 neighbours:\n",
      "               precision    recall  f1-score   support\n",
      "\n",
      "           0       0.94      0.95      0.95      6533\n",
      "           1       0.34      0.31      0.32       525\n",
      "\n",
      "    accuracy                           0.90      7058\n",
      "   macro avg       0.64      0.63      0.64      7058\n",
      "weighted avg       0.90      0.90      0.90      7058\n",
      "\n",
      "5 neighbours:\n",
      "               precision    recall  f1-score   support\n",
      "\n",
      "           0       0.97      0.87      0.91      6533\n",
      "           1       0.28      0.65      0.39       525\n",
      "\n",
      "    accuracy                           0.85      7058\n",
      "   macro avg       0.62      0.76      0.65      7058\n",
      "weighted avg       0.92      0.85      0.88      7058\n",
      "\n",
      "10 neighbours:\n",
      "               precision    recall  f1-score   support\n",
      "\n",
      "           0       0.97      0.85      0.91      6533\n",
      "           1       0.27      0.71      0.39       525\n",
      "\n",
      "    accuracy                           0.84      7058\n",
      "   macro avg       0.62      0.78      0.65      7058\n",
      "weighted avg       0.92      0.84      0.87      7058\n",
      "\n",
      "20 neighbours:\n",
      "               precision    recall  f1-score   support\n",
      "\n",
      "           0       0.98      0.81      0.89      6533\n",
      "           1       0.26      0.81      0.39       525\n",
      "\n",
      "    accuracy                           0.81      7058\n",
      "   macro avg       0.62      0.81      0.64      7058\n",
      "weighted avg       0.93      0.81      0.85      7058\n",
      "\n"
     ]
    }
   ],
   "source": [
    "for i in classification_reports:\n",
    "    print(i, \"neighbours:\\n\", classification_reports[i])"
   ]
  },
  {
   "cell_type": "markdown",
   "metadata": {},
   "source": [
    "For any of the hyperparameters we tried, the F1 score is not satisfactory, meaning that either recall or precision are low in each case. Next, we try to tune logistic regression and the RandomForestClassifier."
   ]
  },
  {
   "cell_type": "markdown",
   "metadata": {},
   "source": [
    "### Tuning Logistic Regression and RandomForestClassifier using RandomizedSearchCV"
   ]
  },
  {
   "cell_type": "code",
   "execution_count": 47,
   "metadata": {},
   "outputs": [],
   "source": [
    "# Different LogisticRegression hyperparameters\n",
    "log_reg_grid = {\"C\": np.logspace(-4, 4, 20),\n",
    "                \"solver\": [\"liblinear\"]}\n",
    "\n",
    "# Different RandomForestClassifier hyperparameters\n",
    "rf_grid = {\"n_estimators\": np.arange(10, 1000, 50),\n",
    "           \"max_depth\": [None, 3, 5, 10],\n",
    "           \"min_samples_split\": np.arange(2, 20, 2),\n",
    "           \"min_samples_leaf\": np.arange(1, 20, 2)}"
   ]
  },
  {
   "cell_type": "code",
   "execution_count": 52,
   "metadata": {},
   "outputs": [],
   "source": [
    "np.random.seed(7)\n",
    "\n",
    "X_train, X_test, y_train, y_test = train_test_split(X, \n",
    "                                                    y, \n",
    "                                                    test_size=0.2)\n",
    "\n",
    "X_train = preprocessor.fit_transform(X_train)\n",
    "\n",
    "X_test = preprocessor.transform(X_test)"
   ]
  },
  {
   "cell_type": "code",
   "execution_count": 53,
   "metadata": {},
   "outputs": [
    {
     "name": "stdout",
     "output_type": "stream",
     "text": [
      "Fitting 5 folds for each of 20 candidates, totalling 100 fits\n"
     ]
    },
    {
     "name": "stderr",
     "output_type": "stream",
     "text": [
      "[Parallel(n_jobs=1)]: Using backend SequentialBackend with 1 concurrent workers.\n",
      "[Parallel(n_jobs=1)]: Done 100 out of 100 | elapsed:    5.6s finished\n"
     ]
    }
   ],
   "source": [
    "# Setup random hyperparameter search for LogisticRegression\n",
    "rs_log_reg = RandomizedSearchCV(LogisticRegression(),\n",
    "                                param_distributions=log_reg_grid,\n",
    "                                cv=5,\n",
    "                                n_iter=20,\n",
    "                                verbose=True)\n",
    "\n",
    "# Fit random hyperparameter search model\n",
    "rs_log_reg.fit(X_train, y_train);"
   ]
  },
  {
   "cell_type": "code",
   "execution_count": 54,
   "metadata": {},
   "outputs": [
    {
     "data": {
      "text/plain": [
       "{'solver': 'liblinear', 'C': 0.012742749857031334}"
      ]
     },
     "execution_count": 54,
     "metadata": {},
     "output_type": "execute_result"
    }
   ],
   "source": [
    "rs_log_reg.best_params_\n"
   ]
  },
  {
   "cell_type": "code",
   "execution_count": 55,
   "metadata": {},
   "outputs": [
    {
     "data": {
      "text/plain": [
       "0.9172570133182204"
      ]
     },
     "execution_count": 55,
     "metadata": {},
     "output_type": "execute_result"
    }
   ],
   "source": [
    "rs_log_reg.score(X_test, y_test)\n"
   ]
  },
  {
   "cell_type": "code",
   "execution_count": 56,
   "metadata": {},
   "outputs": [
    {
     "name": "stdout",
     "output_type": "stream",
     "text": [
      "Fitting 5 folds for each of 20 candidates, totalling 100 fits\n"
     ]
    },
    {
     "name": "stderr",
     "output_type": "stream",
     "text": [
      "[Parallel(n_jobs=1)]: Using backend SequentialBackend with 1 concurrent workers.\n",
      "[Parallel(n_jobs=1)]: Done 100 out of 100 | elapsed: 14.8min finished\n"
     ]
    }
   ],
   "source": [
    "# Random Forest Classifier\n",
    "# Setup random seed\n",
    "np.random.seed(7)\n",
    "\n",
    "# Setup random hyperparameter search for RandomForestClassifier\n",
    "rs_rf = RandomizedSearchCV(RandomForestClassifier(),\n",
    "                           param_distributions=rf_grid,\n",
    "                           cv=5,\n",
    "                           n_iter=20,\n",
    "                           verbose=True)\n",
    "\n",
    "# Fit random hyperparameter search model\n",
    "rs_rf.fit(X_train, y_train);"
   ]
  },
  {
   "cell_type": "code",
   "execution_count": 57,
   "metadata": {},
   "outputs": [
    {
     "data": {
      "text/plain": [
       "{'n_estimators': 860,\n",
       " 'min_samples_split': 18,\n",
       " 'min_samples_leaf': 5,\n",
       " 'max_depth': None}"
      ]
     },
     "execution_count": 57,
     "metadata": {},
     "output_type": "execute_result"
    }
   ],
   "source": [
    "# Find the best parameters\n",
    "rs_rf.best_params_"
   ]
  },
  {
   "cell_type": "code",
   "execution_count": 58,
   "metadata": {},
   "outputs": [
    {
     "data": {
      "text/plain": [
       "0.9169736469254747"
      ]
     },
     "execution_count": 58,
     "metadata": {},
     "output_type": "execute_result"
    }
   ],
   "source": [
    "# Evaluate the randomized search random forest model\n",
    "rs_rf.score(X_test, y_test)"
   ]
  },
  {
   "cell_type": "markdown",
   "metadata": {},
   "source": [
    "## Further evaluation metrics"
   ]
  },
  {
   "cell_type": "code",
   "execution_count": 59,
   "metadata": {},
   "outputs": [
    {
     "data": {
      "image/png": "[encoded data removed]",
      "text/plain": [
       "<Figure size 432x288 with 1 Axes>"
      ]
     },
     "metadata": {
      "needs_background": "light"
     },
     "output_type": "display_data"
    }
   ],
   "source": [
    "# ROC Curve\n",
    "plot_roc_curve(rs_rf, X_test, y_test);"
   ]
  },
  {
   "cell_type": "code",
   "execution_count": 60,
   "metadata": {},
   "outputs": [
    {
     "data": {
      "image/png": "[encoded data removed]",
      "text/plain": [
       "<Figure size 432x288 with 1 Axes>"
      ]
     },
     "metadata": {
      "needs_background": "light"
     },
     "output_type": "display_data"
    }
   ],
   "source": [
    "plot_roc_curve(rs_log_reg, X_test, y_test);"
   ]
  },
  {
   "cell_type": "code",
   "execution_count": 62,
   "metadata": {},
   "outputs": [
    {
     "name": "stdout",
     "output_type": "stream",
     "text": [
      "Confusion matrix, without normalization\n",
      "[[6433   34]\n",
      " [ 550   41]]\n",
      "Normalized confusion matrix\n",
      "[[0.99474254 0.00525746]\n",
      " [0.93062606 0.06937394]]\n"
     ]
    },
    {
     "data": {
      "image/png": "[encoded data removed]",
      "text/plain": [
       "<Figure size 432x288 with 2 Axes>"
      ]
     },
     "metadata": {
      "needs_background": "light"
     },
     "output_type": "display_data"
    },
    {
     "data": {
      "image/png": "[encoded data removed]",
      "text/plain": [
       "<Figure size 432x288 with 2 Axes>"
      ]
     },
     "metadata": {
      "needs_background": "light"
     },
     "output_type": "display_data"
    }
   ],
   "source": [
    "# plot_confusion_matrix for logistic regression\n",
    "\n",
    "titles_options = [(\"Confusion matrix, without normalization\", None),\n",
    "                  (\"Normalized confusion matrix\", 'true')]\n",
    "for title, normalize in titles_options:\n",
    "    disp = plot_confusion_matrix(rs_log_reg, X_test, y_test,\n",
    "                                 cmap=plt.cm.Blues,\n",
    "                                 normalize=normalize)\n",
    "    disp.ax_.set_title(title)\n",
    "\n",
    "    print(title)\n",
    "    print(disp.confusion_matrix)\n",
    "\n",
    "plt.show()"
   ]
  },
  {
   "cell_type": "code",
   "execution_count": 63,
   "metadata": {},
   "outputs": [
    {
     "name": "stdout",
     "output_type": "stream",
     "text": [
      "Confusion matrix, without normalization\n",
      "[[6432   35]\n",
      " [ 551   40]]\n",
      "Normalized confusion matrix\n",
      "[[0.99458791 0.00541209]\n",
      " [0.9323181  0.0676819 ]]\n"
     ]
    },
    {
     "data": {
      "image/png": "[encoded data removed]",
      "text/plain": [
       "<Figure size 432x288 with 2 Axes>"
      ]
     },
     "metadata": {
      "needs_background": "light"
     },
     "output_type": "display_data"
    },
    {
     "data": {
      "image/png": "[encoded data removed]",
      "text/plain": [
       "<Figure size 432x288 with 2 Axes>"
      ]
     },
     "metadata": {
      "needs_background": "light"
     },
     "output_type": "display_data"
    }
   ],
   "source": [
    "titles_options = [(\"Confusion matrix, without normalization\", None),\n",
    "                  (\"Normalized confusion matrix\", 'true')]\n",
    "for title, normalize in titles_options:\n",
    "    disp = plot_confusion_matrix(rs_rf, X_test, y_test,\n",
    "                                 cmap=plt.cm.Blues,\n",
    "                                 normalize=normalize)\n",
    "    disp.ax_.set_title(title)\n",
    "\n",
    "    print(title)\n",
    "    print(disp.confusion_matrix)\n",
    "\n",
    "plt.show()"
   ]
  },
  {
   "cell_type": "code",
   "execution_count": 65,
   "metadata": {},
   "outputs": [
    {
     "name": "stdout",
     "output_type": "stream",
     "text": [
      "              precision    recall  f1-score   support\n",
      "\n",
      "           0       0.92      0.99      0.96      6467\n",
      "           1       0.55      0.07      0.12       591\n",
      "\n",
      "    accuracy                           0.92      7058\n",
      "   macro avg       0.73      0.53      0.54      7058\n",
      "weighted avg       0.89      0.92      0.89      7058\n",
      "\n"
     ]
    }
   ],
   "source": [
    "# classification report\n",
    "y_preds = rs_log_reg.predict(X_test)\n",
    "\n",
    "print(classification_report(y_test, y_preds))"
   ]
  },
  {
   "cell_type": "code",
   "execution_count": 66,
   "metadata": {},
   "outputs": [
    {
     "name": "stdout",
     "output_type": "stream",
     "text": [
      "              precision    recall  f1-score   support\n",
      "\n",
      "           0       0.92      0.99      0.96      6467\n",
      "           1       0.53      0.07      0.12       591\n",
      "\n",
      "    accuracy                           0.92      7058\n",
      "   macro avg       0.73      0.53      0.54      7058\n",
      "weighted avg       0.89      0.92      0.89      7058\n",
      "\n"
     ]
    }
   ],
   "source": [
    "# classification report\n",
    "y_preds = rs_rf.predict(X_test)\n",
    "\n",
    "print(classification_report(y_test, y_preds))"
   ]
  },
  {
   "cell_type": "markdown",
   "metadata": {},
   "source": [
    "The evaluation metrics reveal that the trained classifiers perform very poorly on predicting fatal outcomes. Therefore, we train logistic regression again whilst accounting for class imbalance."
   ]
  },
  {
   "cell_type": "markdown",
   "metadata": {},
   "source": [
    "## Acounting for class imbalance"
   ]
  },
  {
   "cell_type": "code",
   "execution_count": 56,
   "metadata": {},
   "outputs": [
    {
     "data": {
      "text/plain": [
       "0.8104278832530462"
      ]
     },
     "execution_count": 56,
     "metadata": {},
     "output_type": "execute_result"
    }
   ],
   "source": [
    "# logistic regression accounting for class labels\n",
    "np.random.seed(42)\n",
    "\n",
    "\n",
    "# set class weights to be the inverse of class probabilities\n",
    "w = {1:92, 0:8}\n",
    "# Setup random hyperparameter search for LogisticRegression\n",
    "clf = Pipeline(steps=[(\"preprocessor\", preprocessor), \n",
    "                      (\"logreg\", LogisticRegression(C = 0.0127, \n",
    "                                                    class_weight=w, \n",
    "                                                    random_state=13, \n",
    "                                                    max_iter=1000))])\n",
    "\n",
    "# Fit random hyperparameter search model\n",
    "clf.fit(X_train, y_train)\n",
    "clf.score(X_test, y_test)"
   ]
  },
  {
   "cell_type": "markdown",
   "metadata": {},
   "source": [
    "#### Evaluating the final logistic regression model"
   ]
  },
  {
   "cell_type": "code",
   "execution_count": 19,
   "metadata": {},
   "outputs": [],
   "source": [
    "y_pred = clf.predict(X_test)"
   ]
  },
  {
   "cell_type": "code",
   "execution_count": 57,
   "metadata": {},
   "outputs": [
    {
     "name": "stdout",
     "output_type": "stream",
     "text": [
      "Area Under Curve: 0.8358237853143264\n"
     ]
    },
    {
     "data": {
      "image/png": "[encoded data removed]",
      "text/plain": [
       "<Figure size 432x288 with 1 Axes>"
      ]
     },
     "metadata": {
      "needs_background": "light"
     },
     "output_type": "display_data"
    }
   ],
   "source": [
    "# ROC curve\n",
    "plot_roc_curve(clf, X_test, y_test)\n",
    "print(f'Area Under Curve: {roc_auc_score(y_test, y_pred)}')"
   ]
  },
  {
   "cell_type": "code",
   "execution_count": 27,
   "metadata": {},
   "outputs": [
    {
     "data": {
      "text/plain": [
       "scipy.sparse.csr.csr_matrix"
      ]
     },
     "execution_count": 27,
     "metadata": {},
     "output_type": "execute_result"
    }
   ],
   "source": [
    "type(X)"
   ]
  },
  {
   "cell_type": "code",
   "execution_count": 60,
   "metadata": {},
   "outputs": [
    {
     "name": "stdout",
     "output_type": "stream",
     "text": [
      "              precision    recall  f1-score   support\n",
      "\n",
      "           0       0.99      0.81      0.89      6467\n",
      "           1       0.29      0.87      0.43       591\n",
      "\n",
      "    accuracy                           0.81      7058\n",
      "   macro avg       0.64      0.84      0.66      7058\n",
      "weighted avg       0.93      0.81      0.85      7058\n",
      "\n"
     ]
    }
   ],
   "source": [
    "# classification report\n",
    "print(classification_report(y_test, y_pred))"
   ]
  },
  {
   "cell_type": "code",
   "execution_count": 61,
   "metadata": {},
   "outputs": [
    {
     "name": "stdout",
     "output_type": "stream",
     "text": [
      "normalized confusion matrix\n",
      "[[0.80531931 0.19468069]\n",
      " [0.13367174 0.86632826]]\n"
     ]
    },
    {
     "data": {
      "image/png": "[encoded data removed]",
      "text/plain": [
       "<Figure size 432x288 with 2 Axes>"
      ]
     },
     "metadata": {
      "needs_background": "light"
     },
     "output_type": "display_data"
    }
   ],
   "source": [
    "# Confusion Matrix\n",
    "\n",
    "title = \"normalized confusion matrix\"\n",
    "\n",
    "disp = plot_confusion_matrix(clf, X_test, y_test,\n",
    "                                 cmap=plt.cm.Blues,\n",
    "                                 normalize='true'\n",
    "                            )\n",
    "disp.ax_.set_title(title)\n",
    "\n",
    "print(title)\n",
    "print(disp.confusion_matrix)\n",
    "\n",
    "plt.show()"
   ]
  },
  {
   "cell_type": "markdown",
   "metadata": {},
   "source": [
    "The performance of the ML model is now better than before. However, accuracy is relatively low (around 80 %) and the F1 score is still not great. This makes us assume that maybe the data does not offer enough information to answer the research question. "
   ]
  },
  {
   "cell_type": "markdown",
   "metadata": {},
   "source": [
    "## Feature importance"
   ]
  },
  {
   "cell_type": "code",
   "execution_count": 62,
   "metadata": {},
   "outputs": [],
   "source": [
    "# get feature names after transformation\n",
    "cat_feature_names = clf.named_steps['preprocessor'].transformers_[2][1]\\\n",
    "    .named_steps['onehot'].get_feature_names(categorical_features)\n",
    "\n",
    "feature_names = [\"age_group\", \"accurate_episode_date\"] + list(cat_feature_names)"
   ]
  },
  {
   "cell_type": "code",
   "execution_count": 63,
   "metadata": {},
   "outputs": [],
   "source": [
    "# combine feature names and logistic regression coefficients in a dictionary\n",
    "feature_dict = dict(zip(feature_names, list(clf.named_steps[\"logreg\"].coef_[0])))\n"
   ]
  },
  {
   "cell_type": "code",
   "execution_count": 64,
   "metadata": {},
   "outputs": [
    {
     "data": {
      "text/plain": [
       "<matplotlib.axes._subplots.AxesSubplot at 0x12add6730>"
      ]
     },
     "execution_count": 64,
     "metadata": {},
     "output_type": "execute_result"
    },
    {
     "data": {
      "image/png": "[encoded data removed]",
      "text/plain": [
       "<Figure size 432x288 with 1 Axes>"
      ]
     },
     "metadata": {
      "needs_background": "light"
     },
     "output_type": "display_data"
    }
   ],
   "source": [
    "# visualize feature importance\n",
    "feature_df = pd.DataFrame(feature_dict, index=[0])\n",
    "feature_df.T.plot.bar(title=\"Feature Importance\", legend=False)\n"
   ]
  },
  {
   "cell_type": "code",
   "execution_count": 74,
   "metadata": {},
   "outputs": [
    {
     "data": {
      "image/png": "[encoded data removed]",
      "text/plain": [
       "<Figure size 432x288 with 1 Axes>"
      ]
     },
     "metadata": {
      "needs_background": "light"
     },
     "output_type": "display_data"
    }
   ],
   "source": [
    "# only show most important features \n",
    "from operator import itemgetter \n",
    "\n",
    "N = 20\n",
    "\n",
    "important_features = dict(sorted(feature_dict.items(), key = itemgetter(1), reverse = True)[:N])\n",
    "\n",
    "# visualize feature importance\n",
    "important_features_df = pd.DataFrame(important_features, index=[0])\n",
    "\n",
    "ax = important_features_df.T.plot.bar(title=\"Feature Importance\", legend=False);\n"
   ]
  },
  {
   "cell_type": "markdown",
   "metadata": {},
   "source": [
    "It turns out that age is by far the most important feature. "
   ]
  }
 ],
 "metadata": {
  "kernelspec": {
   "display_name": "Python 3",
   "language": "python",
   "name": "python3"
  },
  "language_info": {
   "codemirror_mode": {
    "name": "ipython",
    "version": 3
   },
   "file_extension": ".py",
   "mimetype": "text/x-python",
   "name": "python",
   "nbconvert_exporter": "python",
   "pygments_lexer": "ipython3",
   "version": "3.7.6"
  }
 },
 "nbformat": 4,
 "nbformat_minor": 4
}
