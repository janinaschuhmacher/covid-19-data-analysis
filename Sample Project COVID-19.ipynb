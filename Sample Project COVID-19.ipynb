{
 "cells": [
  {
   "cell_type": "markdown",
   "metadata": {},
   "source": [
    "# Sample Project Coronavirus"
   ]
  },
  {
   "cell_type": "markdown",
   "metadata": {},
   "source": [
    "The goal of this project is to explore a dataset of coronavirus patients to train a model which predicts whether a patient will die or recover from Coronavirus. "
   ]
  },
  {
   "cell_type": "markdown",
   "metadata": {},
   "source": [
    "## About the data"
   ]
  },
  {
   "cell_type": "markdown",
   "metadata": {},
   "source": [
    "The dataset confirmed-positive-on data comes from https://howsmyflattening.ca/#/data/. \n",
    "\n",
    "The site is set up by a group of physicians, medical students, computational health researchers, designers and epidemiologists who aim to rapidly filter and present emergent COVID-19 data to help Ontario #FlattenTheCurve. They intend to connect experts and present data in an easy to digest, actionable way to help Ontario's public leaders and individuals act decisively as evidence grows and time ticks by."
   ]
  },
  {
   "cell_type": "markdown",
   "metadata": {},
   "source": [
    "### Confirmed positive cases of COVID19 in Ontario"
   ]
  },
  {
   "cell_type": "markdown",
   "metadata": {},
   "source": [
    "The dataset includes compiled daily reported data from public health units on confirmed positive cases of COVID-19 in Ontario. It includes data on patients from 1st January 2020 to 28th June 2020 and is updated daily. Currently, the dataset inludes data from 37,947 patients. Case data is as initially reported.\n",
    "\n",
    "The following are the features which we will use for predicting the outcome variable (recovered or diseased).\n",
    "\n",
    "1. accurate_episode_date - date of diagnosis\n",
    "2. age_group - categorized to <20, 30s, 40s, 50s, 60s, 70s, 80s or 90s\n",
    "3. client_gender - female, male, unkown, other,or transgender\n",
    "4. outbreak_related - Yes or no entry\n",
    "5. reporting_phu_latitude - Latitude of the reporting public health unit\n",
    "6. reporting_phu_longitude - longitude of the reporting public health unit\n",
    "\n",
    "\n"
   ]
  },
  {
   "cell_type": "markdown",
   "metadata": {},
   "source": [
    "## Load necessary packages"
   ]
  },
  {
   "cell_type": "code",
   "execution_count": 1,
   "metadata": {},
   "outputs": [],
   "source": [
    "# Exploratory Data Analysis and plotting libraries \n",
    "import numpy as np\n",
    "import pandas as pd\n",
    "import matplotlib.pyplot as plt\n",
    "import seaborn as sns\n",
    "\n",
    "%matplotlib inline\n",
    "\n",
    "# Data Cleaning with Scikit Learn\n",
    "from sklearn.preprocessing import OneHotEncoder, StandardScaler\n",
    "from sklearn.compose import ColumnTransformer\n",
    "from sklearn.base import BaseEstimator, TransformerMixin\n",
    "from sklearn.impute import SimpleImputer\n",
    "from sklearn.pipeline import Pipeline\n",
    "from sklearn import preprocessing\n",
    "\n",
    "# convert data time\n",
    "from datetime import date\n",
    "from datetime import datetime\n",
    "\n",
    "# Models from Skikit Learn\n",
    "from sklearn.linear_model import LogisticRegression\n",
    "from sklearn.neighbors import KNeighborsClassifier\n",
    "from sklearn.ensemble import RandomForestClassifier\n",
    "\n",
    "\n",
    "# Model Evaluation\n",
    "from sklearn.model_selection import train_test_split, cross_val_score\n",
    "from sklearn.model_selection import RandomizedSearchCV, GridSearchCV\n",
    "from sklearn.metrics import confusion_matrix, classification_report\n",
    "from sklearn.metrics import precision_score, recall_score, f1_score, accuracy_score\n",
    "from sklearn.metrics import plot_roc_curve, roc_curve, roc_auc_score\n",
    "from sklearn.metrics import plot_confusion_matrix\n",
    "\n"
   ]
  },
  {
   "cell_type": "markdown",
   "metadata": {},
   "source": [
    "## Load Data"
   ]
  },
  {
   "cell_type": "code",
   "execution_count": 2,
   "metadata": {},
   "outputs": [
    {
     "data": {
      "text/plain": [
       "(37947, 18)"
      ]
     },
     "execution_count": 2,
     "metadata": {},
     "output_type": "execute_result"
    }
   ],
   "source": [
    "df = pd.read_csv(\"confirmed_positive_on.csv\", sep =\";\")\n",
    "df.shape"
   ]
  },
  {
   "cell_type": "markdown",
   "metadata": {},
   "source": [
    "## Explorative Data Anlysis"
   ]
  },
  {
   "cell_type": "code",
   "execution_count": 3,
   "metadata": {},
   "outputs": [
    {
     "data": {
      "text/html": [
       "<div>\n",
       "<style scoped>\n",
       "    .dataframe tbody tr th:only-of-type {\n",
       "        vertical-align: middle;\n",
       "    }\n",
       "\n",
       "    .dataframe tbody tr th {\n",
       "        vertical-align: top;\n",
       "    }\n",
       "\n",
       "    .dataframe thead th {\n",
       "        text-align: right;\n",
       "    }\n",
       "</style>\n",
       "<table border=\"1\" class=\"dataframe\">\n",
       "  <thead>\n",
       "    <tr style=\"text-align: right;\">\n",
       "      <th></th>\n",
       "      <th>id</th>\n",
       "      <th>row_id</th>\n",
       "      <th>accurate_episode_date</th>\n",
       "      <th>age_group</th>\n",
       "      <th>client_gender</th>\n",
       "      <th>case_acquisitionInfo</th>\n",
       "      <th>outcome1</th>\n",
       "      <th>outbreak_related</th>\n",
       "      <th>reporting_phu</th>\n",
       "      <th>reporting_phu_address</th>\n",
       "      <th>reporting_phu_city</th>\n",
       "      <th>reporting_phu_postal_code</th>\n",
       "      <th>reporting_phu_website</th>\n",
       "      <th>reporting_phu_latitude</th>\n",
       "      <th>reporting_phu_longitude</th>\n",
       "      <th>case_reported_date</th>\n",
       "      <th>specimen_reported_date</th>\n",
       "      <th>test_reported_date</th>\n",
       "    </tr>\n",
       "  </thead>\n",
       "  <tbody>\n",
       "    <tr>\n",
       "      <th>0</th>\n",
       "      <td>4066</td>\n",
       "      <td>4066</td>\n",
       "      <td>2020-03-28</td>\n",
       "      <td>20s</td>\n",
       "      <td>FEMALE</td>\n",
       "      <td>Travel</td>\n",
       "      <td>Resolved</td>\n",
       "      <td>NaN</td>\n",
       "      <td>Windsor-Essex County Health Unit</td>\n",
       "      <td>1005 Ouellette Avenue</td>\n",
       "      <td>Windsor</td>\n",
       "      <td>N9A 4J8</td>\n",
       "      <td>www.wechu.org</td>\n",
       "      <td>42.308796</td>\n",
       "      <td>-83.033670</td>\n",
       "      <td>2020-04-03</td>\n",
       "      <td>2020-03-30</td>\n",
       "      <td>2020-04-03</td>\n",
       "    </tr>\n",
       "    <tr>\n",
       "      <th>1</th>\n",
       "      <td>1091</td>\n",
       "      <td>1091</td>\n",
       "      <td>2020-03-13</td>\n",
       "      <td>30s</td>\n",
       "      <td>MALE</td>\n",
       "      <td>Travel</td>\n",
       "      <td>Resolved</td>\n",
       "      <td>NaN</td>\n",
       "      <td>Ottawa Public Health</td>\n",
       "      <td>100 Constellation Drive</td>\n",
       "      <td>Ottawa</td>\n",
       "      <td>K2G 6J8</td>\n",
       "      <td>www.ottawapublichealth.ca</td>\n",
       "      <td>45.345665</td>\n",
       "      <td>-75.763912</td>\n",
       "      <td>2020-03-26</td>\n",
       "      <td>2020-03-17</td>\n",
       "      <td>2020-03-26</td>\n",
       "    </tr>\n",
       "    <tr>\n",
       "      <th>2</th>\n",
       "      <td>34119</td>\n",
       "      <td>33188</td>\n",
       "      <td>2020-04-12</td>\n",
       "      <td>20s</td>\n",
       "      <td>FEMALE</td>\n",
       "      <td>No Epi-link</td>\n",
       "      <td>Resolved</td>\n",
       "      <td>NaN</td>\n",
       "      <td>Middlesex-London Health Unit</td>\n",
       "      <td>50 King Street</td>\n",
       "      <td>London</td>\n",
       "      <td>N6A 5L7</td>\n",
       "      <td>www.healthunit.com</td>\n",
       "      <td>42.981468</td>\n",
       "      <td>-81.254016</td>\n",
       "      <td>2020-05-20</td>\n",
       "      <td>2020-05-17</td>\n",
       "      <td>2020-05-20</td>\n",
       "    </tr>\n",
       "    <tr>\n",
       "      <th>3</th>\n",
       "      <td>9095</td>\n",
       "      <td>9095</td>\n",
       "      <td>2020-04-12</td>\n",
       "      <td>30s</td>\n",
       "      <td>FEMALE</td>\n",
       "      <td>CC</td>\n",
       "      <td>Resolved</td>\n",
       "      <td>NaN</td>\n",
       "      <td>Region of Waterloo, Public Health</td>\n",
       "      <td>99 Regina Street South</td>\n",
       "      <td>Waterloo</td>\n",
       "      <td>N2J 4V3</td>\n",
       "      <td>www.regionofwaterloo.ca</td>\n",
       "      <td>43.462876</td>\n",
       "      <td>-80.520913</td>\n",
       "      <td>2020-04-15</td>\n",
       "      <td>2020-04-14</td>\n",
       "      <td>2020-04-15</td>\n",
       "    </tr>\n",
       "    <tr>\n",
       "      <th>4</th>\n",
       "      <td>1713</td>\n",
       "      <td>1713</td>\n",
       "      <td>2020-03-23</td>\n",
       "      <td>30s</td>\n",
       "      <td>MALE</td>\n",
       "      <td>CC</td>\n",
       "      <td>Resolved</td>\n",
       "      <td>NaN</td>\n",
       "      <td>Eastern Ontario Health Unit</td>\n",
       "      <td>1000 Pitt Street</td>\n",
       "      <td>Cornwall</td>\n",
       "      <td>K6J 5T1</td>\n",
       "      <td>www.eohu.ca</td>\n",
       "      <td>45.029152</td>\n",
       "      <td>-74.736298</td>\n",
       "      <td>2020-04-01</td>\n",
       "      <td>2020-03-24</td>\n",
       "      <td>2020-04-01</td>\n",
       "    </tr>\n",
       "  </tbody>\n",
       "</table>\n",
       "</div>"
      ],
      "text/plain": [
       "      id  row_id accurate_episode_date age_group client_gender  \\\n",
       "0   4066    4066            2020-03-28       20s        FEMALE   \n",
       "1   1091    1091            2020-03-13       30s          MALE   \n",
       "2  34119   33188            2020-04-12       20s        FEMALE   \n",
       "3   9095    9095            2020-04-12       30s        FEMALE   \n",
       "4   1713    1713            2020-03-23       30s          MALE   \n",
       "\n",
       "  case_acquisitionInfo  outcome1 outbreak_related  \\\n",
       "0               Travel  Resolved              NaN   \n",
       "1               Travel  Resolved              NaN   \n",
       "2          No Epi-link  Resolved              NaN   \n",
       "3                   CC  Resolved              NaN   \n",
       "4                   CC  Resolved              NaN   \n",
       "\n",
       "                       reporting_phu    reporting_phu_address  \\\n",
       "0   Windsor-Essex County Health Unit    1005 Ouellette Avenue   \n",
       "1               Ottawa Public Health  100 Constellation Drive   \n",
       "2       Middlesex-London Health Unit           50 King Street   \n",
       "3  Region of Waterloo, Public Health   99 Regina Street South   \n",
       "4        Eastern Ontario Health Unit         1000 Pitt Street   \n",
       "\n",
       "  reporting_phu_city reporting_phu_postal_code      reporting_phu_website  \\\n",
       "0            Windsor                   N9A 4J8              www.wechu.org   \n",
       "1             Ottawa                   K2G 6J8  www.ottawapublichealth.ca   \n",
       "2             London                   N6A 5L7         www.healthunit.com   \n",
       "3           Waterloo                   N2J 4V3    www.regionofwaterloo.ca   \n",
       "4           Cornwall                   K6J 5T1                www.eohu.ca   \n",
       "\n",
       "   reporting_phu_latitude  reporting_phu_longitude case_reported_date  \\\n",
       "0               42.308796               -83.033670         2020-04-03   \n",
       "1               45.345665               -75.763912         2020-03-26   \n",
       "2               42.981468               -81.254016         2020-05-20   \n",
       "3               43.462876               -80.520913         2020-04-15   \n",
       "4               45.029152               -74.736298         2020-04-01   \n",
       "\n",
       "  specimen_reported_date test_reported_date  \n",
       "0             2020-03-30         2020-04-03  \n",
       "1             2020-03-17         2020-03-26  \n",
       "2             2020-05-17         2020-05-20  \n",
       "3             2020-04-14         2020-04-15  \n",
       "4             2020-03-24         2020-04-01  "
      ]
     },
     "execution_count": 3,
     "metadata": {},
     "output_type": "execute_result"
    }
   ],
   "source": [
    "df.head()"
   ]
  },
  {
   "cell_type": "code",
   "execution_count": 4,
   "metadata": {},
   "outputs": [
    {
     "data": {
      "image/png": "[encoded data removed]",
      "text/plain": [
       "<Figure size 432x288 with 1 Axes>"
      ]
     },
     "metadata": {
      "needs_background": "light"
     },
     "output_type": "display_data"
    }
   ],
   "source": [
    "# plot frequency of target variable categories\n",
    "\n",
    "fig, ax = plt.subplots()\n",
    "ax.bar(x = list(set(df[\"outcome1\"])), height = df[\"outcome1\"].value_counts(), color=['darkred', 'g', 'orange'])\n",
    "ax.set_ylabel(\"nr of cases\")\n",
    "ax.set_title(\"Outcome of COVID-19 disease\")\n",
    "\n",
    "plt.show()\n",
    "\n"
   ]
  },
  {
   "cell_type": "code",
   "execution_count": 5,
   "metadata": {},
   "outputs": [
    {
     "data": {
      "text/plain": [
       "Resolved        0.854033\n",
       "Fatal           0.075895\n",
       "Not Resolved    0.070071\n",
       "Name: outcome1, dtype: float64"
      ]
     },
     "execution_count": 5,
     "metadata": {},
     "output_type": "execute_result"
    }
   ],
   "source": [
    "df[\"outcome1\"].value_counts(normalize = True)"
   ]
  },
  {
   "cell_type": "markdown",
   "metadata": {},
   "source": [
    "The dataset is highly unbalanced with approximately 85 % recoveries, 8 % fatal outcomes and 7 % not yet resolved cases. For now, we shall exclude unresolved cases from our analysis and label \"Fatal\" outcome as 1 and Resolved as 0."
   ]
  },
  {
   "cell_type": "code",
   "execution_count": 5,
   "metadata": {},
   "outputs": [],
   "source": [
    "df.drop(df[df[\"outcome1\"] == \"Not Resolved\"].index, inplace = True)\n",
    "df[\"outcome1\"].replace({\"Fatal\": 1, \"Resolved\": 0}, inplace = True)"
   ]
  },
  {
   "cell_type": "code",
   "execution_count": 6,
   "metadata": {},
   "outputs": [
    {
     "data": {
      "text/plain": [
       "0    0.918386\n",
       "1    0.081614\n",
       "Name: outcome1, dtype: float64"
      ]
     },
     "execution_count": 6,
     "metadata": {},
     "output_type": "execute_result"
    }
   ],
   "source": [
    "df[\"outcome1\"].value_counts(normalize = True)"
   ]
  },
  {
   "cell_type": "code",
   "execution_count": 122,
   "metadata": {},
   "outputs": [
    {
     "name": "stdout",
     "output_type": "stream",
     "text": [
      "<class 'pandas.core.frame.DataFrame'>\n",
      "Int64Index: 35288 entries, 0 to 37946\n",
      "Data columns (total 18 columns):\n",
      " #   Column                     Non-Null Count  Dtype  \n",
      "---  ------                     --------------  -----  \n",
      " 0   id                         35288 non-null  int64  \n",
      " 1   row_id                     35288 non-null  int64  \n",
      " 2   accurate_episode_date      35286 non-null  object \n",
      " 3   age_group                  35288 non-null  object \n",
      " 4   client_gender              35288 non-null  object \n",
      " 5   case_acquisitionInfo       35288 non-null  object \n",
      " 6   outcome1                   35288 non-null  int64  \n",
      " 7   outbreak_related           14676 non-null  object \n",
      " 8   reporting_phu              35288 non-null  object \n",
      " 9   reporting_phu_address      35288 non-null  object \n",
      " 10  reporting_phu_city         35288 non-null  object \n",
      " 11  reporting_phu_postal_code  35288 non-null  object \n",
      " 12  reporting_phu_website      35288 non-null  object \n",
      " 13  reporting_phu_latitude     35288 non-null  float64\n",
      " 14  reporting_phu_longitude    35288 non-null  float64\n",
      " 15  case_reported_date         35288 non-null  object \n",
      " 16  specimen_reported_date     34959 non-null  object \n",
      " 17  test_reported_date         34841 non-null  object \n",
      "dtypes: float64(2), int64(3), object(13)\n",
      "memory usage: 5.1+ MB\n"
     ]
    }
   ],
   "source": [
    "df.info()"
   ]
  },
  {
   "cell_type": "markdown",
   "metadata": {},
   "source": [
    "### COVID 19 outcome according to Gender"
   ]
  },
  {
   "cell_type": "code",
   "execution_count": 9,
   "metadata": {},
   "outputs": [
    {
     "data": {
      "text/plain": [
       "FEMALE         19006\n",
       "MALE           16005\n",
       "UNKNOWN          262\n",
       "OTHER              8\n",
       "TRANSGENDER        7\n",
       "Name: client_gender, dtype: int64"
      ]
     },
     "execution_count": 9,
     "metadata": {},
     "output_type": "execute_result"
    }
   ],
   "source": [
    "df.client_gender.value_counts()"
   ]
  },
  {
   "cell_type": "code",
   "execution_count": 10,
   "metadata": {},
   "outputs": [
    {
     "data": {
      "text/html": [
       "<div>\n",
       "<style scoped>\n",
       "    .dataframe tbody tr th:only-of-type {\n",
       "        vertical-align: middle;\n",
       "    }\n",
       "\n",
       "    .dataframe tbody tr th {\n",
       "        vertical-align: top;\n",
       "    }\n",
       "\n",
       "    .dataframe thead th {\n",
       "        text-align: right;\n",
       "    }\n",
       "</style>\n",
       "<table border=\"1\" class=\"dataframe\">\n",
       "  <thead>\n",
       "    <tr style=\"text-align: right;\">\n",
       "      <th>client_gender</th>\n",
       "      <th>FEMALE</th>\n",
       "      <th>MALE</th>\n",
       "      <th>OTHER</th>\n",
       "      <th>TRANSGENDER</th>\n",
       "      <th>UNKNOWN</th>\n",
       "    </tr>\n",
       "    <tr>\n",
       "      <th>outcome1</th>\n",
       "      <th></th>\n",
       "      <th></th>\n",
       "      <th></th>\n",
       "      <th></th>\n",
       "      <th></th>\n",
       "    </tr>\n",
       "  </thead>\n",
       "  <tbody>\n",
       "    <tr>\n",
       "      <th>0</th>\n",
       "      <td>17462</td>\n",
       "      <td>14712</td>\n",
       "      <td>8</td>\n",
       "      <td>6</td>\n",
       "      <td>220</td>\n",
       "    </tr>\n",
       "    <tr>\n",
       "      <th>1</th>\n",
       "      <td>1544</td>\n",
       "      <td>1293</td>\n",
       "      <td>0</td>\n",
       "      <td>1</td>\n",
       "      <td>42</td>\n",
       "    </tr>\n",
       "  </tbody>\n",
       "</table>\n",
       "</div>"
      ],
      "text/plain": [
       "client_gender  FEMALE   MALE  OTHER  TRANSGENDER  UNKNOWN\n",
       "outcome1                                                 \n",
       "0               17462  14712      8            6      220\n",
       "1                1544   1293      0            1       42"
      ]
     },
     "execution_count": 10,
     "metadata": {},
     "output_type": "execute_result"
    }
   ],
   "source": [
    "pd.crosstab(df.outcome1, df.client_gender)"
   ]
  },
  {
   "cell_type": "code",
   "execution_count": 11,
   "metadata": {
    "scrolled": true
   },
   "outputs": [
    {
     "data": {
      "text/plain": [
       "0.08842057038139961"
      ]
     },
     "execution_count": 11,
     "metadata": {},
     "output_type": "execute_result"
    }
   ],
   "source": [
    "female_fatal = sum((df.client_gender == \"FEMALE\") & (df.outcome1 == 1))\n",
    "female_resolved = sum((df.client_gender == \"FEMALE\") & (df.outcome1 == 0))\n",
    "mortality_rate_female = female_fatal / female_resolved\n",
    "mortality_rate_female\n"
   ]
  },
  {
   "cell_type": "code",
   "execution_count": 12,
   "metadata": {},
   "outputs": [
    {
     "data": {
      "text/plain": [
       "0.08788743882544861"
      ]
     },
     "execution_count": 12,
     "metadata": {},
     "output_type": "execute_result"
    }
   ],
   "source": [
    "male_fatal = sum((df.client_gender == \"MALE\") & (df.outcome1 == 1))\n",
    "male_resolved = sum((df.client_gender == \"MALE\") & (df.outcome1 == 0))\n",
    "mortality_rate_male = male_fatal / male_resolved\n",
    "mortality_rate_male"
   ]
  },
  {
   "cell_type": "code",
   "execution_count": 13,
   "metadata": {},
   "outputs": [
    {
     "data": {
      "image/png": "[encoded data removed]",
      "text/plain": [
       "<Figure size 720x432 with 1 Axes>"
      ]
     },
     "metadata": {
      "needs_background": "light"
     },
     "output_type": "display_data"
    }
   ],
   "source": [
    "# Plotting the data\n",
    "pd.crosstab(df.outcome1, df.client_gender).plot(kind=\"bar\", figsize=(10,6), color=[\"darkcyan\", \"goldenrod\", \"skyblue\", \"darkgreen\", \"coral\"])\n",
    "\n",
    "plt.title(\"COVID-19 outcomes by gender\")\n",
    "plt.xlabel(\"outcome\")\n",
    "plt.ylabel(\"nr of cases\");"
   ]
  },
  {
   "cell_type": "markdown",
   "metadata": {},
   "source": [
    "### Plot COVID-19 outcomes for different age groups"
   ]
  },
  {
   "cell_type": "code",
   "execution_count": 14,
   "metadata": {},
   "outputs": [
    {
     "data": {
      "image/png": "[encoded data removed]",
      "text/plain": [
       "<Figure size 720x432 with 1 Axes>"
      ]
     },
     "metadata": {
      "needs_background": "light"
     },
     "output_type": "display_data"
    }
   ],
   "source": [
    "pd.crosstab(df.outcome1, df.age_group).plot(kind=\"bar\", figsize=(10,6))\n",
    "\n",
    "plt.title(\"COVID-19 outcomes by age\")\n",
    "plt.xlabel(\"outcome\")\n",
    "plt.ylabel(\"nr of cases\");"
   ]
  },
  {
   "cell_type": "code",
   "execution_count": 54,
   "metadata": {},
   "outputs": [
    {
     "data": {
      "image/png": "[encoded data removed]",
      "text/plain": [
       "<Figure size 432x288 with 1 Axes>"
      ]
     },
     "metadata": {
      "needs_background": "light"
     },
     "output_type": "display_data"
    }
   ],
   "source": [
    "# calculate relative frequencies of fatal/resolved outcome for each age group\n",
    "\n",
    "age_groups_ordered = [\"UNKNOWN\", \"<20\", \"20s\", \"30s\", \"40s\", \"50s\", \"60s\", \"70s\", \"80s\", \"90s\"]\n",
    "\n",
    "df.age_group = pd.Categorical(df.age_group, categories=\n",
    "    [\"UNKNOWN\", \"<20\", \"20s\", \"30s\", \"40s\", \"50s\", \"60s\", \"70s\", \"80s\", \"90s\"],\n",
    "    ordered=True)\n",
    "freq_per_age = df.age_group.value_counts()\n",
    "\n",
    "freq_per_age = freq_per_age.sort_index()\n",
    "freq_fatal_per_age = df.age_group[df.outcome1 == 1].value_counts()\n",
    "\n",
    "rel_freq_fatal_per_age = (freq_fatal_per_age / freq_per_age) * 100\n",
    "rel_freq_resolved_per_age = 100 - rel_freq_fatal_per_age\n",
    "\n",
    "# plot the relative frequencies per age group\n",
    "fig, ax = plt.subplots()\n",
    "ax.bar(rel_freq_fatal_per_age.index, 100, color = \"lightblue\", zorder = 1, label=\"resolved cases\")\n",
    "ax.bar(rel_freq_fatal_per_age.index, rel_freq_fatal_per_age, color = \"red\", zorder = 2, label=\"proportion of fatal cases\")\n",
    "ax.set_ylabel(\"proportion of cases\")\n",
    "ax.set_title(\"Proportion of fatal vs. resolved cases per age group\")\n",
    "ax.legend()\n",
    "\n",
    "plt.show();"
   ]
  },
  {
   "cell_type": "markdown",
   "metadata": {},
   "source": [
    "## Modeling"
   ]
  },
  {
   "cell_type": "code",
   "execution_count": 131,
   "metadata": {},
   "outputs": [
    {
     "data": {
      "text/html": [
       "<div>\n",
       "<style scoped>\n",
       "    .dataframe tbody tr th:only-of-type {\n",
       "        vertical-align: middle;\n",
       "    }\n",
       "\n",
       "    .dataframe tbody tr th {\n",
       "        vertical-align: top;\n",
       "    }\n",
       "\n",
       "    .dataframe thead th {\n",
       "        text-align: right;\n",
       "    }\n",
       "</style>\n",
       "<table border=\"1\" class=\"dataframe\">\n",
       "  <thead>\n",
       "    <tr style=\"text-align: right;\">\n",
       "      <th></th>\n",
       "      <th>id</th>\n",
       "      <th>row_id</th>\n",
       "      <th>accurate_episode_date</th>\n",
       "      <th>age_group</th>\n",
       "      <th>client_gender</th>\n",
       "      <th>case_acquisitionInfo</th>\n",
       "      <th>outcome1</th>\n",
       "      <th>outbreak_related</th>\n",
       "      <th>reporting_phu</th>\n",
       "      <th>reporting_phu_address</th>\n",
       "      <th>reporting_phu_city</th>\n",
       "      <th>reporting_phu_postal_code</th>\n",
       "      <th>reporting_phu_website</th>\n",
       "      <th>reporting_phu_latitude</th>\n",
       "      <th>reporting_phu_longitude</th>\n",
       "      <th>case_reported_date</th>\n",
       "      <th>specimen_reported_date</th>\n",
       "      <th>test_reported_date</th>\n",
       "    </tr>\n",
       "  </thead>\n",
       "  <tbody>\n",
       "    <tr>\n",
       "      <th>0</th>\n",
       "      <td>4066</td>\n",
       "      <td>4066</td>\n",
       "      <td>2020-03-28</td>\n",
       "      <td>20s</td>\n",
       "      <td>FEMALE</td>\n",
       "      <td>Travel</td>\n",
       "      <td>0</td>\n",
       "      <td>NaN</td>\n",
       "      <td>Windsor-Essex County Health Unit</td>\n",
       "      <td>1005 Ouellette Avenue</td>\n",
       "      <td>Windsor</td>\n",
       "      <td>N9A 4J8</td>\n",
       "      <td>www.wechu.org</td>\n",
       "      <td>42.308796</td>\n",
       "      <td>-83.033670</td>\n",
       "      <td>2020-04-03</td>\n",
       "      <td>2020-03-30</td>\n",
       "      <td>2020-04-03</td>\n",
       "    </tr>\n",
       "    <tr>\n",
       "      <th>1</th>\n",
       "      <td>1091</td>\n",
       "      <td>1091</td>\n",
       "      <td>2020-03-13</td>\n",
       "      <td>30s</td>\n",
       "      <td>MALE</td>\n",
       "      <td>Travel</td>\n",
       "      <td>0</td>\n",
       "      <td>NaN</td>\n",
       "      <td>Ottawa Public Health</td>\n",
       "      <td>100 Constellation Drive</td>\n",
       "      <td>Ottawa</td>\n",
       "      <td>K2G 6J8</td>\n",
       "      <td>www.ottawapublichealth.ca</td>\n",
       "      <td>45.345665</td>\n",
       "      <td>-75.763912</td>\n",
       "      <td>2020-03-26</td>\n",
       "      <td>2020-03-17</td>\n",
       "      <td>2020-03-26</td>\n",
       "    </tr>\n",
       "    <tr>\n",
       "      <th>2</th>\n",
       "      <td>34119</td>\n",
       "      <td>33188</td>\n",
       "      <td>2020-04-12</td>\n",
       "      <td>20s</td>\n",
       "      <td>FEMALE</td>\n",
       "      <td>No Epi-link</td>\n",
       "      <td>0</td>\n",
       "      <td>NaN</td>\n",
       "      <td>Middlesex-London Health Unit</td>\n",
       "      <td>50 King Street</td>\n",
       "      <td>London</td>\n",
       "      <td>N6A 5L7</td>\n",
       "      <td>www.healthunit.com</td>\n",
       "      <td>42.981468</td>\n",
       "      <td>-81.254016</td>\n",
       "      <td>2020-05-20</td>\n",
       "      <td>2020-05-17</td>\n",
       "      <td>2020-05-20</td>\n",
       "    </tr>\n",
       "    <tr>\n",
       "      <th>3</th>\n",
       "      <td>9095</td>\n",
       "      <td>9095</td>\n",
       "      <td>2020-04-12</td>\n",
       "      <td>30s</td>\n",
       "      <td>FEMALE</td>\n",
       "      <td>CC</td>\n",
       "      <td>0</td>\n",
       "      <td>NaN</td>\n",
       "      <td>Region of Waterloo, Public Health</td>\n",
       "      <td>99 Regina Street South</td>\n",
       "      <td>Waterloo</td>\n",
       "      <td>N2J 4V3</td>\n",
       "      <td>www.regionofwaterloo.ca</td>\n",
       "      <td>43.462876</td>\n",
       "      <td>-80.520913</td>\n",
       "      <td>2020-04-15</td>\n",
       "      <td>2020-04-14</td>\n",
       "      <td>2020-04-15</td>\n",
       "    </tr>\n",
       "    <tr>\n",
       "      <th>4</th>\n",
       "      <td>1713</td>\n",
       "      <td>1713</td>\n",
       "      <td>2020-03-23</td>\n",
       "      <td>30s</td>\n",
       "      <td>MALE</td>\n",
       "      <td>CC</td>\n",
       "      <td>0</td>\n",
       "      <td>NaN</td>\n",
       "      <td>Eastern Ontario Health Unit</td>\n",
       "      <td>1000 Pitt Street</td>\n",
       "      <td>Cornwall</td>\n",
       "      <td>K6J 5T1</td>\n",
       "      <td>www.eohu.ca</td>\n",
       "      <td>45.029152</td>\n",
       "      <td>-74.736298</td>\n",
       "      <td>2020-04-01</td>\n",
       "      <td>2020-03-24</td>\n",
       "      <td>2020-04-01</td>\n",
       "    </tr>\n",
       "  </tbody>\n",
       "</table>\n",
       "</div>"
      ],
      "text/plain": [
       "      id  row_id accurate_episode_date age_group client_gender  \\\n",
       "0   4066    4066            2020-03-28       20s        FEMALE   \n",
       "1   1091    1091            2020-03-13       30s          MALE   \n",
       "2  34119   33188            2020-04-12       20s        FEMALE   \n",
       "3   9095    9095            2020-04-12       30s        FEMALE   \n",
       "4   1713    1713            2020-03-23       30s          MALE   \n",
       "\n",
       "  case_acquisitionInfo  outcome1 outbreak_related  \\\n",
       "0               Travel         0              NaN   \n",
       "1               Travel         0              NaN   \n",
       "2          No Epi-link         0              NaN   \n",
       "3                   CC         0              NaN   \n",
       "4                   CC         0              NaN   \n",
       "\n",
       "                       reporting_phu    reporting_phu_address  \\\n",
       "0   Windsor-Essex County Health Unit    1005 Ouellette Avenue   \n",
       "1               Ottawa Public Health  100 Constellation Drive   \n",
       "2       Middlesex-London Health Unit           50 King Street   \n",
       "3  Region of Waterloo, Public Health   99 Regina Street South   \n",
       "4        Eastern Ontario Health Unit         1000 Pitt Street   \n",
       "\n",
       "  reporting_phu_city reporting_phu_postal_code      reporting_phu_website  \\\n",
       "0            Windsor                   N9A 4J8              www.wechu.org   \n",
       "1             Ottawa                   K2G 6J8  www.ottawapublichealth.ca   \n",
       "2             London                   N6A 5L7         www.healthunit.com   \n",
       "3           Waterloo                   N2J 4V3    www.regionofwaterloo.ca   \n",
       "4           Cornwall                   K6J 5T1                www.eohu.ca   \n",
       "\n",
       "   reporting_phu_latitude  reporting_phu_longitude case_reported_date  \\\n",
       "0               42.308796               -83.033670         2020-04-03   \n",
       "1               45.345665               -75.763912         2020-03-26   \n",
       "2               42.981468               -81.254016         2020-05-20   \n",
       "3               43.462876               -80.520913         2020-04-15   \n",
       "4               45.029152               -74.736298         2020-04-01   \n",
       "\n",
       "  specimen_reported_date test_reported_date  \n",
       "0             2020-03-30         2020-04-03  \n",
       "1             2020-03-17         2020-03-26  \n",
       "2             2020-05-17         2020-05-20  \n",
       "3             2020-04-14         2020-04-15  \n",
       "4             2020-03-24         2020-04-01  "
      ]
     },
     "execution_count": 131,
     "metadata": {},
     "output_type": "execute_result"
    }
   ],
   "source": [
    "df.head()\n"
   ]
  },
  {
   "cell_type": "markdown",
   "metadata": {},
   "source": [
    "Split data into target variable (\"outcome1\") and predictor variables. "
   ]
  },
  {
   "cell_type": "markdown",
   "metadata": {},
   "source": [
    "### Transform the features"
   ]
  },
  {
   "cell_type": "code",
   "execution_count": 132,
   "metadata": {},
   "outputs": [
    {
     "data": {
      "text/plain": [
       "id                             int64\n",
       "row_id                         int64\n",
       "accurate_episode_date         object\n",
       "age_group                     object\n",
       "client_gender                 object\n",
       "case_acquisitionInfo          object\n",
       "outcome1                       int64\n",
       "outbreak_related              object\n",
       "reporting_phu                 object\n",
       "reporting_phu_address         object\n",
       "reporting_phu_city            object\n",
       "reporting_phu_postal_code     object\n",
       "reporting_phu_website         object\n",
       "reporting_phu_latitude       float64\n",
       "reporting_phu_longitude      float64\n",
       "case_reported_date            object\n",
       "specimen_reported_date        object\n",
       "test_reported_date            object\n",
       "dtype: object"
      ]
     },
     "execution_count": 132,
     "metadata": {},
     "output_type": "execute_result"
    }
   ],
   "source": [
    "df.dtypes"
   ]
  },
  {
   "cell_type": "code",
   "execution_count": 55,
   "metadata": {},
   "outputs": [
    {
     "data": {
      "text/plain": [
       "id                               0\n",
       "row_id                           0\n",
       "accurate_episode_date            2\n",
       "age_group                        0\n",
       "client_gender                    0\n",
       "case_acquisitionInfo             0\n",
       "outcome1                         0\n",
       "outbreak_related             20612\n",
       "reporting_phu                    0\n",
       "reporting_phu_address            0\n",
       "reporting_phu_city               0\n",
       "reporting_phu_postal_code        0\n",
       "reporting_phu_website            0\n",
       "reporting_phu_latitude           0\n",
       "reporting_phu_longitude          0\n",
       "case_reported_date               0\n",
       "specimen_reported_date         329\n",
       "test_reported_date             447\n",
       "dtype: int64"
      ]
     },
     "execution_count": 55,
     "metadata": {},
     "output_type": "execute_result"
    }
   ],
   "source": [
    "df.isna().sum()"
   ]
  },
  {
   "cell_type": "markdown",
   "metadata": {},
   "source": [
    "Since there is only two missing values for accurate_episode_date, we exclude these data points."
   ]
  },
  {
   "cell_type": "code",
   "execution_count": 7,
   "metadata": {},
   "outputs": [],
   "source": [
    "df.dropna(subset = [\"accurate_episode_date\"], inplace = True)"
   ]
  },
  {
   "cell_type": "markdown",
   "metadata": {},
   "source": [
    "The id, row_id, case_acquisitionInfo and reporting_phu_website columns are not relevant for our analyis. We also drop the columns with information on the reporting phu address since this information is redundant. Also, we only keep one date (\"accurate episode_date\") to prevent redundancies and avoid more missing data points."
   ]
  },
  {
   "cell_type": "code",
   "execution_count": 8,
   "metadata": {},
   "outputs": [],
   "source": [
    "df.drop(columns=[\"id\", \"row_id\", \"case_acquisitionInfo\", \"reporting_phu_address\", \"reporting_phu_website\", \"specimen_reported_date\", \"case_reported_date\", \"test_reported_date\"], axis =1, inplace =True)\n"
   ]
  },
  {
   "cell_type": "code",
   "execution_count": 137,
   "metadata": {},
   "outputs": [
    {
     "data": {
      "text/html": [
       "<div>\n",
       "<style scoped>\n",
       "    .dataframe tbody tr th:only-of-type {\n",
       "        vertical-align: middle;\n",
       "    }\n",
       "\n",
       "    .dataframe tbody tr th {\n",
       "        vertical-align: top;\n",
       "    }\n",
       "\n",
       "    .dataframe thead th {\n",
       "        text-align: right;\n",
       "    }\n",
       "</style>\n",
       "<table border=\"1\" class=\"dataframe\">\n",
       "  <thead>\n",
       "    <tr style=\"text-align: right;\">\n",
       "      <th></th>\n",
       "      <th>accurate_episode_date</th>\n",
       "      <th>age_group</th>\n",
       "      <th>client_gender</th>\n",
       "      <th>outcome1</th>\n",
       "      <th>outbreak_related</th>\n",
       "      <th>reporting_phu</th>\n",
       "      <th>reporting_phu_city</th>\n",
       "      <th>reporting_phu_postal_code</th>\n",
       "      <th>reporting_phu_latitude</th>\n",
       "      <th>reporting_phu_longitude</th>\n",
       "      <th>case_reported_date</th>\n",
       "      <th>test_reported_date</th>\n",
       "    </tr>\n",
       "  </thead>\n",
       "  <tbody>\n",
       "    <tr>\n",
       "      <th>0</th>\n",
       "      <td>87.0</td>\n",
       "      <td>20s</td>\n",
       "      <td>FEMALE</td>\n",
       "      <td>0</td>\n",
       "      <td>NaN</td>\n",
       "      <td>Windsor-Essex County Health Unit</td>\n",
       "      <td>Windsor</td>\n",
       "      <td>N9A 4J8</td>\n",
       "      <td>42.308796</td>\n",
       "      <td>-83.033670</td>\n",
       "      <td>93</td>\n",
       "      <td>93.0</td>\n",
       "    </tr>\n",
       "    <tr>\n",
       "      <th>1</th>\n",
       "      <td>72.0</td>\n",
       "      <td>30s</td>\n",
       "      <td>MALE</td>\n",
       "      <td>0</td>\n",
       "      <td>NaN</td>\n",
       "      <td>Ottawa Public Health</td>\n",
       "      <td>Ottawa</td>\n",
       "      <td>K2G 6J8</td>\n",
       "      <td>45.345665</td>\n",
       "      <td>-75.763912</td>\n",
       "      <td>85</td>\n",
       "      <td>85.0</td>\n",
       "    </tr>\n",
       "    <tr>\n",
       "      <th>2</th>\n",
       "      <td>102.0</td>\n",
       "      <td>20s</td>\n",
       "      <td>FEMALE</td>\n",
       "      <td>0</td>\n",
       "      <td>NaN</td>\n",
       "      <td>Middlesex-London Health Unit</td>\n",
       "      <td>London</td>\n",
       "      <td>N6A 5L7</td>\n",
       "      <td>42.981468</td>\n",
       "      <td>-81.254016</td>\n",
       "      <td>140</td>\n",
       "      <td>140.0</td>\n",
       "    </tr>\n",
       "    <tr>\n",
       "      <th>3</th>\n",
       "      <td>102.0</td>\n",
       "      <td>30s</td>\n",
       "      <td>FEMALE</td>\n",
       "      <td>0</td>\n",
       "      <td>NaN</td>\n",
       "      <td>Region of Waterloo, Public Health</td>\n",
       "      <td>Waterloo</td>\n",
       "      <td>N2J 4V3</td>\n",
       "      <td>43.462876</td>\n",
       "      <td>-80.520913</td>\n",
       "      <td>105</td>\n",
       "      <td>105.0</td>\n",
       "    </tr>\n",
       "    <tr>\n",
       "      <th>4</th>\n",
       "      <td>82.0</td>\n",
       "      <td>30s</td>\n",
       "      <td>MALE</td>\n",
       "      <td>0</td>\n",
       "      <td>NaN</td>\n",
       "      <td>Eastern Ontario Health Unit</td>\n",
       "      <td>Cornwall</td>\n",
       "      <td>K6J 5T1</td>\n",
       "      <td>45.029152</td>\n",
       "      <td>-74.736298</td>\n",
       "      <td>91</td>\n",
       "      <td>91.0</td>\n",
       "    </tr>\n",
       "  </tbody>\n",
       "</table>\n",
       "</div>"
      ],
      "text/plain": [
       "   accurate_episode_date age_group client_gender  outcome1 outbreak_related  \\\n",
       "0                   87.0       20s        FEMALE         0              NaN   \n",
       "1                   72.0       30s          MALE         0              NaN   \n",
       "2                  102.0       20s        FEMALE         0              NaN   \n",
       "3                  102.0       30s        FEMALE         0              NaN   \n",
       "4                   82.0       30s          MALE         0              NaN   \n",
       "\n",
       "                       reporting_phu reporting_phu_city  \\\n",
       "0   Windsor-Essex County Health Unit            Windsor   \n",
       "1               Ottawa Public Health             Ottawa   \n",
       "2       Middlesex-London Health Unit             London   \n",
       "3  Region of Waterloo, Public Health           Waterloo   \n",
       "4        Eastern Ontario Health Unit           Cornwall   \n",
       "\n",
       "  reporting_phu_postal_code  reporting_phu_latitude  reporting_phu_longitude  \\\n",
       "0                   N9A 4J8               42.308796               -83.033670   \n",
       "1                   K2G 6J8               45.345665               -75.763912   \n",
       "2                   N6A 5L7               42.981468               -81.254016   \n",
       "3                   N2J 4V3               43.462876               -80.520913   \n",
       "4                   K6J 5T1               45.029152               -74.736298   \n",
       "\n",
       "   case_reported_date  test_reported_date  \n",
       "0                  93                93.0  \n",
       "1                  85                85.0  \n",
       "2                 140               140.0  \n",
       "3                 105               105.0  \n",
       "4                  91                91.0  "
      ]
     },
     "execution_count": 137,
     "metadata": {},
     "output_type": "execute_result"
    }
   ],
   "source": [
    "df.head()"
   ]
  },
  {
   "cell_type": "markdown",
   "metadata": {},
   "source": [
    "#### Define custom transformer for the data"
   ]
  },
  {
   "cell_type": "code",
   "execution_count": 40,
   "metadata": {},
   "outputs": [],
   "source": [
    "# custom transformer that calculates numbers of days from first of january\n",
    "from datetime import date\n",
    "from datetime import datetime\n",
    "\n",
    "from sklearn.base import BaseEstimator, TransformerMixin\n",
    "class CustomDateTransformer( BaseEstimator, TransformerMixin ):\n",
    "    def __init__(self):\n",
    "        return None\n",
    "        \n",
    "    def fit(self, X, y = None):\n",
    "        return self\n",
    "    \n",
    "    \n",
    "    def transform(self, X, y=None):\n",
    "        d0 = pd.to_datetime('2020-01-01')\n",
    "        transformed_X = pd.DataFrame(X.copy())\n",
    "\n",
    "        \n",
    "        transformed_X = (transformed_X.apply(pd.to_datetime) - d0)\n",
    "        transformed_X = transformed_X.astype('timedelta64[D]')\n",
    "\n",
    "        return transformed_X"
   ]
  },
  {
   "cell_type": "code",
   "execution_count": 41,
   "metadata": {},
   "outputs": [],
   "source": [
    "# custom transformer that assigns numbers to the age_groups\n",
    "class CustomAgeTransformer( BaseEstimator, TransformerMixin ):\n",
    "    def __init__(self):\n",
    "        return None\n",
    "        \n",
    "    def fit(self, X, y = None):\n",
    "        return self\n",
    "    \n",
    "    \n",
    "    def transform(self, X, y=None):\n",
    "\n",
    "        transformed_X = pd.DataFrame(X.copy())\n",
    "\n",
    "        transformed_X = transformed_X.replace({'80s':80, '20s':20, '<20':10, '60s':60, '50s':50, '70s':70, '30s':30, '40s':40, '90s':90})\n",
    "\n",
    "\n",
    "        return transformed_X\n",
    "\n"
   ]
  },
  {
   "cell_type": "code",
   "execution_count": 42,
   "metadata": {
    "scrolled": true
   },
   "outputs": [],
   "source": [
    "# Define different features and transformer pipeline\n",
    "categorical_features = [\"client_gender\", \"outbreak_related\", \"reporting_phu\", \"reporting_phu_city\", \"reporting_phu_postal_code\"]\n",
    "categorical_transformer = Pipeline(steps=[\n",
    "    (\"imputer\", SimpleImputer(strategy=\"constant\", fill_value=\"missing\")),\n",
    "    (\"onehot\", OneHotEncoder(handle_unknown=\"ignore\"))])\n",
    "\n",
    "age_features = [\"age_group\"]\n",
    "age_transformer = Pipeline(steps=[\n",
    "    (\"imputer\", SimpleImputer(missing_values=\"UNKNOWN\",strategy=\"most_frequent\")),\n",
    "    (\"age_transformer\", CustomAgeTransformer()),\n",
    "    (\"scaler\", StandardScaler())\n",
    "])\n",
    "\n",
    "date_features = [\"accurate_episode_date\"]\n",
    "date_transformer = Pipeline(steps=[\n",
    "    (\"date_transformer\", CustomDateTransformer()), \n",
    "    (\"scaler\", StandardScaler())\n",
    "])\n",
    "\n",
    "\n",
    "preprocessor = ColumnTransformer(\n",
    "    transformers=[\n",
    "        (\"age_transformer\", age_transformer, age_features),\n",
    "        (\"date_transformer\", date_transformer, date_features),\n",
    "        (\"cat_transformer\", categorical_transformer, categorical_features)])\n",
    "\n"
   ]
  },
  {
   "cell_type": "markdown",
   "metadata": {},
   "source": [
    "### Fit models"
   ]
  },
  {
   "cell_type": "markdown",
   "metadata": {},
   "source": [
    "First, we split the data into training and test set. "
   ]
  },
  {
   "cell_type": "code",
   "execution_count": 31,
   "metadata": {},
   "outputs": [],
   "source": [
    "X = df.drop(\"outcome1\", axis=1)\n",
    "y = df.outcome1"
   ]
  },
  {
   "cell_type": "code",
   "execution_count": 32,
   "metadata": {},
   "outputs": [],
   "source": [
    "np.random.seed(7)\n",
    "\n",
    "X_train, X_test, y_train, y_test = train_test_split(X, \n",
    "                                                   y, \n",
    "                                                   test_size = 0.2)\n"
   ]
  },
  {
   "cell_type": "markdown",
   "metadata": {},
   "source": [
    "To begin with, we try out KNN, Logistic Regression and Random Forest. "
   ]
  },
  {
   "cell_type": "code",
   "execution_count": 59,
   "metadata": {},
   "outputs": [],
   "source": [
    "models = {\"KNN\": KNeighborsClassifier(),\n",
    "          \"Logistic Regression\": LogisticRegression(max_iter = 1000), \n",
    "          \"Random Forest\": RandomForestClassifier()}\n",
    "\n",
    "def fit_and_score(models, X_train, X_test, y_train, y_test):\n",
    "    \"\"\"\n",
    "    Fits and evaluates given machine learning models.\n",
    "    models : a dict of different Scikit-Learn machine learning models\n",
    "    X_train : training data\n",
    "    X_test : testing data\n",
    "    y_train : labels assosciated with training data\n",
    "    y_test : labels assosciated with test data\n",
    "    \"\"\"\n",
    "    # Random seed for reproducible results\n",
    "    np.random.seed(42)\n",
    "    # Make a list to keep model scores\n",
    "    #model_scores = {}\n",
    "    model_classification_report = {}\n",
    "    # Loop through models\n",
    "    for name, model in models.items():\n",
    "        # Fit the model to the data\n",
    "        clf = Pipeline(steps=[(\"preprocessor\", preprocessor),\n",
    "                        (\"model\", model)])\n",
    "        clf.fit(X_train, y_train)\n",
    "        y_pred = clf.predict(X_test)\n",
    "        # Evaluate the model and append its score to model_scores\n",
    "        #model_scores[name] = clf.score(X_test, y_test)\n",
    "        model_classification_report[name] = classification_report(y_test, y_pred)\n",
    "        \n",
    "    return model_classification_report"
   ]
  },
  {
   "cell_type": "code",
   "execution_count": 60,
   "metadata": {},
   "outputs": [],
   "source": [
    "model_scores = fit_and_score(models=models,\n",
    "                             X_train=X_train,\n",
    "                             X_test=X_test,\n",
    "                             y_train=y_train,\n",
    "                             y_test=y_test)\n"
   ]
  },
  {
   "cell_type": "code",
   "execution_count": 61,
   "metadata": {},
   "outputs": [
    {
     "name": "stdout",
     "output_type": "stream",
     "text": [
      "KNN\n",
      "\n",
      "              precision    recall  f1-score   support\n",
      "\n",
      "           0       0.93      0.97      0.95      6467\n",
      "           1       0.39      0.21      0.27       591\n",
      "\n",
      "    accuracy                           0.91      7058\n",
      "   macro avg       0.66      0.59      0.61      7058\n",
      "weighted avg       0.89      0.91      0.89      7058\n",
      "\n",
      "Logistic Regression\n",
      "\n",
      "              precision    recall  f1-score   support\n",
      "\n",
      "           0       0.92      0.99      0.96      6467\n",
      "           1       0.52      0.10      0.17       591\n",
      "\n",
      "    accuracy                           0.92      7058\n",
      "   macro avg       0.72      0.55      0.56      7058\n",
      "weighted avg       0.89      0.92      0.89      7058\n",
      "\n",
      "Random Forest\n",
      "\n",
      "              precision    recall  f1-score   support\n",
      "\n",
      "           0       0.93      0.96      0.95      6467\n",
      "           1       0.41      0.27      0.32       591\n",
      "\n",
      "    accuracy                           0.91      7058\n",
      "   macro avg       0.67      0.62      0.64      7058\n",
      "weighted avg       0.89      0.91      0.90      7058\n",
      "\n"
     ]
    }
   ],
   "source": [
    "for clf in model_scores:\n",
    "    print(clf, model_scores[clf], sep = \"\\n\\n\")\n"
   ]
  },
  {
   "cell_type": "markdown",
   "metadata": {},
   "source": [
    "All three classifiers have low sensitivity (i.e., recall for class 1). In the following, we try to improve the sensitivity by tuning the hyperparameters of the three classifiers. "
   ]
  },
  {
   "cell_type": "markdown",
   "metadata": {},
   "source": [
    "## Hyperparameter Tuning"
   ]
  },
  {
   "cell_type": "markdown",
   "metadata": {},
   "source": [
    "### Tuning KNN by hand"
   ]
  },
  {
   "cell_type": "code",
   "execution_count": 62,
   "metadata": {},
   "outputs": [
    {
     "ename": "AttributeError",
     "evalue": "'SMOTE' object has no attribute '_validate_data'",
     "output_type": "error",
     "traceback": [
      "\u001b[0;31m---------------------------------------------------------------------------\u001b[0m",
      "\u001b[0;31mAttributeError\u001b[0m                            Traceback (most recent call last)",
      "\u001b[0;32m<ipython-input-62-1850dbfd518f>\u001b[0m in \u001b[0;36m<module>\u001b[0;34m\u001b[0m\n\u001b[1;32m      7\u001b[0m \u001b[0moversample\u001b[0m \u001b[0;34m=\u001b[0m \u001b[0mSMOTE\u001b[0m\u001b[0;34m(\u001b[0m\u001b[0;34m)\u001b[0m\u001b[0;34m\u001b[0m\u001b[0;34m\u001b[0m\u001b[0m\n\u001b[1;32m      8\u001b[0m \u001b[0;34m\u001b[0m\u001b[0m\n\u001b[0;32m----> 9\u001b[0;31m \u001b[0mX_train\u001b[0m\u001b[0;34m,\u001b[0m \u001b[0my_train\u001b[0m \u001b[0;34m=\u001b[0m \u001b[0moversample\u001b[0m\u001b[0;34m.\u001b[0m\u001b[0mfit_resample\u001b[0m\u001b[0;34m(\u001b[0m\u001b[0mX_train\u001b[0m\u001b[0;34m,\u001b[0m \u001b[0my_train\u001b[0m\u001b[0;34m)\u001b[0m\u001b[0;34m\u001b[0m\u001b[0;34m\u001b[0m\u001b[0m\n\u001b[0m\u001b[1;32m     10\u001b[0m \u001b[0;34m\u001b[0m\u001b[0m\n\u001b[1;32m     11\u001b[0m \u001b[0mX_train\u001b[0m \u001b[0;34m=\u001b[0m \u001b[0mpreprocessor\u001b[0m\u001b[0;34m.\u001b[0m\u001b[0mfit_transform\u001b[0m\u001b[0;34m(\u001b[0m\u001b[0mX_train\u001b[0m\u001b[0;34m)\u001b[0m\u001b[0;34m\u001b[0m\u001b[0;34m\u001b[0m\u001b[0m\n",
      "\u001b[0;32m~/Desktop/sample_project_datascience/env/lib/python3.8/site-packages/imblearn/base.py\u001b[0m in \u001b[0;36mfit_resample\u001b[0;34m(self, X, y)\u001b[0m\n\u001b[1;32m     75\u001b[0m         \u001b[0mcheck_classification_targets\u001b[0m\u001b[0;34m(\u001b[0m\u001b[0my\u001b[0m\u001b[0;34m)\u001b[0m\u001b[0;34m\u001b[0m\u001b[0;34m\u001b[0m\u001b[0m\n\u001b[1;32m     76\u001b[0m         \u001b[0marrays_transformer\u001b[0m \u001b[0;34m=\u001b[0m \u001b[0mArraysTransformer\u001b[0m\u001b[0;34m(\u001b[0m\u001b[0mX\u001b[0m\u001b[0;34m,\u001b[0m \u001b[0my\u001b[0m\u001b[0;34m)\u001b[0m\u001b[0;34m\u001b[0m\u001b[0;34m\u001b[0m\u001b[0m\n\u001b[0;32m---> 77\u001b[0;31m         \u001b[0mX\u001b[0m\u001b[0;34m,\u001b[0m \u001b[0my\u001b[0m\u001b[0;34m,\u001b[0m \u001b[0mbinarize_y\u001b[0m \u001b[0;34m=\u001b[0m \u001b[0mself\u001b[0m\u001b[0;34m.\u001b[0m\u001b[0m_check_X_y\u001b[0m\u001b[0;34m(\u001b[0m\u001b[0mX\u001b[0m\u001b[0;34m,\u001b[0m \u001b[0my\u001b[0m\u001b[0;34m)\u001b[0m\u001b[0;34m\u001b[0m\u001b[0;34m\u001b[0m\u001b[0m\n\u001b[0m\u001b[1;32m     78\u001b[0m \u001b[0;34m\u001b[0m\u001b[0m\n\u001b[1;32m     79\u001b[0m         self.sampling_strategy_ = check_sampling_strategy(\n",
      "\u001b[0;32m~/Desktop/sample_project_datascience/env/lib/python3.8/site-packages/imblearn/base.py\u001b[0m in \u001b[0;36m_check_X_y\u001b[0;34m(self, X, y, accept_sparse)\u001b[0m\n\u001b[1;32m    132\u001b[0m             \u001b[0maccept_sparse\u001b[0m \u001b[0;34m=\u001b[0m \u001b[0;34m[\u001b[0m\u001b[0;34m\"csr\"\u001b[0m\u001b[0;34m,\u001b[0m \u001b[0;34m\"csc\"\u001b[0m\u001b[0;34m]\u001b[0m\u001b[0;34m\u001b[0m\u001b[0;34m\u001b[0m\u001b[0m\n\u001b[1;32m    133\u001b[0m         \u001b[0my\u001b[0m\u001b[0;34m,\u001b[0m \u001b[0mbinarize_y\u001b[0m \u001b[0;34m=\u001b[0m \u001b[0mcheck_target_type\u001b[0m\u001b[0;34m(\u001b[0m\u001b[0my\u001b[0m\u001b[0;34m,\u001b[0m \u001b[0mindicate_one_vs_all\u001b[0m\u001b[0;34m=\u001b[0m\u001b[0;32mTrue\u001b[0m\u001b[0;34m)\u001b[0m\u001b[0;34m\u001b[0m\u001b[0;34m\u001b[0m\u001b[0m\n\u001b[0;32m--> 134\u001b[0;31m         X, y = self._validate_data(\n\u001b[0m\u001b[1;32m    135\u001b[0m             \u001b[0mX\u001b[0m\u001b[0;34m,\u001b[0m \u001b[0my\u001b[0m\u001b[0;34m,\u001b[0m \u001b[0mreset\u001b[0m\u001b[0;34m=\u001b[0m\u001b[0;32mTrue\u001b[0m\u001b[0;34m,\u001b[0m \u001b[0maccept_sparse\u001b[0m\u001b[0;34m=\u001b[0m\u001b[0maccept_sparse\u001b[0m\u001b[0;34m\u001b[0m\u001b[0;34m\u001b[0m\u001b[0m\n\u001b[1;32m    136\u001b[0m         )\n",
      "\u001b[0;31mAttributeError\u001b[0m: 'SMOTE' object has no attribute '_validate_data'"
     ]
    }
   ],
   "source": [
    "from imblearn.over_sampling import SMOTE\n",
    "X_train, X_test, y_train, y_test = train_test_split(X, \n",
    "                                                   y,\n",
    "                                                   test_size=0.2)\n",
    "\n",
    "# since the class imbalance affects KNN, we oversample the minority class to compensate\n",
    "oversample = SMOTE()\n",
    "\n",
    "X_train, y_train = oversample.fit_resample(X_train, y_train)\n",
    "\n",
    "X_train = preprocessor.fit_transform(X_train)\n"
   ]
  },
  {
   "cell_type": "code",
   "execution_count": null,
   "metadata": {},
   "outputs": [],
   "source": []
  },
  {
   "cell_type": "code",
   "execution_count": 356,
   "metadata": {},
   "outputs": [
    {
     "ename": "ValueError",
     "evalue": "could not convert string to float: '2020-04-16'",
     "output_type": "error",
     "traceback": [
      "\u001b[0;31m---------------------------------------------------------------------------\u001b[0m",
      "\u001b[0;31mValueError\u001b[0m                                Traceback (most recent call last)",
      "\u001b[0;32m<ipython-input-356-6913bdff89bd>\u001b[0m in \u001b[0;36m<module>\u001b[0;34m\u001b[0m\n\u001b[1;32m     21\u001b[0m      \u001b[0;31m#                   (\"knn\", knn.set_params(n_neighbors = i))])\u001b[0m\u001b[0;34m\u001b[0m\u001b[0;34m\u001b[0m\u001b[0;34m\u001b[0m\u001b[0m\n\u001b[1;32m     22\u001b[0m \u001b[0;34m\u001b[0m\u001b[0m\n\u001b[0;32m---> 23\u001b[0;31m     \u001b[0mknn\u001b[0m\u001b[0;34m.\u001b[0m\u001b[0mfit\u001b[0m\u001b[0;34m(\u001b[0m\u001b[0mX_train\u001b[0m\u001b[0;34m,\u001b[0m \u001b[0my_train\u001b[0m\u001b[0;34m)\u001b[0m\u001b[0;34m\u001b[0m\u001b[0;34m\u001b[0m\u001b[0m\n\u001b[0m\u001b[1;32m     24\u001b[0m \u001b[0;34m\u001b[0m\u001b[0m\n\u001b[1;32m     25\u001b[0m     \u001b[0;31m# Update the training scores\u001b[0m\u001b[0;34m\u001b[0m\u001b[0;34m\u001b[0m\u001b[0;34m\u001b[0m\u001b[0m\n",
      "\u001b[0;32m~/Desktop/sample_project_datascience/env/lib/python3.8/site-packages/sklearn/neighbors/_base.py\u001b[0m in \u001b[0;36mfit\u001b[0;34m(self, X, y)\u001b[0m\n\u001b[1;32m   1128\u001b[0m         \"\"\"\n\u001b[1;32m   1129\u001b[0m         \u001b[0;32mif\u001b[0m \u001b[0;32mnot\u001b[0m \u001b[0misinstance\u001b[0m\u001b[0;34m(\u001b[0m\u001b[0mX\u001b[0m\u001b[0;34m,\u001b[0m \u001b[0;34m(\u001b[0m\u001b[0mKDTree\u001b[0m\u001b[0;34m,\u001b[0m \u001b[0mBallTree\u001b[0m\u001b[0;34m)\u001b[0m\u001b[0;34m)\u001b[0m\u001b[0;34m:\u001b[0m\u001b[0;34m\u001b[0m\u001b[0;34m\u001b[0m\u001b[0m\n\u001b[0;32m-> 1130\u001b[0;31m             \u001b[0mX\u001b[0m\u001b[0;34m,\u001b[0m \u001b[0my\u001b[0m \u001b[0;34m=\u001b[0m \u001b[0mcheck_X_y\u001b[0m\u001b[0;34m(\u001b[0m\u001b[0mX\u001b[0m\u001b[0;34m,\u001b[0m \u001b[0my\u001b[0m\u001b[0;34m,\u001b[0m \u001b[0;34m\"csr\"\u001b[0m\u001b[0;34m,\u001b[0m \u001b[0mmulti_output\u001b[0m\u001b[0;34m=\u001b[0m\u001b[0;32mTrue\u001b[0m\u001b[0;34m)\u001b[0m\u001b[0;34m\u001b[0m\u001b[0;34m\u001b[0m\u001b[0m\n\u001b[0m\u001b[1;32m   1131\u001b[0m \u001b[0;34m\u001b[0m\u001b[0m\n\u001b[1;32m   1132\u001b[0m         \u001b[0;32mif\u001b[0m \u001b[0my\u001b[0m\u001b[0;34m.\u001b[0m\u001b[0mndim\u001b[0m \u001b[0;34m==\u001b[0m \u001b[0;36m1\u001b[0m \u001b[0;32mor\u001b[0m \u001b[0my\u001b[0m\u001b[0;34m.\u001b[0m\u001b[0mndim\u001b[0m \u001b[0;34m==\u001b[0m \u001b[0;36m2\u001b[0m \u001b[0;32mand\u001b[0m \u001b[0my\u001b[0m\u001b[0;34m.\u001b[0m\u001b[0mshape\u001b[0m\u001b[0;34m[\u001b[0m\u001b[0;36m1\u001b[0m\u001b[0;34m]\u001b[0m \u001b[0;34m==\u001b[0m \u001b[0;36m1\u001b[0m\u001b[0;34m:\u001b[0m\u001b[0;34m\u001b[0m\u001b[0;34m\u001b[0m\u001b[0m\n",
      "\u001b[0;32m~/Desktop/sample_project_datascience/env/lib/python3.8/site-packages/sklearn/utils/validation.py\u001b[0m in \u001b[0;36mcheck_X_y\u001b[0;34m(X, y, accept_sparse, accept_large_sparse, dtype, order, copy, force_all_finite, ensure_2d, allow_nd, multi_output, ensure_min_samples, ensure_min_features, y_numeric, warn_on_dtype, estimator)\u001b[0m\n\u001b[1;32m    745\u001b[0m         \u001b[0;32mraise\u001b[0m \u001b[0mValueError\u001b[0m\u001b[0;34m(\u001b[0m\u001b[0;34m\"y cannot be None\"\u001b[0m\u001b[0;34m)\u001b[0m\u001b[0;34m\u001b[0m\u001b[0;34m\u001b[0m\u001b[0m\n\u001b[1;32m    746\u001b[0m \u001b[0;34m\u001b[0m\u001b[0m\n\u001b[0;32m--> 747\u001b[0;31m     X = check_array(X, accept_sparse=accept_sparse,\n\u001b[0m\u001b[1;32m    748\u001b[0m                     \u001b[0maccept_large_sparse\u001b[0m\u001b[0;34m=\u001b[0m\u001b[0maccept_large_sparse\u001b[0m\u001b[0;34m,\u001b[0m\u001b[0;34m\u001b[0m\u001b[0;34m\u001b[0m\u001b[0m\n\u001b[1;32m    749\u001b[0m                     \u001b[0mdtype\u001b[0m\u001b[0;34m=\u001b[0m\u001b[0mdtype\u001b[0m\u001b[0;34m,\u001b[0m \u001b[0morder\u001b[0m\u001b[0;34m=\u001b[0m\u001b[0morder\u001b[0m\u001b[0;34m,\u001b[0m \u001b[0mcopy\u001b[0m\u001b[0;34m=\u001b[0m\u001b[0mcopy\u001b[0m\u001b[0;34m,\u001b[0m\u001b[0;34m\u001b[0m\u001b[0;34m\u001b[0m\u001b[0m\n",
      "\u001b[0;32m~/Desktop/sample_project_datascience/env/lib/python3.8/site-packages/sklearn/utils/validation.py\u001b[0m in \u001b[0;36mcheck_array\u001b[0;34m(array, accept_sparse, accept_large_sparse, dtype, order, copy, force_all_finite, ensure_2d, allow_nd, ensure_min_samples, ensure_min_features, warn_on_dtype, estimator)\u001b[0m\n\u001b[1;32m    529\u001b[0m                     \u001b[0marray\u001b[0m \u001b[0;34m=\u001b[0m \u001b[0marray\u001b[0m\u001b[0;34m.\u001b[0m\u001b[0mastype\u001b[0m\u001b[0;34m(\u001b[0m\u001b[0mdtype\u001b[0m\u001b[0;34m,\u001b[0m \u001b[0mcasting\u001b[0m\u001b[0;34m=\u001b[0m\u001b[0;34m\"unsafe\"\u001b[0m\u001b[0;34m,\u001b[0m \u001b[0mcopy\u001b[0m\u001b[0;34m=\u001b[0m\u001b[0;32mFalse\u001b[0m\u001b[0;34m)\u001b[0m\u001b[0;34m\u001b[0m\u001b[0;34m\u001b[0m\u001b[0m\n\u001b[1;32m    530\u001b[0m                 \u001b[0;32melse\u001b[0m\u001b[0;34m:\u001b[0m\u001b[0;34m\u001b[0m\u001b[0;34m\u001b[0m\u001b[0m\n\u001b[0;32m--> 531\u001b[0;31m                     \u001b[0marray\u001b[0m \u001b[0;34m=\u001b[0m \u001b[0mnp\u001b[0m\u001b[0;34m.\u001b[0m\u001b[0masarray\u001b[0m\u001b[0;34m(\u001b[0m\u001b[0marray\u001b[0m\u001b[0;34m,\u001b[0m \u001b[0morder\u001b[0m\u001b[0;34m=\u001b[0m\u001b[0morder\u001b[0m\u001b[0;34m,\u001b[0m \u001b[0mdtype\u001b[0m\u001b[0;34m=\u001b[0m\u001b[0mdtype\u001b[0m\u001b[0;34m)\u001b[0m\u001b[0;34m\u001b[0m\u001b[0;34m\u001b[0m\u001b[0m\n\u001b[0m\u001b[1;32m    532\u001b[0m             \u001b[0;32mexcept\u001b[0m \u001b[0mComplexWarning\u001b[0m\u001b[0;34m:\u001b[0m\u001b[0;34m\u001b[0m\u001b[0;34m\u001b[0m\u001b[0m\n\u001b[1;32m    533\u001b[0m                 raise ValueError(\"Complex data not supported\\n\"\n",
      "\u001b[0;32m~/Desktop/sample_project_datascience/env/lib/python3.8/site-packages/numpy/core/_asarray.py\u001b[0m in \u001b[0;36masarray\u001b[0;34m(a, dtype, order)\u001b[0m\n\u001b[1;32m     83\u001b[0m \u001b[0;34m\u001b[0m\u001b[0m\n\u001b[1;32m     84\u001b[0m     \"\"\"\n\u001b[0;32m---> 85\u001b[0;31m     \u001b[0;32mreturn\u001b[0m \u001b[0marray\u001b[0m\u001b[0;34m(\u001b[0m\u001b[0ma\u001b[0m\u001b[0;34m,\u001b[0m \u001b[0mdtype\u001b[0m\u001b[0;34m,\u001b[0m \u001b[0mcopy\u001b[0m\u001b[0;34m=\u001b[0m\u001b[0;32mFalse\u001b[0m\u001b[0;34m,\u001b[0m \u001b[0morder\u001b[0m\u001b[0;34m=\u001b[0m\u001b[0morder\u001b[0m\u001b[0;34m)\u001b[0m\u001b[0;34m\u001b[0m\u001b[0;34m\u001b[0m\u001b[0m\n\u001b[0m\u001b[1;32m     86\u001b[0m \u001b[0;34m\u001b[0m\u001b[0m\n\u001b[1;32m     87\u001b[0m \u001b[0;34m\u001b[0m\u001b[0m\n",
      "\u001b[0;31mValueError\u001b[0m: could not convert string to float: '2020-04-16'"
     ]
    }
   ],
   "source": [
    "# Create a list of train scores\n",
    "train_scores = []\n",
    "\n",
    "# Create a list of test scores\n",
    "test_scores = []\n",
    "\n",
    "# Create a dictionary for classification_reports\n",
    "classification_reports = {}\n",
    "\n",
    "# Create a list of different values for n_neighbors\n",
    "neighbors = [2,5,10,20] # 1 to 20\n",
    "\n",
    "# Setup algorithm\n",
    "knn = KNeighborsClassifier()\n",
    "\n",
    "# Loop through different neighbors values\n",
    "for i in neighbors:\n",
    "    knn.set_params(n_neighbors = i) # set neighbors value\n",
    "    \n",
    "    #model = Pipeline(steps=[(\"preprocessor\", preprocessor),\n",
    "     #                   (\"knn\", knn.set_params(n_neighbors = i))])\n",
    "    \n",
    "    knn.fit(X_train, y_train)\n",
    "    \n",
    "    # Update the training scores\n",
    "    train_scores.append(knn.score(X_train, y_train))\n",
    "    \n",
    "    # Update the test scores\n",
    "    test_scores.append(knn.score(X_test, y_test))\n",
    "    \n",
    "    # update the classification reports\n",
    "    classification_reports[i] = classification_report(y_test, knn.predict(X_test))"
   ]
  },
  {
   "cell_type": "code",
   "execution_count": 345,
   "metadata": {},
   "outputs": [
    {
     "data": {
      "text/plain": [
       "[0.9108812694814395, 0.9064890903938793, 0.914848398979881, 0.916406914139983]"
      ]
     },
     "execution_count": 345,
     "metadata": {},
     "output_type": "execute_result"
    }
   ],
   "source": [
    "test_scores"
   ]
  },
  {
   "cell_type": "code",
   "execution_count": 347,
   "metadata": {},
   "outputs": [
    {
     "name": "stdout",
     "output_type": "stream",
     "text": [
      "Maximum KNN score on the test data: 91.64%\n"
     ]
    },
    {
     "data": {
      "image/png": "[encoded data removed]",
      "text/plain": [
       "<Figure size 432x288 with 1 Axes>"
      ]
     },
     "metadata": {
      "needs_background": "light"
     },
     "output_type": "display_data"
    }
   ],
   "source": [
    "plt.plot(range(1,5), train_scores, label=\"Train score\")\n",
    "plt.plot(range(1,5), test_scores, label=\"Test score\")\n",
    "plt.xticks(np.arange(1, 4, 1))\n",
    "plt.xlabel(\"Number of neighbors\")\n",
    "plt.ylabel(\"Model score\")\n",
    "plt.legend()\n",
    "\n",
    "print(f\"Maximum KNN score on the test data: {max(test_scores)*100:.2f}%\")"
   ]
  },
  {
   "cell_type": "code",
   "execution_count": 355,
   "metadata": {},
   "outputs": [
    {
     "name": "stdout",
     "output_type": "stream",
     "text": [
      "2 neighbours:\n",
      "               precision    recall  f1-score   support\n",
      "\n",
      "           0       0.93      0.98      0.95      6467\n",
      "           1       0.41      0.14      0.21       591\n",
      "\n",
      "    accuracy                           0.91      7058\n",
      "   macro avg       0.67      0.56      0.58      7058\n",
      "weighted avg       0.88      0.91      0.89      7058\n",
      "\n",
      "5 neighbours:\n",
      "               precision    recall  f1-score   support\n",
      "\n",
      "           0       0.93      0.97      0.95      6467\n",
      "           1       0.39      0.21      0.27       591\n",
      "\n",
      "    accuracy                           0.91      7058\n",
      "   macro avg       0.66      0.59      0.61      7058\n",
      "weighted avg       0.89      0.91      0.89      7058\n",
      "\n",
      "10 neighbours:\n",
      "               precision    recall  f1-score   support\n",
      "\n",
      "           0       0.93      0.99      0.95      6467\n",
      "           1       0.47      0.14      0.21       591\n",
      "\n",
      "    accuracy                           0.91      7058\n",
      "   macro avg       0.70      0.56      0.58      7058\n",
      "weighted avg       0.89      0.91      0.89      7058\n",
      "\n",
      "20 neighbours:\n",
      "               precision    recall  f1-score   support\n",
      "\n",
      "           0       0.92      0.99      0.96      6467\n",
      "           1       0.50      0.09      0.15       591\n",
      "\n",
      "    accuracy                           0.92      7058\n",
      "   macro avg       0.71      0.54      0.55      7058\n",
      "weighted avg       0.89      0.92      0.89      7058\n",
      "\n"
     ]
    }
   ],
   "source": [
    "for clf in classification_reports:\n",
    "    print(clf, \"neighbours:\\n\", classification_reports[clf])"
   ]
  },
  {
   "cell_type": "code",
   "execution_count": null,
   "metadata": {},
   "outputs": [],
   "source": []
  },
  {
   "cell_type": "code",
   "execution_count": null,
   "metadata": {},
   "outputs": [],
   "source": []
  },
  {
   "cell_type": "code",
   "execution_count": null,
   "metadata": {},
   "outputs": [],
   "source": []
  },
  {
   "cell_type": "code",
   "execution_count": null,
   "metadata": {},
   "outputs": [],
   "source": []
  },
  {
   "cell_type": "markdown",
   "metadata": {},
   "source": [
    "### Tuning Logistic Regression and RandomForestClassifier using RandomizedSearchCV"
   ]
  },
  {
   "cell_type": "code",
   "execution_count": 319,
   "metadata": {},
   "outputs": [],
   "source": [
    "# Different LogisticRegression hyperparameters\n",
    "log_reg_grid = {\"C\": np.logspace(-4, 4, 20),\n",
    "                \"solver\": [\"liblinear\"]}\n",
    "\n",
    "# Different RandomForestClassifier hyperparameters\n",
    "rf_grid = {\"n_estimators\": np.arange(10, 1000, 50),\n",
    "           \"max_depth\": [None, 3, 5, 10],\n",
    "           \"min_samples_split\": np.arange(2, 20, 2),\n",
    "           \"min_samples_leaf\": np.arange(1, 20, 2)}"
   ]
  },
  {
   "cell_type": "code",
   "execution_count": 321,
   "metadata": {},
   "outputs": [
    {
     "ename": "ValueError",
     "evalue": "For a sparse output, all columns should be a numeric or convertible to a numeric.",
     "output_type": "error",
     "traceback": [
      "\u001b[0;31m---------------------------------------------------------------------------\u001b[0m",
      "\u001b[0;31mValueError\u001b[0m                                Traceback (most recent call last)",
      "\u001b[0;32m~/Desktop/sample_project_datascience/env/lib/python3.8/site-packages/sklearn/compose/_column_transformer.py\u001b[0m in \u001b[0;36m_hstack\u001b[0;34m(self, Xs)\u001b[0m\n\u001b[1;32m    611\u001b[0m                 \u001b[0;31m# dtype conversion if necessary.\u001b[0m\u001b[0;34m\u001b[0m\u001b[0;34m\u001b[0m\u001b[0;34m\u001b[0m\u001b[0m\n\u001b[0;32m--> 612\u001b[0;31m                 converted_Xs = [check_array(X,\n\u001b[0m\u001b[1;32m    613\u001b[0m                                             \u001b[0maccept_sparse\u001b[0m\u001b[0;34m=\u001b[0m\u001b[0;32mTrue\u001b[0m\u001b[0;34m,\u001b[0m\u001b[0;34m\u001b[0m\u001b[0;34m\u001b[0m\u001b[0m\n",
      "\u001b[0;32m~/Desktop/sample_project_datascience/env/lib/python3.8/site-packages/sklearn/compose/_column_transformer.py\u001b[0m in \u001b[0;36m<listcomp>\u001b[0;34m(.0)\u001b[0m\n\u001b[1;32m    611\u001b[0m                 \u001b[0;31m# dtype conversion if necessary.\u001b[0m\u001b[0;34m\u001b[0m\u001b[0;34m\u001b[0m\u001b[0;34m\u001b[0m\u001b[0m\n\u001b[0;32m--> 612\u001b[0;31m                 converted_Xs = [check_array(X,\n\u001b[0m\u001b[1;32m    613\u001b[0m                                             \u001b[0maccept_sparse\u001b[0m\u001b[0;34m=\u001b[0m\u001b[0;32mTrue\u001b[0m\u001b[0;34m,\u001b[0m\u001b[0;34m\u001b[0m\u001b[0;34m\u001b[0m\u001b[0m\n",
      "\u001b[0;32m~/Desktop/sample_project_datascience/env/lib/python3.8/site-packages/sklearn/utils/validation.py\u001b[0m in \u001b[0;36mcheck_array\u001b[0;34m(array, accept_sparse, accept_large_sparse, dtype, order, copy, force_all_finite, ensure_2d, allow_nd, ensure_min_samples, ensure_min_features, warn_on_dtype, estimator)\u001b[0m\n\u001b[1;32m    530\u001b[0m                 \u001b[0;32melse\u001b[0m\u001b[0;34m:\u001b[0m\u001b[0;34m\u001b[0m\u001b[0;34m\u001b[0m\u001b[0m\n\u001b[0;32m--> 531\u001b[0;31m                     \u001b[0marray\u001b[0m \u001b[0;34m=\u001b[0m \u001b[0mnp\u001b[0m\u001b[0;34m.\u001b[0m\u001b[0masarray\u001b[0m\u001b[0;34m(\u001b[0m\u001b[0marray\u001b[0m\u001b[0;34m,\u001b[0m \u001b[0morder\u001b[0m\u001b[0;34m=\u001b[0m\u001b[0morder\u001b[0m\u001b[0;34m,\u001b[0m \u001b[0mdtype\u001b[0m\u001b[0;34m=\u001b[0m\u001b[0mdtype\u001b[0m\u001b[0;34m)\u001b[0m\u001b[0;34m\u001b[0m\u001b[0;34m\u001b[0m\u001b[0m\n\u001b[0m\u001b[1;32m    532\u001b[0m             \u001b[0;32mexcept\u001b[0m \u001b[0mComplexWarning\u001b[0m\u001b[0;34m:\u001b[0m\u001b[0;34m\u001b[0m\u001b[0;34m\u001b[0m\u001b[0m\n",
      "\u001b[0;32m~/Desktop/sample_project_datascience/env/lib/python3.8/site-packages/numpy/core/_asarray.py\u001b[0m in \u001b[0;36masarray\u001b[0;34m(a, dtype, order)\u001b[0m\n\u001b[1;32m     84\u001b[0m     \"\"\"\n\u001b[0;32m---> 85\u001b[0;31m     \u001b[0;32mreturn\u001b[0m \u001b[0marray\u001b[0m\u001b[0;34m(\u001b[0m\u001b[0ma\u001b[0m\u001b[0;34m,\u001b[0m \u001b[0mdtype\u001b[0m\u001b[0;34m,\u001b[0m \u001b[0mcopy\u001b[0m\u001b[0;34m=\u001b[0m\u001b[0;32mFalse\u001b[0m\u001b[0;34m,\u001b[0m \u001b[0morder\u001b[0m\u001b[0;34m=\u001b[0m\u001b[0morder\u001b[0m\u001b[0;34m)\u001b[0m\u001b[0;34m\u001b[0m\u001b[0;34m\u001b[0m\u001b[0m\n\u001b[0m\u001b[1;32m     86\u001b[0m \u001b[0;34m\u001b[0m\u001b[0m\n",
      "\u001b[0;31mValueError\u001b[0m: could not convert string to float: 'UNKNOWN'",
      "\nDuring handling of the above exception, another exception occurred:\n",
      "\u001b[0;31mValueError\u001b[0m                                Traceback (most recent call last)",
      "\u001b[0;32m<ipython-input-321-37a3e8e7d7a7>\u001b[0m in \u001b[0;36m<module>\u001b[0;34m\u001b[0m\n\u001b[1;32m      1\u001b[0m \u001b[0mnp\u001b[0m\u001b[0;34m.\u001b[0m\u001b[0mrandom\u001b[0m\u001b[0;34m.\u001b[0m\u001b[0mseed\u001b[0m\u001b[0;34m(\u001b[0m\u001b[0;36m42\u001b[0m\u001b[0;34m)\u001b[0m\u001b[0;34m\u001b[0m\u001b[0;34m\u001b[0m\u001b[0m\n\u001b[1;32m      2\u001b[0m \u001b[0;34m\u001b[0m\u001b[0m\n\u001b[0;32m----> 3\u001b[0;31m \u001b[0mX_train\u001b[0m \u001b[0;34m=\u001b[0m \u001b[0mpreprocessor\u001b[0m\u001b[0;34m.\u001b[0m\u001b[0mfit_transform\u001b[0m\u001b[0;34m(\u001b[0m\u001b[0mX_train\u001b[0m\u001b[0;34m)\u001b[0m\u001b[0;34m\u001b[0m\u001b[0;34m\u001b[0m\u001b[0m\n\u001b[0m\u001b[1;32m      4\u001b[0m \u001b[0mX_train\u001b[0m\u001b[0;34m.\u001b[0m\u001b[0mcolumns\u001b[0m\u001b[0;34m.\u001b[0m\u001b[0mmap\u001b[0m\u001b[0;34m(\u001b[0m\u001b[0mtype\u001b[0m\u001b[0;34m)\u001b[0m\u001b[0;34m\u001b[0m\u001b[0;34m\u001b[0m\u001b[0m\n\u001b[1;32m      5\u001b[0m \u001b[0mX_test\u001b[0m \u001b[0;34m=\u001b[0m \u001b[0mpreprocessor\u001b[0m\u001b[0;34m.\u001b[0m\u001b[0mtransform\u001b[0m\u001b[0;34m(\u001b[0m\u001b[0mX_test\u001b[0m\u001b[0;34m)\u001b[0m\u001b[0;34m\u001b[0m\u001b[0;34m\u001b[0m\u001b[0m\n",
      "\u001b[0;32m~/Desktop/sample_project_datascience/env/lib/python3.8/site-packages/sklearn/compose/_column_transformer.py\u001b[0m in \u001b[0;36mfit_transform\u001b[0;34m(self, X, y)\u001b[0m\n\u001b[1;32m    538\u001b[0m         \u001b[0mself\u001b[0m\u001b[0;34m.\u001b[0m\u001b[0m_validate_output\u001b[0m\u001b[0;34m(\u001b[0m\u001b[0mXs\u001b[0m\u001b[0;34m)\u001b[0m\u001b[0;34m\u001b[0m\u001b[0;34m\u001b[0m\u001b[0m\n\u001b[1;32m    539\u001b[0m \u001b[0;34m\u001b[0m\u001b[0m\n\u001b[0;32m--> 540\u001b[0;31m         \u001b[0;32mreturn\u001b[0m \u001b[0mself\u001b[0m\u001b[0;34m.\u001b[0m\u001b[0m_hstack\u001b[0m\u001b[0;34m(\u001b[0m\u001b[0mlist\u001b[0m\u001b[0;34m(\u001b[0m\u001b[0mXs\u001b[0m\u001b[0;34m)\u001b[0m\u001b[0;34m)\u001b[0m\u001b[0;34m\u001b[0m\u001b[0;34m\u001b[0m\u001b[0m\n\u001b[0m\u001b[1;32m    541\u001b[0m \u001b[0;34m\u001b[0m\u001b[0m\n\u001b[1;32m    542\u001b[0m     \u001b[0;32mdef\u001b[0m \u001b[0mtransform\u001b[0m\u001b[0;34m(\u001b[0m\u001b[0mself\u001b[0m\u001b[0;34m,\u001b[0m \u001b[0mX\u001b[0m\u001b[0;34m)\u001b[0m\u001b[0;34m:\u001b[0m\u001b[0;34m\u001b[0m\u001b[0;34m\u001b[0m\u001b[0m\n",
      "\u001b[0;32m~/Desktop/sample_project_datascience/env/lib/python3.8/site-packages/sklearn/compose/_column_transformer.py\u001b[0m in \u001b[0;36m_hstack\u001b[0;34m(self, Xs)\u001b[0m\n\u001b[1;32m    615\u001b[0m                                 for X in Xs]\n\u001b[1;32m    616\u001b[0m             \u001b[0;32mexcept\u001b[0m \u001b[0mValueError\u001b[0m\u001b[0;34m:\u001b[0m\u001b[0;34m\u001b[0m\u001b[0;34m\u001b[0m\u001b[0m\n\u001b[0;32m--> 617\u001b[0;31m                 raise ValueError(\"For a sparse output, all columns should\"\n\u001b[0m\u001b[1;32m    618\u001b[0m                                  \" be a numeric or convertible to a numeric.\")\n\u001b[1;32m    619\u001b[0m \u001b[0;34m\u001b[0m\u001b[0m\n",
      "\u001b[0;31mValueError\u001b[0m: For a sparse output, all columns should be a numeric or convertible to a numeric."
     ]
    }
   ],
   "source": [
    "np.random.seed(42)\n",
    "\n",
    "X_train = preprocessor.fit_transform(X_train)\n",
    "\n",
    "X_test = preprocessor.transform(X_test)"
   ]
  },
  {
   "cell_type": "code",
   "execution_count": 39,
   "metadata": {},
   "outputs": [
    {
     "name": "stdout",
     "output_type": "stream",
     "text": [
      "Fitting 5 folds for each of 20 candidates, totalling 100 fits\n"
     ]
    },
    {
     "name": "stderr",
     "output_type": "stream",
     "text": [
      "[Parallel(n_jobs=1)]: Using backend SequentialBackend with 1 concurrent workers.\n",
      "[Parallel(n_jobs=1)]: Done 100 out of 100 | elapsed:    4.9s finished\n"
     ]
    }
   ],
   "source": [
    "# Setup random hyperparameter search for LogisticRegression\n",
    "rs_log_reg = RandomizedSearchCV(LogisticRegression(),\n",
    "                                param_distributions=log_reg_grid,\n",
    "                                cv=5,\n",
    "                                n_iter=20,\n",
    "                                verbose=True)\n",
    "\n",
    "# Fit random hyperparameter search model\n",
    "rs_log_reg.fit(X_train, y_train);"
   ]
  },
  {
   "cell_type": "code",
   "execution_count": 40,
   "metadata": {},
   "outputs": [
    {
     "data": {
      "text/plain": [
       "{'solver': 'liblinear', 'C': 0.0001}"
      ]
     },
     "execution_count": 40,
     "metadata": {},
     "output_type": "execute_result"
    }
   ],
   "source": [
    "rs_log_reg.best_params_\n"
   ]
  },
  {
   "cell_type": "code",
   "execution_count": 20,
   "metadata": {},
   "outputs": [],
   "source": []
  },
  {
   "cell_type": "code",
   "execution_count": 21,
   "metadata": {},
   "outputs": [
    {
     "data": {
      "text/plain": [
       "0.9156984981581184"
      ]
     },
     "execution_count": 21,
     "metadata": {},
     "output_type": "execute_result"
    }
   ],
   "source": [
    "rs_log_reg.score(X_test, y_test)\n"
   ]
  },
  {
   "cell_type": "code",
   "execution_count": 221,
   "metadata": {},
   "outputs": [
    {
     "name": "stdout",
     "output_type": "stream",
     "text": [
      "Fitting 5 folds for each of 20 candidates, totalling 100 fits\n"
     ]
    },
    {
     "name": "stderr",
     "output_type": "stream",
     "text": [
      "[Parallel(n_jobs=1)]: Using backend SequentialBackend with 1 concurrent workers.\n",
      "[Parallel(n_jobs=1)]: Done 100 out of 100 | elapsed:  9.3min finished\n"
     ]
    }
   ],
   "source": [
    "# Random Forest Classifier\n",
    "# Setup random seed\n",
    "np.random.seed(42)\n",
    "\n",
    "# Setup random hyperparameter search for RandomForestClassifier\n",
    "rs_rf = RandomizedSearchCV(RandomForestClassifier(),\n",
    "                           param_distributions=rf_grid,\n",
    "                           cv=5,\n",
    "                           n_iter=20,\n",
    "                           verbose=True)\n",
    "\n",
    "# Fit random hyperparameter search model\n",
    "rs_rf.fit(X_train, y_train);"
   ]
  },
  {
   "cell_type": "code",
   "execution_count": 97,
   "metadata": {},
   "outputs": [
    {
     "data": {
      "text/plain": [
       "{'n_estimators': 910,\n",
       " 'min_samples_split': 18,\n",
       " 'min_samples_leaf': 1,\n",
       " 'max_depth': 10}"
      ]
     },
     "execution_count": 97,
     "metadata": {},
     "output_type": "execute_result"
    }
   ],
   "source": [
    "# Find the best parameters\n",
    "rs_rf.best_params_"
   ]
  },
  {
   "cell_type": "code",
   "execution_count": 98,
   "metadata": {},
   "outputs": [
    {
     "data": {
      "text/plain": [
       "0.8534721307155093"
      ]
     },
     "execution_count": 98,
     "metadata": {},
     "output_type": "execute_result"
    }
   ],
   "source": [
    "# Evaluate the randomized search random forest model\n",
    "rs_rf.score(X_test, y_test)"
   ]
  },
  {
   "cell_type": "markdown",
   "metadata": {},
   "source": [
    "## Further evaluation metrics"
   ]
  },
  {
   "cell_type": "code",
   "execution_count": 222,
   "metadata": {},
   "outputs": [
    {
     "data": {
      "image/png": "[encoded data removed]",
      "text/plain": [
       "<Figure size 432x288 with 1 Axes>"
      ]
     },
     "metadata": {
      "needs_background": "light"
     },
     "output_type": "display_data"
    }
   ],
   "source": [
    "# ROC Curve\n",
    "plot_roc_curve(rs_rf, X_test, y_test);"
   ]
  },
  {
   "cell_type": "code",
   "execution_count": 210,
   "metadata": {},
   "outputs": [
    {
     "data": {
      "image/png": "[encoded data removed]",
      "text/plain": [
       "<Figure size 432x288 with 1 Axes>"
      ]
     },
     "metadata": {
      "needs_background": "light"
     },
     "output_type": "display_data"
    }
   ],
   "source": [
    "plot_roc_curve(rs_log_reg, X_test, y_test);"
   ]
  },
  {
   "cell_type": "code",
   "execution_count": null,
   "metadata": {},
   "outputs": [],
   "source": [
    "plot_roc_curve(rs_rf);"
   ]
  },
  {
   "cell_type": "code",
   "execution_count": 212,
   "metadata": {},
   "outputs": [
    {
     "name": "stdout",
     "output_type": "stream",
     "text": [
      "Confusion matrix, without normalization\n",
      "[[6449   18]\n",
      " [ 577   14]]\n",
      "Normalized confusion matrix\n",
      "[[0.99721664 0.00278336]\n",
      " [0.97631134 0.02368866]]\n"
     ]
    },
    {
     "data": {
      "image/png": "[encoded data removed]",
      "text/plain": [
       "<Figure size 432x288 with 2 Axes>"
      ]
     },
     "metadata": {
      "needs_background": "light"
     },
     "output_type": "display_data"
    },
    {
     "data": {
      "image/png": "[encoded data removed]",
      "text/plain": [
       "<Figure size 432x288 with 2 Axes>"
      ]
     },
     "metadata": {
      "needs_background": "light"
     },
     "output_type": "display_data"
    }
   ],
   "source": [
    "# plot_confusion_matrix for logistic regression\n",
    "\n",
    "titles_options = [(\"Confusion matrix, without normalization\", None),\n",
    "                  (\"Normalized confusion matrix\", 'true')]\n",
    "for title, normalize in titles_options:\n",
    "    disp = plot_confusion_matrix(rs_log_reg, X_test, y_test,\n",
    "                                 #display_labels=class_names,\n",
    "                                 cmap=plt.cm.Blues,\n",
    "                                 normalize=normalize)\n",
    "    disp.ax_.set_title(title)\n",
    "\n",
    "    print(title)\n",
    "    print(disp.confusion_matrix)\n",
    "\n",
    "plt.show()"
   ]
  },
  {
   "cell_type": "code",
   "execution_count": 41,
   "metadata": {},
   "outputs": [
    {
     "ename": "NameError",
     "evalue": "name 'rs_rf' is not defined",
     "output_type": "error",
     "traceback": [
      "\u001b[0;31m---------------------------------------------------------------------------\u001b[0m",
      "\u001b[0;31mNameError\u001b[0m                                 Traceback (most recent call last)",
      "\u001b[0;32m<ipython-input-41-602a0d468eb5>\u001b[0m in \u001b[0;36m<module>\u001b[0;34m\u001b[0m\n\u001b[1;32m      2\u001b[0m                   (\"Normalized confusion matrix\", 'true')]\n\u001b[1;32m      3\u001b[0m \u001b[0;32mfor\u001b[0m \u001b[0mtitle\u001b[0m\u001b[0;34m,\u001b[0m \u001b[0mnormalize\u001b[0m \u001b[0;32min\u001b[0m \u001b[0mtitles_options\u001b[0m\u001b[0;34m:\u001b[0m\u001b[0;34m\u001b[0m\u001b[0;34m\u001b[0m\u001b[0m\n\u001b[0;32m----> 4\u001b[0;31m     disp = plot_confusion_matrix(rs_rf, X_test, y_test,\n\u001b[0m\u001b[1;32m      5\u001b[0m                                  \u001b[0mcmap\u001b[0m\u001b[0;34m=\u001b[0m\u001b[0mplt\u001b[0m\u001b[0;34m.\u001b[0m\u001b[0mcm\u001b[0m\u001b[0;34m.\u001b[0m\u001b[0mBlues\u001b[0m\u001b[0;34m,\u001b[0m\u001b[0;34m\u001b[0m\u001b[0;34m\u001b[0m\u001b[0m\n\u001b[1;32m      6\u001b[0m                                  normalize=normalize)\n",
      "\u001b[0;31mNameError\u001b[0m: name 'rs_rf' is not defined"
     ]
    }
   ],
   "source": [
    "titles_options = [(\"Confusion matrix, without normalization\", None),\n",
    "                  (\"Normalized confusion matrix\", 'true')]\n",
    "for title, normalize in titles_options:\n",
    "    disp = plot_confusion_matrix(rs_rf, X_test, y_test,\n",
    "                                 cmap=plt.cm.Blues,\n",
    "                                 normalize=normalize)\n",
    "    disp.ax_.set_title(title)\n",
    "\n",
    "    print(title)\n",
    "    print(disp.confusion_matrix)\n",
    "\n",
    "plt.show()"
   ]
  },
  {
   "cell_type": "code",
   "execution_count": 215,
   "metadata": {},
   "outputs": [
    {
     "name": "stdout",
     "output_type": "stream",
     "text": [
      "              precision    recall  f1-score   support\n",
      "\n",
      "           0       0.92      1.00      0.96      6467\n",
      "           1       0.44      0.02      0.04       591\n",
      "\n",
      "    accuracy                           0.92      7058\n",
      "   macro avg       0.68      0.51      0.50      7058\n",
      "weighted avg       0.88      0.92      0.88      7058\n",
      "\n"
     ]
    }
   ],
   "source": [
    "# classification report\n",
    "y_preds = rs_log_reg.predict(X_test)\n",
    "\n",
    "print(classification_report(y_test, y_preds))"
   ]
  },
  {
   "cell_type": "code",
   "execution_count": 224,
   "metadata": {},
   "outputs": [
    {
     "name": "stdout",
     "output_type": "stream",
     "text": [
      "              precision    recall  f1-score   support\n",
      "\n",
      "           0       0.92      1.00      0.96      6467\n",
      "           1       0.42      0.01      0.03       591\n",
      "\n",
      "    accuracy                           0.92      7058\n",
      "   macro avg       0.67      0.51      0.49      7058\n",
      "weighted avg       0.88      0.92      0.88      7058\n",
      "\n"
     ]
    }
   ],
   "source": [
    "# classification report\n",
    "y_preds = rs_rf.predict(X_test)\n",
    "\n",
    "print(classification_report(y_test, y_preds))"
   ]
  },
  {
   "cell_type": "markdown",
   "metadata": {},
   "source": [
    "The evaluation metrics reveal that the trained classifiers perform very poorly on predicting fatal outcomes. \n",
    "Approaches: \n",
    "* feature engineering\n",
    "* account for class imbalance"
   ]
  },
  {
   "cell_type": "markdown",
   "metadata": {},
   "source": [
    "## Acounting for class imbalance"
   ]
  },
  {
   "cell_type": "code",
   "execution_count": 65,
   "metadata": {},
   "outputs": [
    {
     "data": {
      "image/png": "[encoded data removed]",
      "text/plain": [
       "<Figure size 720x432 with 1 Axes>"
      ]
     },
     "metadata": {
      "needs_background": "light"
     },
     "output_type": "display_data"
    }
   ],
   "source": [
    "# looking at the features again\n",
    "plt.figure(figsize=(10,6))\n",
    "\n",
    "# Start with positve examples\n",
    "plt.scatter(df.reporting_phu_longitude[df.outcome1==1], \n",
    "            df.reporting_phu_latitude[df.outcome1==1], \n",
    "            c=\"salmon\") # define it as a scatter figure\n",
    "\n",
    "# Now for negative examples, we want them on the same plot, so we call plt again\n",
    "plt.scatter(df.reporting_phu_longitude[df.outcome1==0], \n",
    "            df.reporting_phu_latitude[df.outcome1==0], \n",
    "            c=\"lightblue\") # axis always come as (x, y)\n",
    "\n",
    "# Add some helpful info\n",
    "plt.title(\"COVID-19 outcome dependent on age and latitude of reporting PHU\")\n",
    "plt.xlabel(\"Age\")\n",
    "plt.legend([\"Fatal Outcome\", \"Resolved\"])\n",
    "plt.ylabel(\"Latitude of Reporting Public Health Unit\");"
   ]
  },
  {
   "cell_type": "code",
   "execution_count": 76,
   "metadata": {},
   "outputs": [
    {
     "data": {
      "text/plain": [
       "0        FEMALE\n",
       "1          MALE\n",
       "2        FEMALE\n",
       "3        FEMALE\n",
       "4          MALE\n",
       "          ...  \n",
       "37942    FEMALE\n",
       "37943    FEMALE\n",
       "37944      MALE\n",
       "37945    FEMALE\n",
       "37946      MALE\n",
       "Name: client_gender, Length: 35286, dtype: object"
      ]
     },
     "execution_count": 76,
     "metadata": {},
     "output_type": "execute_result"
    }
   ],
   "source": [
    "df.client_gender"
   ]
  },
  {
   "cell_type": "code",
   "execution_count": 66,
   "metadata": {},
   "outputs": [
    {
     "data": {
      "text/plain": [
       "0.8092944176820629"
      ]
     },
     "execution_count": 66,
     "metadata": {},
     "output_type": "execute_result"
    }
   ],
   "source": [
    "# logistic regression accounting for class labels\n",
    "np.random.seed(42)\n",
    "\n",
    "\n",
    "# set class weights to be the inverse of class probabilities\n",
    "w = {1:92, 0:8}\n",
    "# Setup random hyperparameter search for LogisticRegression\n",
    "log_reg2 = LogisticRegression(C = 0.034, class_weight=w, random_state=13, max_iter=1000)\n",
    "\n",
    "# Fit random hyperparameter search model\n",
    "log_reg2.fit(X_train, y_train)\n",
    "log_reg2.score(X_test, y_test)"
   ]
  },
  {
   "cell_type": "code",
   "execution_count": 67,
   "metadata": {},
   "outputs": [
    {
     "data": {
      "text/plain": [
       "array([0, 1, 0, ..., 1, 0, 0])"
      ]
     },
     "execution_count": 67,
     "metadata": {},
     "output_type": "execute_result"
    }
   ],
   "source": [
    "y_pred = log_reg2.predict(X_test)\n",
    "y_pred"
   ]
  },
  {
   "cell_type": "code",
   "execution_count": 68,
   "metadata": {},
   "outputs": [
    {
     "name": "stdout",
     "output_type": "stream",
     "text": [
      "Accuracy Score: 0.8092944176820629\n",
      "Confusion Matrix: \n",
      "[[5194 1273]\n",
      " [  73  518]]\n",
      "Area Under Curve: 0.8398175090142665\n",
      "Recall score: 0.8764805414551607\n",
      "              precision    recall  f1-score   support\n",
      "\n",
      "           0       0.99      0.80      0.89      6467\n",
      "           1       0.29      0.88      0.43       591\n",
      "\n",
      "    accuracy                           0.81      7058\n",
      "   macro avg       0.64      0.84      0.66      7058\n",
      "weighted avg       0.93      0.81      0.85      7058\n",
      "\n"
     ]
    }
   ],
   "source": [
    "print(f'Accuracy Score: {accuracy_score(y_test,y_pred)}')\n",
    "print(f'Confusion Matrix: \\n{confusion_matrix(y_test, y_pred)}')\n",
    "print(f'Area Under Curve: {roc_auc_score(y_test, y_pred)}')\n",
    "print(f'Recall score: {recall_score(y_test,y_pred)}')\n",
    "\n",
    "print(classification_report(y_test, y_pred))"
   ]
  },
  {
   "cell_type": "code",
   "execution_count": 69,
   "metadata": {},
   "outputs": [
    {
     "name": "stdout",
     "output_type": "stream",
     "text": [
      "normalized confusion matrix\n",
      "[[0.80315448 0.19684552]\n",
      " [0.12351946 0.87648054]]\n"
     ]
    },
    {
     "data": {
      "image/png": "[encoded data removed]",
      "text/plain": [
       "<Figure size 432x288 with 2 Axes>"
      ]
     },
     "metadata": {
      "needs_background": "light"
     },
     "output_type": "display_data"
    }
   ],
   "source": [
    "\n",
    "title = \"normalized confusion matrix\"\n",
    "\n",
    "disp = plot_confusion_matrix(log_reg2, X_test, y_test,\n",
    "                                 cmap=plt.cm.Blues,\n",
    "                                 normalize='true'\n",
    "                            )\n",
    "disp.ax_.set_title(title)\n",
    "\n",
    "print(title)\n",
    "print(disp.confusion_matrix)\n",
    "\n",
    "plt.show()"
   ]
  },
  {
   "cell_type": "code",
   "execution_count": 70,
   "metadata": {},
   "outputs": [
    {
     "data": {
      "image/png": "[encoded data removed]",
      "text/plain": [
       "<Figure size 432x288 with 1 Axes>"
      ]
     },
     "metadata": {
      "needs_background": "light"
     },
     "output_type": "display_data"
    }
   ],
   "source": [
    "plot_roc_curve(log_reg2, X_test, y_test);"
   ]
  },
  {
   "cell_type": "markdown",
   "metadata": {},
   "source": [
    "## Feature engineering"
   ]
  },
  {
   "cell_type": "code",
   "execution_count": 95,
   "metadata": {},
   "outputs": [
    {
     "data": {
      "text/plain": [
       "Index(['accurate_episode_date', 'age_group', 'client_gender', 'outcome1',\n",
       "       'outbreak_related', 'reporting_phu', 'reporting_phu_city',\n",
       "       'reporting_phu_postal_code', 'reporting_phu_latitude',\n",
       "       'reporting_phu_longitude', 'case_reported_date', 'test_reported_date'],\n",
       "      dtype='object')"
      ]
     },
     "execution_count": 95,
     "metadata": {},
     "output_type": "execute_result"
    }
   ],
   "source": [
    "df.columns\n"
   ]
  },
  {
   "cell_type": "code",
   "execution_count": 81,
   "metadata": {},
   "outputs": [
    {
     "data": {
      "text/plain": [
       "0.7961178804193823"
      ]
     },
     "execution_count": 81,
     "metadata": {},
     "output_type": "execute_result"
    }
   ],
   "source": [
    "# try only gender and age_group as predictors\n",
    "X = df[[\"age_group\", \"client_gender\"]]\n",
    "\n",
    "preprocessor = ColumnTransformer(\n",
    "    transformers=[\n",
    "        (\"cat\", categorical_transformer, [\"client_gender\"]),\n",
    "        (\"num\", numeric_transformer, numeric_features)])\n",
    "\n",
    "X_train, X_test, y_train, y_test = train_test_split(X, \n",
    "                                                   y, \n",
    "                                                   test_size = 0.2)\n",
    "\n",
    "X_train = preprocessor.fit_transform(X_train)\n",
    "X_test= preprocessor.transform(X_test)\n",
    "\n",
    "log_reg3 = LogisticRegression(C = 0.034, class_weight=w, random_state=13, max_iter=1000)\n",
    "\n",
    "# Fit random hyperparameter search model\n",
    "log_reg3.fit(X_train, y_train)\n",
    "log_reg3.score(X_test, y_test)\n"
   ]
  },
  {
   "cell_type": "code",
   "execution_count": 82,
   "metadata": {},
   "outputs": [],
   "source": [
    "y_pred = log_reg3.predict(X_test)"
   ]
  },
  {
   "cell_type": "code",
   "execution_count": 86,
   "metadata": {},
   "outputs": [
    {
     "name": "stdout",
     "output_type": "stream",
     "text": [
      "              precision    recall  f1-score   support\n",
      "\n",
      "           0       0.99      0.79      0.88      6521\n",
      "           1       0.26      0.88      0.40       537\n",
      "\n",
      "    accuracy                           0.80      7058\n",
      "   macro avg       0.62      0.83      0.64      7058\n",
      "weighted avg       0.93      0.80      0.84      7058\n",
      "\n"
     ]
    }
   ],
   "source": [
    "print(classification_report(y_test, y_pred))"
   ]
  },
  {
   "cell_type": "code",
   "execution_count": 89,
   "metadata": {},
   "outputs": [
    {
     "data": {
      "text/plain": [
       "<sklearn.metrics._plot.confusion_matrix.ConfusionMatrixDisplay at 0x11eaf12b0>"
      ]
     },
     "execution_count": 89,
     "metadata": {},
     "output_type": "execute_result"
    },
    {
     "data": {
      "image/png": "[encoded data removed]",
      "text/plain": [
       "<Figure size 432x288 with 2 Axes>"
      ]
     },
     "metadata": {
      "needs_background": "light"
     },
     "output_type": "display_data"
    }
   ],
   "source": [
    "plot_confusion_matrix(log_reg3, X_test, y_test, normalize = 'true')"
   ]
  },
  {
   "cell_type": "code",
   "execution_count": 100,
   "metadata": {},
   "outputs": [
    {
     "ename": "SyntaxError",
     "evalue": "invalid syntax (<ipython-input-100-f25cca3675eb>, line 2)",
     "output_type": "error",
     "traceback": [
      "\u001b[0;36m  File \u001b[0;32m\"<ipython-input-100-f25cca3675eb>\"\u001b[0;36m, line \u001b[0;32m2\u001b[0m\n\u001b[0;31m    X = df[[\"\"accurate_episode_date\"]]\u001b[0m\n\u001b[0m              ^\u001b[0m\n\u001b[0;31mSyntaxError\u001b[0m\u001b[0;31m:\u001b[0m invalid syntax\n"
     ]
    }
   ],
   "source": [
    "# try only gender and age_group as predictors\n",
    "X = df[[\"age_group\", \"client_gender\", \"accurate_episode_date\"]]\n",
    "\n",
    "preprocessor = ColumnTransformer(\n",
    "    transformers=[\n",
    "        (\"cat\", categorical_transformer, [\"client_gender\"]),\n",
    "        (\"num\", numeric_transformer, numeric_features)])\n",
    "\n",
    "X_train, X_test, y_train, y_test = train_test_split(X, \n",
    "                                                   y, \n",
    "                                                   test_size = 0.2)\n",
    "\n",
    "X_train = preprocessor.fit_transform(X_train)\n",
    "X_test= preprocessor.transform(X_test)\n",
    "\n",
    "log_reg4 = LogisticRegression(C = 0.034, class_weight=w, random_state=13, max_iter=1000)\n",
    "\n",
    "# Fit random hyperparameter search model\n",
    "log_reg4.fit(X_train, y_train)\n",
    "log_reg4.score(X_test, y_test)"
   ]
  },
  {
   "cell_type": "code",
   "execution_count": 99,
   "metadata": {},
   "outputs": [
    {
     "name": "stdout",
     "output_type": "stream",
     "text": [
      "              precision    recall  f1-score   support\n",
      "\n",
      "           0       0.99      0.80      0.89      6511\n",
      "           1       0.28      0.90      0.43       547\n",
      "\n",
      "    accuracy                           0.81      7058\n",
      "   macro avg       0.63      0.85      0.66      7058\n",
      "weighted avg       0.93      0.81      0.85      7058\n",
      "\n"
     ]
    },
    {
     "data": {
      "image/png": "[encoded data removed]",
      "text/plain": [
       "<Figure size 432x288 with 2 Axes>"
      ]
     },
     "metadata": {
      "needs_background": "light"
     },
     "output_type": "display_data"
    }
   ],
   "source": [
    "y_pred = log_reg4.predict(X_test)\n",
    "print(classification_report(y_test, y_pred))\n",
    "plot_confusion_matrix(log_reg4, X_test, y_test, normalize = 'true');"
   ]
  },
  {
   "cell_type": "code",
   "execution_count": 113,
   "metadata": {},
   "outputs": [
    {
     "data": {
      "text/plain": [
       "0.8108529328421649"
      ]
     },
     "execution_count": 113,
     "metadata": {},
     "output_type": "execute_result"
    }
   ],
   "source": [
    "## only date\n",
    "# try only gender and age_group as predictors\n",
    "X = df[[\"age_group\", \"client_gender\", \"accurate_episode_date\",\"reporting_phu_latitude\", \"reporting_phu_longitude\"]]\n",
    "\n",
    "X_train, X_test, y_train, y_test = train_test_split(X, \n",
    "                                                   y, \n",
    "                                                   test_size = 0.2)\n",
    "\n",
    "\n",
    "preprocessor = ColumnTransformer(\n",
    "    transformers=[\n",
    "        (\"cat\", categorical_transformer, [\"client_gender\"]),\n",
    "        (\"num\", numeric_transformer, numeric_features)])\n",
    "\n",
    "X_train = preprocessor.fit_transform(X_train)\n",
    "X_test = preprocessor.transform(X_test)\n",
    "\n",
    "log_reg5 = LogisticRegression(C = 0.034, class_weight=w, max_iter=1000)\n",
    "\n",
    "# Fit random hyperparameter search model\n",
    "log_reg5.fit(X_train, y_train)\n",
    "log_reg5.score(X_test, y_test)"
   ]
  },
  {
   "cell_type": "code",
   "execution_count": 114,
   "metadata": {},
   "outputs": [
    {
     "name": "stdout",
     "output_type": "stream",
     "text": [
      "              precision    recall  f1-score   support\n",
      "\n",
      "           0       0.99      0.80      0.89      6493\n",
      "           1       0.28      0.88      0.43       565\n",
      "\n",
      "    accuracy                           0.81      7058\n",
      "   macro avg       0.64      0.84      0.66      7058\n",
      "weighted avg       0.93      0.81      0.85      7058\n",
      "\n"
     ]
    },
    {
     "data": {
      "image/png": "[encoded data removed]",
      "text/plain": [
       "<Figure size 432x288 with 2 Axes>"
      ]
     },
     "metadata": {
      "needs_background": "light"
     },
     "output_type": "display_data"
    }
   ],
   "source": [
    "y_pred = log_reg5.predict(X_test)\n",
    "print(classification_report(y_test, y_pred))\n",
    "plot_confusion_matrix(log_reg4, X_test, y_test, normalize = 'true');"
   ]
  }
 ],
 "metadata": {
  "kernelspec": {
   "display_name": "Python 3",
   "language": "python",
   "name": "python3"
  },
  "language_info": {
   "codemirror_mode": {
    "name": "ipython",
    "version": 3
   },
   "file_extension": ".py",
   "mimetype": "text/x-python",
   "name": "python",
   "nbconvert_exporter": "python",
   "pygments_lexer": "ipython3",
   "version": "3.8.3"
  }
 },
 "nbformat": 4,
 "nbformat_minor": 4
}
