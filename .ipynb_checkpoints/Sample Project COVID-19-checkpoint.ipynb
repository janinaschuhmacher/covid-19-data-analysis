{
 "cells": [
  {
   "cell_type": "markdown",
   "metadata": {},
   "source": [
    "# Sample Project Coronavirus"
   ]
  },
  {
   "cell_type": "markdown",
   "metadata": {},
   "source": [
    "The goal of this project is to explore a dataset of coronavirus patients to train a model which predicts whether a patient will die or recover from Coronavirus. "
   ]
  },
  {
   "cell_type": "markdown",
   "metadata": {},
   "source": [
    "## About the data"
   ]
  },
  {
   "cell_type": "markdown",
   "metadata": {},
   "source": [
    "The dataset confirmed-positive-on data comes from https://howsmyflattening.ca/#/data/. \n",
    "\n",
    "The site is set up by a group of physicians, medical students, computational health researchers, designers and epidemiologists who aim to rapidly filter and present emergent COVID-19 data to help Ontario #FlattenTheCurve. They intend to connect experts and present data in an easy to digest, actionable way to help Ontario's public leaders and individuals act decisively as evidence grows and time ticks by."
   ]
  },
  {
   "cell_type": "markdown",
   "metadata": {},
   "source": [
    "### Confirmed positive cases of COVID19 in Ontario"
   ]
  },
  {
   "cell_type": "markdown",
   "metadata": {},
   "source": [
    "The dataset includes compiled daily reported data from public health units on confirmed positive cases of COVID-19 in Ontario. It includes data on patients from 1st January 2020 to 28th June 2020 and is updated daily. Currently, the dataset inludes data from 37,947 patients. Case data is as initially reported.\n",
    "\n",
    "The following are the features which we will use for predicting the outcome variable (recovered or diseased).\n",
    "\n",
    "1. accurate_episode_date - date of diagnosis\n",
    "2. age_group - categorized to <20, 30s, 40s, 50s, 60s, 70s, 80s or 90s\n",
    "3. client_gender - female, male, unkown, other,or transgender\n",
    "4. outbreak_related - Yes or no entry\n",
    "5. reporting_phu_latitude - Latitude of the reporting public health unit\n",
    "6. reporting_phu_longitude - longitude of the reporting public health unit\n",
    "\n",
    "\n"
   ]
  },
  {
   "cell_type": "markdown",
   "metadata": {},
   "source": [
    "### Preparing the tools"
   ]
  },
  {
   "cell_type": "code",
   "execution_count": 2,
   "metadata": {},
   "outputs": [],
   "source": [
    "# Exploratory Data Analysis and plotting libraries \n",
    "import numpy as np\n",
    "import pandas as pd\n",
    "import matplotlib.pyplot as plt\n",
    "import seaborn as sns\n",
    "\n",
    "%matplotlib inline\n",
    "\n",
    "# Data Cleaning with Scikit Learn\n",
    "from sklearn.preprocessing import OneHotEncoder\n",
    "from sklearn.compose import ColumnTransformer\n",
    "from sklearn.impute import SimpleImputer\n",
    "from sklearn.pipeline import Pipeline\n",
    "\n",
    "\n",
    "# Models from Skikit Learn\n",
    "from sklearn.linear_model import LogisticRegression\n",
    "from sklearn.neighbors import KNeighborsClassifier\n",
    "from sklearn.ensemble import RandomForestClassifier\n",
    "\n",
    "\n",
    "# Model Evaluation\n",
    "from sklearn.model_selection import train_test_split, cross_val_score\n",
    "from sklearn.model_selection import RandomizedSearchCV, GridSearchCV\n",
    "from sklearn.metrics import confusion_matrix, classification_report\n",
    "from sklearn.metrics import precision_score, recall_score, f1_score\n",
    "from sklearn.metrics import plot_roc_curve"
   ]
  },
  {
   "cell_type": "markdown",
   "metadata": {},
   "source": [
    "### Load Data"
   ]
  },
  {
   "cell_type": "code",
   "execution_count": 3,
   "metadata": {},
   "outputs": [
    {
     "data": {
      "text/plain": [
       "(37947, 18)"
      ]
     },
     "execution_count": 3,
     "metadata": {},
     "output_type": "execute_result"
    }
   ],
   "source": [
    "df = pd.read_csv(\"confirmed_positive_on.csv\", sep =\";\")\n",
    "df.shape"
   ]
  },
  {
   "cell_type": "markdown",
   "metadata": {},
   "source": [
    "## Explorative Data Anlysis"
   ]
  },
  {
   "cell_type": "code",
   "execution_count": 188,
   "metadata": {},
   "outputs": [
    {
     "data": {
      "text/html": [
       "<div>\n",
       "<style scoped>\n",
       "    .dataframe tbody tr th:only-of-type {\n",
       "        vertical-align: middle;\n",
       "    }\n",
       "\n",
       "    .dataframe tbody tr th {\n",
       "        vertical-align: top;\n",
       "    }\n",
       "\n",
       "    .dataframe thead th {\n",
       "        text-align: right;\n",
       "    }\n",
       "</style>\n",
       "<table border=\"1\" class=\"dataframe\">\n",
       "  <thead>\n",
       "    <tr style=\"text-align: right;\">\n",
       "      <th></th>\n",
       "      <th>id</th>\n",
       "      <th>row_id</th>\n",
       "      <th>accurate_episode_date</th>\n",
       "      <th>age_group</th>\n",
       "      <th>client_gender</th>\n",
       "      <th>case_acquisitionInfo</th>\n",
       "      <th>outcome1</th>\n",
       "      <th>outbreak_related</th>\n",
       "      <th>reporting_phu</th>\n",
       "      <th>reporting_phu_address</th>\n",
       "      <th>reporting_phu_city</th>\n",
       "      <th>reporting_phu_postal_code</th>\n",
       "      <th>reporting_phu_website</th>\n",
       "      <th>reporting_phu_latitude</th>\n",
       "      <th>reporting_phu_longitude</th>\n",
       "      <th>case_reported_date</th>\n",
       "      <th>specimen_reported_date</th>\n",
       "      <th>test_reported_date</th>\n",
       "    </tr>\n",
       "  </thead>\n",
       "  <tbody>\n",
       "    <tr>\n",
       "      <th>0</th>\n",
       "      <td>4066</td>\n",
       "      <td>4066</td>\n",
       "      <td>2020-03-28</td>\n",
       "      <td>20s</td>\n",
       "      <td>FEMALE</td>\n",
       "      <td>Travel</td>\n",
       "      <td>Resolved</td>\n",
       "      <td>NaN</td>\n",
       "      <td>Windsor-Essex County Health Unit</td>\n",
       "      <td>1005 Ouellette Avenue</td>\n",
       "      <td>Windsor</td>\n",
       "      <td>N9A 4J8</td>\n",
       "      <td>www.wechu.org</td>\n",
       "      <td>42.308796</td>\n",
       "      <td>-83.033670</td>\n",
       "      <td>2020-04-03</td>\n",
       "      <td>2020-03-30</td>\n",
       "      <td>2020-04-03</td>\n",
       "    </tr>\n",
       "    <tr>\n",
       "      <th>1</th>\n",
       "      <td>1091</td>\n",
       "      <td>1091</td>\n",
       "      <td>2020-03-13</td>\n",
       "      <td>30s</td>\n",
       "      <td>MALE</td>\n",
       "      <td>Travel</td>\n",
       "      <td>Resolved</td>\n",
       "      <td>NaN</td>\n",
       "      <td>Ottawa Public Health</td>\n",
       "      <td>100 Constellation Drive</td>\n",
       "      <td>Ottawa</td>\n",
       "      <td>K2G 6J8</td>\n",
       "      <td>www.ottawapublichealth.ca</td>\n",
       "      <td>45.345665</td>\n",
       "      <td>-75.763912</td>\n",
       "      <td>2020-03-26</td>\n",
       "      <td>2020-03-17</td>\n",
       "      <td>2020-03-26</td>\n",
       "    </tr>\n",
       "    <tr>\n",
       "      <th>2</th>\n",
       "      <td>34119</td>\n",
       "      <td>33188</td>\n",
       "      <td>2020-04-12</td>\n",
       "      <td>20s</td>\n",
       "      <td>FEMALE</td>\n",
       "      <td>No Epi-link</td>\n",
       "      <td>Resolved</td>\n",
       "      <td>NaN</td>\n",
       "      <td>Middlesex-London Health Unit</td>\n",
       "      <td>50 King Street</td>\n",
       "      <td>London</td>\n",
       "      <td>N6A 5L7</td>\n",
       "      <td>www.healthunit.com</td>\n",
       "      <td>42.981468</td>\n",
       "      <td>-81.254016</td>\n",
       "      <td>2020-05-20</td>\n",
       "      <td>2020-05-17</td>\n",
       "      <td>2020-05-20</td>\n",
       "    </tr>\n",
       "    <tr>\n",
       "      <th>3</th>\n",
       "      <td>9095</td>\n",
       "      <td>9095</td>\n",
       "      <td>2020-04-12</td>\n",
       "      <td>30s</td>\n",
       "      <td>FEMALE</td>\n",
       "      <td>CC</td>\n",
       "      <td>Resolved</td>\n",
       "      <td>NaN</td>\n",
       "      <td>Region of Waterloo, Public Health</td>\n",
       "      <td>99 Regina Street South</td>\n",
       "      <td>Waterloo</td>\n",
       "      <td>N2J 4V3</td>\n",
       "      <td>www.regionofwaterloo.ca</td>\n",
       "      <td>43.462876</td>\n",
       "      <td>-80.520913</td>\n",
       "      <td>2020-04-15</td>\n",
       "      <td>2020-04-14</td>\n",
       "      <td>2020-04-15</td>\n",
       "    </tr>\n",
       "    <tr>\n",
       "      <th>4</th>\n",
       "      <td>1713</td>\n",
       "      <td>1713</td>\n",
       "      <td>2020-03-23</td>\n",
       "      <td>30s</td>\n",
       "      <td>MALE</td>\n",
       "      <td>CC</td>\n",
       "      <td>Resolved</td>\n",
       "      <td>NaN</td>\n",
       "      <td>Eastern Ontario Health Unit</td>\n",
       "      <td>1000 Pitt Street</td>\n",
       "      <td>Cornwall</td>\n",
       "      <td>K6J 5T1</td>\n",
       "      <td>www.eohu.ca</td>\n",
       "      <td>45.029152</td>\n",
       "      <td>-74.736298</td>\n",
       "      <td>2020-04-01</td>\n",
       "      <td>2020-03-24</td>\n",
       "      <td>2020-04-01</td>\n",
       "    </tr>\n",
       "  </tbody>\n",
       "</table>\n",
       "</div>"
      ],
      "text/plain": [
       "      id  row_id accurate_episode_date age_group client_gender  \\\n",
       "0   4066    4066            2020-03-28       20s        FEMALE   \n",
       "1   1091    1091            2020-03-13       30s          MALE   \n",
       "2  34119   33188            2020-04-12       20s        FEMALE   \n",
       "3   9095    9095            2020-04-12       30s        FEMALE   \n",
       "4   1713    1713            2020-03-23       30s          MALE   \n",
       "\n",
       "  case_acquisitionInfo  outcome1 outbreak_related  \\\n",
       "0               Travel  Resolved              NaN   \n",
       "1               Travel  Resolved              NaN   \n",
       "2          No Epi-link  Resolved              NaN   \n",
       "3                   CC  Resolved              NaN   \n",
       "4                   CC  Resolved              NaN   \n",
       "\n",
       "                       reporting_phu    reporting_phu_address  \\\n",
       "0   Windsor-Essex County Health Unit    1005 Ouellette Avenue   \n",
       "1               Ottawa Public Health  100 Constellation Drive   \n",
       "2       Middlesex-London Health Unit           50 King Street   \n",
       "3  Region of Waterloo, Public Health   99 Regina Street South   \n",
       "4        Eastern Ontario Health Unit         1000 Pitt Street   \n",
       "\n",
       "  reporting_phu_city reporting_phu_postal_code      reporting_phu_website  \\\n",
       "0            Windsor                   N9A 4J8              www.wechu.org   \n",
       "1             Ottawa                   K2G 6J8  www.ottawapublichealth.ca   \n",
       "2             London                   N6A 5L7         www.healthunit.com   \n",
       "3           Waterloo                   N2J 4V3    www.regionofwaterloo.ca   \n",
       "4           Cornwall                   K6J 5T1                www.eohu.ca   \n",
       "\n",
       "   reporting_phu_latitude  reporting_phu_longitude case_reported_date  \\\n",
       "0               42.308796               -83.033670         2020-04-03   \n",
       "1               45.345665               -75.763912         2020-03-26   \n",
       "2               42.981468               -81.254016         2020-05-20   \n",
       "3               43.462876               -80.520913         2020-04-15   \n",
       "4               45.029152               -74.736298         2020-04-01   \n",
       "\n",
       "  specimen_reported_date test_reported_date  \n",
       "0             2020-03-30         2020-04-03  \n",
       "1             2020-03-17         2020-03-26  \n",
       "2             2020-05-17         2020-05-20  \n",
       "3             2020-04-14         2020-04-15  \n",
       "4             2020-03-24         2020-04-01  "
      ]
     },
     "execution_count": 188,
     "metadata": {},
     "output_type": "execute_result"
    }
   ],
   "source": [
    "df.head()"
   ]
  },
  {
   "cell_type": "code",
   "execution_count": 189,
   "metadata": {},
   "outputs": [
    {
     "data": {
      "image/png": "[encoded data removed]",
      "text/plain": [
       "<Figure size 432x288 with 1 Axes>"
      ]
     },
     "metadata": {
      "needs_background": "light"
     },
     "output_type": "display_data"
    }
   ],
   "source": [
    "fig, ax = plt.subplots()\n",
    "ax.bar(x = list(set(df[\"outcome1\"])), height = df[\"outcome1\"].value_counts(), color=['darkred', 'g', 'orange'])\n",
    "ax.set_ylabel(\"nr of cases\")\n",
    "ax.set_title(\"Outcome of COVID-19 disease\")\n",
    "\n",
    "plt.show()\n",
    "\n"
   ]
  },
  {
   "cell_type": "code",
   "execution_count": 190,
   "metadata": {},
   "outputs": [
    {
     "data": {
      "text/plain": [
       "Resolved        0.854033\n",
       "Fatal           0.075895\n",
       "Not Resolved    0.070071\n",
       "Name: outcome1, dtype: float64"
      ]
     },
     "execution_count": 190,
     "metadata": {},
     "output_type": "execute_result"
    }
   ],
   "source": [
    "df[\"outcome1\"].value_counts(normalize = True)"
   ]
  },
  {
   "cell_type": "markdown",
   "metadata": {},
   "source": [
    "The dataset is highly unbalanced with approximately 85 % recoveries, 8 % fatal outcomes and 7 % not yet resolved cases. For now, we shall exclude unresolved cases from our analysis. "
   ]
  },
  {
   "cell_type": "code",
   "execution_count": 3,
   "metadata": {},
   "outputs": [],
   "source": [
    "df.drop(df[df[\"outcome1\"] == \"Not Resolved\"].index, inplace = True)"
   ]
  },
  {
   "cell_type": "code",
   "execution_count": 4,
   "metadata": {},
   "outputs": [
    {
     "data": {
      "text/plain": [
       "Resolved        0.854033\n",
       "Fatal           0.075895\n",
       "Not Resolved    0.070071\n",
       "Name: outcome1, dtype: float64"
      ]
     },
     "execution_count": 4,
     "metadata": {},
     "output_type": "execute_result"
    }
   ],
   "source": [
    "df[\"outcome1\"].value_counts(normalize = True)"
   ]
  },
  {
   "cell_type": "code",
   "execution_count": 193,
   "metadata": {},
   "outputs": [
    {
     "name": "stdout",
     "output_type": "stream",
     "text": [
      "<class 'pandas.core.frame.DataFrame'>\n",
      "Int64Index: 35288 entries, 0 to 37946\n",
      "Data columns (total 18 columns):\n",
      " #   Column                     Non-Null Count  Dtype  \n",
      "---  ------                     --------------  -----  \n",
      " 0   id                         35288 non-null  int64  \n",
      " 1   row_id                     35288 non-null  int64  \n",
      " 2   accurate_episode_date      35286 non-null  object \n",
      " 3   age_group                  35288 non-null  object \n",
      " 4   client_gender              35288 non-null  object \n",
      " 5   case_acquisitionInfo       35288 non-null  object \n",
      " 6   outcome1                   35288 non-null  object \n",
      " 7   outbreak_related           14676 non-null  object \n",
      " 8   reporting_phu              35288 non-null  object \n",
      " 9   reporting_phu_address      35288 non-null  object \n",
      " 10  reporting_phu_city         35288 non-null  object \n",
      " 11  reporting_phu_postal_code  35288 non-null  object \n",
      " 12  reporting_phu_website      35288 non-null  object \n",
      " 13  reporting_phu_latitude     35288 non-null  float64\n",
      " 14  reporting_phu_longitude    35288 non-null  float64\n",
      " 15  case_reported_date         35288 non-null  object \n",
      " 16  specimen_reported_date     34959 non-null  object \n",
      " 17  test_reported_date         34841 non-null  object \n",
      "dtypes: float64(2), int64(2), object(14)\n",
      "memory usage: 5.1+ MB\n"
     ]
    }
   ],
   "source": [
    "df.info()"
   ]
  },
  {
   "cell_type": "markdown",
   "metadata": {},
   "source": [
    "### Cleaning features"
   ]
  },
  {
   "cell_type": "code",
   "execution_count": 194,
   "metadata": {},
   "outputs": [
    {
     "data": {
      "text/plain": [
       "id                               0\n",
       "row_id                           0\n",
       "accurate_episode_date            2\n",
       "age_group                        0\n",
       "client_gender                    0\n",
       "case_acquisitionInfo             0\n",
       "outcome1                         0\n",
       "outbreak_related             20612\n",
       "reporting_phu                    0\n",
       "reporting_phu_address            0\n",
       "reporting_phu_city               0\n",
       "reporting_phu_postal_code        0\n",
       "reporting_phu_website            0\n",
       "reporting_phu_latitude           0\n",
       "reporting_phu_longitude          0\n",
       "case_reported_date               0\n",
       "specimen_reported_date         329\n",
       "test_reported_date             447\n",
       "dtype: int64"
      ]
     },
     "execution_count": 194,
     "metadata": {},
     "output_type": "execute_result"
    }
   ],
   "source": [
    "df.isna().sum()"
   ]
  },
  {
   "cell_type": "markdown",
   "metadata": {},
   "source": [
    "### COVID 19 outcome according to Gender"
   ]
  },
  {
   "cell_type": "code",
   "execution_count": 40,
   "metadata": {},
   "outputs": [
    {
     "data": {
      "text/plain": [
       "FEMALE         19006\n",
       "MALE           16005\n",
       "UNKNOWN          262\n",
       "OTHER              8\n",
       "TRANSGENDER        7\n",
       "Name: client_gender, dtype: int64"
      ]
     },
     "execution_count": 40,
     "metadata": {},
     "output_type": "execute_result"
    }
   ],
   "source": [
    "df.client_gender.value_counts()"
   ]
  },
  {
   "cell_type": "code",
   "execution_count": 45,
   "metadata": {},
   "outputs": [
    {
     "data": {
      "text/html": [
       "<div>\n",
       "<style scoped>\n",
       "    .dataframe tbody tr th:only-of-type {\n",
       "        vertical-align: middle;\n",
       "    }\n",
       "\n",
       "    .dataframe tbody tr th {\n",
       "        vertical-align: top;\n",
       "    }\n",
       "\n",
       "    .dataframe thead th {\n",
       "        text-align: right;\n",
       "    }\n",
       "</style>\n",
       "<table border=\"1\" class=\"dataframe\">\n",
       "  <thead>\n",
       "    <tr style=\"text-align: right;\">\n",
       "      <th>client_gender</th>\n",
       "      <th>FEMALE</th>\n",
       "      <th>MALE</th>\n",
       "      <th>OTHER</th>\n",
       "      <th>TRANSGENDER</th>\n",
       "      <th>UNKNOWN</th>\n",
       "    </tr>\n",
       "    <tr>\n",
       "      <th>outcome1</th>\n",
       "      <th></th>\n",
       "      <th></th>\n",
       "      <th></th>\n",
       "      <th></th>\n",
       "      <th></th>\n",
       "    </tr>\n",
       "  </thead>\n",
       "  <tbody>\n",
       "    <tr>\n",
       "      <th>Fatal</th>\n",
       "      <td>1544</td>\n",
       "      <td>1293</td>\n",
       "      <td>0</td>\n",
       "      <td>1</td>\n",
       "      <td>42</td>\n",
       "    </tr>\n",
       "    <tr>\n",
       "      <th>Resolved</th>\n",
       "      <td>17462</td>\n",
       "      <td>14712</td>\n",
       "      <td>8</td>\n",
       "      <td>6</td>\n",
       "      <td>220</td>\n",
       "    </tr>\n",
       "  </tbody>\n",
       "</table>\n",
       "</div>"
      ],
      "text/plain": [
       "client_gender  FEMALE   MALE  OTHER  TRANSGENDER  UNKNOWN\n",
       "outcome1                                                 \n",
       "Fatal            1544   1293      0            1       42\n",
       "Resolved        17462  14712      8            6      220"
      ]
     },
     "execution_count": 45,
     "metadata": {},
     "output_type": "execute_result"
    }
   ],
   "source": [
    "pd.crosstab(df.outcome1, df.client_gender)"
   ]
  },
  {
   "cell_type": "code",
   "execution_count": 59,
   "metadata": {
    "scrolled": true
   },
   "outputs": [
    {
     "data": {
      "text/plain": [
       "0.08842057038139961"
      ]
     },
     "execution_count": 59,
     "metadata": {},
     "output_type": "execute_result"
    }
   ],
   "source": [
    "female_fatal = sum((df.client_gender == \"FEMALE\") & (df.outcome1 == \"Fatal\"))\n",
    "female_resolved = sum((df.client_gender == \"FEMALE\") & (df.outcome1 == \"Resolved\"))\n",
    "mortality_rate_female = female_fatal / female_resolved\n",
    "mortality_rate_female\n"
   ]
  },
  {
   "cell_type": "code",
   "execution_count": 60,
   "metadata": {},
   "outputs": [
    {
     "data": {
      "text/plain": [
       "0.08788743882544861"
      ]
     },
     "execution_count": 60,
     "metadata": {},
     "output_type": "execute_result"
    }
   ],
   "source": [
    "male_fatal = sum((df.client_gender == \"MALE\") & (df.outcome1 == \"Fatal\"))\n",
    "male_resolved = sum((df.client_gender == \"MALE\") & (df.outcome1 == \"Resolved\"))\n",
    "mortality_rate_male = male_fatal / male_resolved\n",
    "mortality_rate_male"
   ]
  },
  {
   "cell_type": "code",
   "execution_count": 43,
   "metadata": {},
   "outputs": [
    {
     "data": {
      "image/png": "[encoded data removed]",
      "text/plain": [
       "<Figure size 720x432 with 1 Axes>"
      ]
     },
     "metadata": {
      "needs_background": "light"
     },
     "output_type": "display_data"
    }
   ],
   "source": [
    "# Plotting the data\n",
    "pd.crosstab(df.##utcome1, df.client_gender).plot(kind=\"bar\", figsize=(10,6), color=[\"darkcyan\", \"goldenrod\", \"skyblue\", \"darkgreen\", \"coral\"])\n",
    "\n",
    "plt.title(\"COVID-19 outcomes by gender\")\n",
    "plt.xlabel(\"outcome\")\n",
    "plt.ylabel(\"nr of cases\");"
   ]
  },
  {
   "cell_type": "markdown",
   "metadata": {},
   "source": [
    "### Age for COVID-19 outcomes"
   ]
  },
  {
   "cell_type": "code",
   "execution_count": 62,
   "metadata": {},
   "outputs": [
    {
     "data": {
      "image/png": "[encoded data removed]",
      "text/plain": [
       "<Figure size 720x432 with 1 Axes>"
      ]
     },
     "metadata": {
      "needs_background": "light"
     },
     "output_type": "display_data"
    }
   ],
   "source": [
    "pd.crosstab(df.outcome1, df.age_group).plot(kind=\"bar\", figsize=(10,6))\n",
    "\n",
    "plt.title(\"COVID-19 outcomes by age\")\n",
    "plt.xlabel(\"outcome\")\n",
    "plt.ylabel(\"nr of cases\");"
   ]
  },
  {
   "cell_type": "markdown",
   "metadata": {},
   "source": [
    "### Correlation Analysis of Independent Data"
   ]
  },
  {
   "cell_type": "code",
   "execution_count": 66,
   "metadata": {},
   "outputs": [
    {
     "data": {
      "text/html": [
       "<div>\n",
       "<style scoped>\n",
       "    .dataframe tbody tr th:only-of-type {\n",
       "        vertical-align: middle;\n",
       "    }\n",
       "\n",
       "    .dataframe tbody tr th {\n",
       "        vertical-align: top;\n",
       "    }\n",
       "\n",
       "    .dataframe thead th {\n",
       "        text-align: right;\n",
       "    }\n",
       "</style>\n",
       "<table border=\"1\" class=\"dataframe\">\n",
       "  <thead>\n",
       "    <tr style=\"text-align: right;\">\n",
       "      <th></th>\n",
       "      <th>id</th>\n",
       "      <th>row_id</th>\n",
       "      <th>reporting_phu_latitude</th>\n",
       "      <th>reporting_phu_longitude</th>\n",
       "    </tr>\n",
       "  </thead>\n",
       "  <tbody>\n",
       "    <tr>\n",
       "      <th>id</th>\n",
       "      <td>1.000000</td>\n",
       "      <td>0.998763</td>\n",
       "      <td>-0.008555</td>\n",
       "      <td>0.036464</td>\n",
       "    </tr>\n",
       "    <tr>\n",
       "      <th>row_id</th>\n",
       "      <td>0.998763</td>\n",
       "      <td>1.000000</td>\n",
       "      <td>-0.009167</td>\n",
       "      <td>0.037896</td>\n",
       "    </tr>\n",
       "    <tr>\n",
       "      <th>reporting_phu_latitude</th>\n",
       "      <td>-0.008555</td>\n",
       "      <td>-0.009167</td>\n",
       "      <td>1.000000</td>\n",
       "      <td>0.463740</td>\n",
       "    </tr>\n",
       "    <tr>\n",
       "      <th>reporting_phu_longitude</th>\n",
       "      <td>0.036464</td>\n",
       "      <td>0.037896</td>\n",
       "      <td>0.463740</td>\n",
       "      <td>1.000000</td>\n",
       "    </tr>\n",
       "  </tbody>\n",
       "</table>\n",
       "</div>"
      ],
      "text/plain": [
       "                               id    row_id  reporting_phu_latitude  \\\n",
       "id                       1.000000  0.998763               -0.008555   \n",
       "row_id                   0.998763  1.000000               -0.009167   \n",
       "reporting_phu_latitude  -0.008555 -0.009167                1.000000   \n",
       "reporting_phu_longitude  0.036464  0.037896                0.463740   \n",
       "\n",
       "                         reporting_phu_longitude  \n",
       "id                                      0.036464  \n",
       "row_id                                  0.037896  \n",
       "reporting_phu_latitude                  0.463740  \n",
       "reporting_phu_longitude                 1.000000  "
      ]
     },
     "execution_count": 66,
     "metadata": {},
     "output_type": "execute_result"
    }
   ],
   "source": [
    "corr_matrix = df.corr()\n",
    "corr_matrix"
   ]
  },
  {
   "cell_type": "markdown",
   "metadata": {},
   "source": [
    "## Modeling"
   ]
  },
  {
   "cell_type": "code",
   "execution_count": 127,
   "metadata": {},
   "outputs": [
    {
     "data": {
      "text/html": [
       "<div>\n",
       "<style scoped>\n",
       "    .dataframe tbody tr th:only-of-type {\n",
       "        vertical-align: middle;\n",
       "    }\n",
       "\n",
       "    .dataframe tbody tr th {\n",
       "        vertical-align: top;\n",
       "    }\n",
       "\n",
       "    .dataframe thead th {\n",
       "        text-align: right;\n",
       "    }\n",
       "</style>\n",
       "<table border=\"1\" class=\"dataframe\">\n",
       "  <thead>\n",
       "    <tr style=\"text-align: right;\">\n",
       "      <th></th>\n",
       "      <th>accurate_episode_date</th>\n",
       "      <th>age_group</th>\n",
       "      <th>client_gender</th>\n",
       "      <th>case_acquisitionInfo</th>\n",
       "      <th>outcome1</th>\n",
       "      <th>outbreak_related</th>\n",
       "      <th>reporting_phu</th>\n",
       "      <th>reporting_phu_city</th>\n",
       "      <th>reporting_phu_postal_code</th>\n",
       "      <th>reporting_phu_latitude</th>\n",
       "      <th>reporting_phu_longitude</th>\n",
       "      <th>case_reported_date</th>\n",
       "      <th>test_reported_date</th>\n",
       "    </tr>\n",
       "  </thead>\n",
       "  <tbody>\n",
       "    <tr>\n",
       "      <th>0</th>\n",
       "      <td>2020-03-28</td>\n",
       "      <td>20s</td>\n",
       "      <td>FEMALE</td>\n",
       "      <td>Travel</td>\n",
       "      <td>Resolved</td>\n",
       "      <td>NaN</td>\n",
       "      <td>Windsor-Essex County Health Unit</td>\n",
       "      <td>Windsor</td>\n",
       "      <td>N9A 4J8</td>\n",
       "      <td>42.308796</td>\n",
       "      <td>-83.033670</td>\n",
       "      <td>2020-04-03</td>\n",
       "      <td>2020-04-03</td>\n",
       "    </tr>\n",
       "    <tr>\n",
       "      <th>1</th>\n",
       "      <td>2020-03-13</td>\n",
       "      <td>30s</td>\n",
       "      <td>MALE</td>\n",
       "      <td>Travel</td>\n",
       "      <td>Resolved</td>\n",
       "      <td>NaN</td>\n",
       "      <td>Ottawa Public Health</td>\n",
       "      <td>Ottawa</td>\n",
       "      <td>K2G 6J8</td>\n",
       "      <td>45.345665</td>\n",
       "      <td>-75.763912</td>\n",
       "      <td>2020-03-26</td>\n",
       "      <td>2020-03-26</td>\n",
       "    </tr>\n",
       "    <tr>\n",
       "      <th>2</th>\n",
       "      <td>2020-04-12</td>\n",
       "      <td>20s</td>\n",
       "      <td>FEMALE</td>\n",
       "      <td>No Epi-link</td>\n",
       "      <td>Resolved</td>\n",
       "      <td>NaN</td>\n",
       "      <td>Middlesex-London Health Unit</td>\n",
       "      <td>London</td>\n",
       "      <td>N6A 5L7</td>\n",
       "      <td>42.981468</td>\n",
       "      <td>-81.254016</td>\n",
       "      <td>2020-05-20</td>\n",
       "      <td>2020-05-20</td>\n",
       "    </tr>\n",
       "    <tr>\n",
       "      <th>3</th>\n",
       "      <td>2020-04-12</td>\n",
       "      <td>30s</td>\n",
       "      <td>FEMALE</td>\n",
       "      <td>CC</td>\n",
       "      <td>Resolved</td>\n",
       "      <td>NaN</td>\n",
       "      <td>Region of Waterloo, Public Health</td>\n",
       "      <td>Waterloo</td>\n",
       "      <td>N2J 4V3</td>\n",
       "      <td>43.462876</td>\n",
       "      <td>-80.520913</td>\n",
       "      <td>2020-04-15</td>\n",
       "      <td>2020-04-15</td>\n",
       "    </tr>\n",
       "    <tr>\n",
       "      <th>4</th>\n",
       "      <td>2020-03-23</td>\n",
       "      <td>30s</td>\n",
       "      <td>MALE</td>\n",
       "      <td>CC</td>\n",
       "      <td>Resolved</td>\n",
       "      <td>NaN</td>\n",
       "      <td>Eastern Ontario Health Unit</td>\n",
       "      <td>Cornwall</td>\n",
       "      <td>K6J 5T1</td>\n",
       "      <td>45.029152</td>\n",
       "      <td>-74.736298</td>\n",
       "      <td>2020-04-01</td>\n",
       "      <td>2020-04-01</td>\n",
       "    </tr>\n",
       "  </tbody>\n",
       "</table>\n",
       "</div>"
      ],
      "text/plain": [
       "  accurate_episode_date age_group client_gender case_acquisitionInfo  \\\n",
       "0            2020-03-28       20s        FEMALE               Travel   \n",
       "1            2020-03-13       30s          MALE               Travel   \n",
       "2            2020-04-12       20s        FEMALE          No Epi-link   \n",
       "3            2020-04-12       30s        FEMALE                   CC   \n",
       "4            2020-03-23       30s          MALE                   CC   \n",
       "\n",
       "   outcome1 outbreak_related                      reporting_phu  \\\n",
       "0  Resolved              NaN   Windsor-Essex County Health Unit   \n",
       "1  Resolved              NaN               Ottawa Public Health   \n",
       "2  Resolved              NaN       Middlesex-London Health Unit   \n",
       "3  Resolved              NaN  Region of Waterloo, Public Health   \n",
       "4  Resolved              NaN        Eastern Ontario Health Unit   \n",
       "\n",
       "  reporting_phu_city reporting_phu_postal_code  reporting_phu_latitude  \\\n",
       "0            Windsor                   N9A 4J8               42.308796   \n",
       "1             Ottawa                   K2G 6J8               45.345665   \n",
       "2             London                   N6A 5L7               42.981468   \n",
       "3           Waterloo                   N2J 4V3               43.462876   \n",
       "4           Cornwall                   K6J 5T1               45.029152   \n",
       "\n",
       "   reporting_phu_longitude case_reported_date test_reported_date  \n",
       "0               -83.033670         2020-04-03         2020-04-03  \n",
       "1               -75.763912         2020-03-26         2020-03-26  \n",
       "2               -81.254016         2020-05-20         2020-05-20  \n",
       "3               -80.520913         2020-04-15         2020-04-15  \n",
       "4               -74.736298         2020-04-01         2020-04-01  "
      ]
     },
     "execution_count": 127,
     "metadata": {},
     "output_type": "execute_result"
    }
   ],
   "source": [
    "df.head()\n"
   ]
  },
  {
   "cell_type": "markdown",
   "metadata": {},
   "source": [
    "Split data into target variable (\"outcome1\") and predictor variables. "
   ]
  },
  {
   "cell_type": "markdown",
   "metadata": {},
   "source": [
    "### Transform the features"
   ]
  },
  {
   "cell_type": "code",
   "execution_count": 198,
   "metadata": {},
   "outputs": [
    {
     "data": {
      "text/plain": [
       "id                             int64\n",
       "row_id                         int64\n",
       "accurate_episode_date         object\n",
       "age_group                     object\n",
       "client_gender                 object\n",
       "case_acquisitionInfo          object\n",
       "outcome1                      object\n",
       "outbreak_related              object\n",
       "reporting_phu                 object\n",
       "reporting_phu_address         object\n",
       "reporting_phu_city            object\n",
       "reporting_phu_postal_code     object\n",
       "reporting_phu_website         object\n",
       "reporting_phu_latitude       float64\n",
       "reporting_phu_longitude      float64\n",
       "case_reported_date            object\n",
       "specimen_reported_date        object\n",
       "test_reported_date            object\n",
       "dtype: object"
      ]
     },
     "execution_count": 198,
     "metadata": {},
     "output_type": "execute_result"
    }
   ],
   "source": [
    "df.dtypes"
   ]
  },
  {
   "cell_type": "code",
   "execution_count": 202,
   "metadata": {},
   "outputs": [
    {
     "data": {
      "text/plain": [
       "id                               0\n",
       "row_id                           0\n",
       "accurate_episode_date            0\n",
       "age_group                        0\n",
       "client_gender                    0\n",
       "case_acquisitionInfo             0\n",
       "outcome1                         0\n",
       "outbreak_related             20611\n",
       "reporting_phu                    0\n",
       "reporting_phu_address            0\n",
       "reporting_phu_city               0\n",
       "reporting_phu_postal_code        0\n",
       "reporting_phu_website            0\n",
       "reporting_phu_latitude           0\n",
       "reporting_phu_longitude          0\n",
       "case_reported_date               0\n",
       "specimen_reported_date         329\n",
       "test_reported_date             447\n",
       "dtype: int64"
      ]
     },
     "execution_count": 202,
     "metadata": {},
     "output_type": "execute_result"
    }
   ],
   "source": [
    "df.isna().sum()"
   ]
  },
  {
   "cell_type": "markdown",
   "metadata": {},
   "source": [
    "We convert dates into days from the date of first reported case."
   ]
  },
  {
   "cell_type": "code",
   "execution_count": 5,
   "metadata": {},
   "outputs": [],
   "source": [
    "from datetime import date\n",
    "from datetime import datetime\n",
    "\n",
    "d0 = pd.to_datetime('2020-01-01')\n",
    "\n",
    "df[\"accurate_episode_date\"] = pd.to_datetime(df[\"accurate_episode_date\"])\n",
    "df[\"case_reported_date\"] = pd.to_datetime(df[\"case_reported_date\"])\n",
    "df[\"test_reported_date\"] = pd.to_datetime(df[\"test_reported_date\"])\n",
    "\n",
    "df[\"accurate_episode_date\"] = (df[\"accurate_episode_date\"] - d0).dt.days\n",
    "df[\"case_reported_date\"] = (df[\"case_reported_date\"] - d0).dt.days\n",
    "df[\"test_reported_date\"] = (df[\"test_reported_date\"] - d0).dt.days"
   ]
  },
  {
   "cell_type": "markdown",
   "metadata": {},
   "source": [
    "Since there is only one missing value for accurate_episode_date, we exclude that data point."
   ]
  },
  {
   "cell_type": "code",
   "execution_count": 6,
   "metadata": {},
   "outputs": [],
   "source": [
    "df.dropna(subset = [\"accurate_episode_date\"], inplace = True)"
   ]
  },
  {
   "cell_type": "code",
   "execution_count": 7,
   "metadata": {},
   "outputs": [],
   "source": [
    "df.drop(columns=[\"id\", \"row_id\", \"case_acquisitionInfo\", \"reporting_phu_address\", \"reporting_phu_website\", \"specimen_reported_date\"], axis =1, inplace =True)"
   ]
  },
  {
   "cell_type": "code",
   "execution_count": 7,
   "metadata": {},
   "outputs": [
    {
     "data": {
      "text/html": [
       "<div>\n",
       "<style scoped>\n",
       "    .dataframe tbody tr th:only-of-type {\n",
       "        vertical-align: middle;\n",
       "    }\n",
       "\n",
       "    .dataframe tbody tr th {\n",
       "        vertical-align: top;\n",
       "    }\n",
       "\n",
       "    .dataframe thead th {\n",
       "        text-align: right;\n",
       "    }\n",
       "</style>\n",
       "<table border=\"1\" class=\"dataframe\">\n",
       "  <thead>\n",
       "    <tr style=\"text-align: right;\">\n",
       "      <th></th>\n",
       "      <th>accurate_episode_date</th>\n",
       "      <th>age_group</th>\n",
       "      <th>client_gender</th>\n",
       "      <th>outcome1</th>\n",
       "      <th>outbreak_related</th>\n",
       "      <th>reporting_phu</th>\n",
       "      <th>reporting_phu_city</th>\n",
       "      <th>reporting_phu_postal_code</th>\n",
       "      <th>reporting_phu_latitude</th>\n",
       "      <th>reporting_phu_longitude</th>\n",
       "      <th>case_reported_date</th>\n",
       "      <th>test_reported_date</th>\n",
       "    </tr>\n",
       "  </thead>\n",
       "  <tbody>\n",
       "    <tr>\n",
       "      <th>0</th>\n",
       "      <td>87.0</td>\n",
       "      <td>20s</td>\n",
       "      <td>FEMALE</td>\n",
       "      <td>Resolved</td>\n",
       "      <td>NaN</td>\n",
       "      <td>Windsor-Essex County Health Unit</td>\n",
       "      <td>Windsor</td>\n",
       "      <td>N9A 4J8</td>\n",
       "      <td>42.308796</td>\n",
       "      <td>-83.033670</td>\n",
       "      <td>93</td>\n",
       "      <td>93.0</td>\n",
       "    </tr>\n",
       "    <tr>\n",
       "      <th>1</th>\n",
       "      <td>72.0</td>\n",
       "      <td>30s</td>\n",
       "      <td>MALE</td>\n",
       "      <td>Resolved</td>\n",
       "      <td>NaN</td>\n",
       "      <td>Ottawa Public Health</td>\n",
       "      <td>Ottawa</td>\n",
       "      <td>K2G 6J8</td>\n",
       "      <td>45.345665</td>\n",
       "      <td>-75.763912</td>\n",
       "      <td>85</td>\n",
       "      <td>85.0</td>\n",
       "    </tr>\n",
       "    <tr>\n",
       "      <th>2</th>\n",
       "      <td>102.0</td>\n",
       "      <td>20s</td>\n",
       "      <td>FEMALE</td>\n",
       "      <td>Resolved</td>\n",
       "      <td>NaN</td>\n",
       "      <td>Middlesex-London Health Unit</td>\n",
       "      <td>London</td>\n",
       "      <td>N6A 5L7</td>\n",
       "      <td>42.981468</td>\n",
       "      <td>-81.254016</td>\n",
       "      <td>140</td>\n",
       "      <td>140.0</td>\n",
       "    </tr>\n",
       "    <tr>\n",
       "      <th>3</th>\n",
       "      <td>102.0</td>\n",
       "      <td>30s</td>\n",
       "      <td>FEMALE</td>\n",
       "      <td>Resolved</td>\n",
       "      <td>NaN</td>\n",
       "      <td>Region of Waterloo, Public Health</td>\n",
       "      <td>Waterloo</td>\n",
       "      <td>N2J 4V3</td>\n",
       "      <td>43.462876</td>\n",
       "      <td>-80.520913</td>\n",
       "      <td>105</td>\n",
       "      <td>105.0</td>\n",
       "    </tr>\n",
       "    <tr>\n",
       "      <th>4</th>\n",
       "      <td>82.0</td>\n",
       "      <td>30s</td>\n",
       "      <td>MALE</td>\n",
       "      <td>Resolved</td>\n",
       "      <td>NaN</td>\n",
       "      <td>Eastern Ontario Health Unit</td>\n",
       "      <td>Cornwall</td>\n",
       "      <td>K6J 5T1</td>\n",
       "      <td>45.029152</td>\n",
       "      <td>-74.736298</td>\n",
       "      <td>91</td>\n",
       "      <td>91.0</td>\n",
       "    </tr>\n",
       "  </tbody>\n",
       "</table>\n",
       "</div>"
      ],
      "text/plain": [
       "   accurate_episode_date age_group client_gender  outcome1 outbreak_related  \\\n",
       "0                   87.0       20s        FEMALE  Resolved              NaN   \n",
       "1                   72.0       30s          MALE  Resolved              NaN   \n",
       "2                  102.0       20s        FEMALE  Resolved              NaN   \n",
       "3                  102.0       30s        FEMALE  Resolved              NaN   \n",
       "4                   82.0       30s          MALE  Resolved              NaN   \n",
       "\n",
       "                       reporting_phu reporting_phu_city  \\\n",
       "0   Windsor-Essex County Health Unit            Windsor   \n",
       "1               Ottawa Public Health             Ottawa   \n",
       "2       Middlesex-London Health Unit             London   \n",
       "3  Region of Waterloo, Public Health           Waterloo   \n",
       "4        Eastern Ontario Health Unit           Cornwall   \n",
       "\n",
       "  reporting_phu_postal_code  reporting_phu_latitude  reporting_phu_longitude  \\\n",
       "0                   N9A 4J8               42.308796               -83.033670   \n",
       "1                   K2G 6J8               45.345665               -75.763912   \n",
       "2                   N6A 5L7               42.981468               -81.254016   \n",
       "3                   N2J 4V3               43.462876               -80.520913   \n",
       "4                   K6J 5T1               45.029152               -74.736298   \n",
       "\n",
       "   case_reported_date  test_reported_date  \n",
       "0                  93                93.0  \n",
       "1                  85                85.0  \n",
       "2                 140               140.0  \n",
       "3                 105               105.0  \n",
       "4                  91                91.0  "
      ]
     },
     "execution_count": 7,
     "metadata": {},
     "output_type": "execute_result"
    }
   ],
   "source": [
    "df.head()"
   ]
  },
  {
   "cell_type": "markdown",
   "metadata": {},
   "source": [
    "### Train test split"
   ]
  },
  {
   "cell_type": "code",
   "execution_count": 8,
   "metadata": {},
   "outputs": [],
   "source": [
    "X = df.drop(\"outcome1\", axis = 1)\n",
    "y = df[\"outcome1\"]"
   ]
  },
  {
   "cell_type": "code",
   "execution_count": 9,
   "metadata": {},
   "outputs": [
    {
     "data": {
      "text/html": [
       "<div>\n",
       "<style scoped>\n",
       "    .dataframe tbody tr th:only-of-type {\n",
       "        vertical-align: middle;\n",
       "    }\n",
       "\n",
       "    .dataframe tbody tr th {\n",
       "        vertical-align: top;\n",
       "    }\n",
       "\n",
       "    .dataframe thead th {\n",
       "        text-align: right;\n",
       "    }\n",
       "</style>\n",
       "<table border=\"1\" class=\"dataframe\">\n",
       "  <thead>\n",
       "    <tr style=\"text-align: right;\">\n",
       "      <th></th>\n",
       "      <th>accurate_episode_date</th>\n",
       "      <th>age_group</th>\n",
       "      <th>client_gender</th>\n",
       "      <th>outbreak_related</th>\n",
       "      <th>reporting_phu</th>\n",
       "      <th>reporting_phu_city</th>\n",
       "      <th>reporting_phu_postal_code</th>\n",
       "      <th>reporting_phu_latitude</th>\n",
       "      <th>reporting_phu_longitude</th>\n",
       "      <th>case_reported_date</th>\n",
       "      <th>test_reported_date</th>\n",
       "    </tr>\n",
       "  </thead>\n",
       "  <tbody>\n",
       "    <tr>\n",
       "      <th>0</th>\n",
       "      <td>87.0</td>\n",
       "      <td>20s</td>\n",
       "      <td>FEMALE</td>\n",
       "      <td>NaN</td>\n",
       "      <td>Windsor-Essex County Health Unit</td>\n",
       "      <td>Windsor</td>\n",
       "      <td>N9A 4J8</td>\n",
       "      <td>42.308796</td>\n",
       "      <td>-83.033670</td>\n",
       "      <td>93</td>\n",
       "      <td>93.0</td>\n",
       "    </tr>\n",
       "    <tr>\n",
       "      <th>1</th>\n",
       "      <td>72.0</td>\n",
       "      <td>30s</td>\n",
       "      <td>MALE</td>\n",
       "      <td>NaN</td>\n",
       "      <td>Ottawa Public Health</td>\n",
       "      <td>Ottawa</td>\n",
       "      <td>K2G 6J8</td>\n",
       "      <td>45.345665</td>\n",
       "      <td>-75.763912</td>\n",
       "      <td>85</td>\n",
       "      <td>85.0</td>\n",
       "    </tr>\n",
       "    <tr>\n",
       "      <th>2</th>\n",
       "      <td>102.0</td>\n",
       "      <td>20s</td>\n",
       "      <td>FEMALE</td>\n",
       "      <td>NaN</td>\n",
       "      <td>Middlesex-London Health Unit</td>\n",
       "      <td>London</td>\n",
       "      <td>N6A 5L7</td>\n",
       "      <td>42.981468</td>\n",
       "      <td>-81.254016</td>\n",
       "      <td>140</td>\n",
       "      <td>140.0</td>\n",
       "    </tr>\n",
       "    <tr>\n",
       "      <th>3</th>\n",
       "      <td>102.0</td>\n",
       "      <td>30s</td>\n",
       "      <td>FEMALE</td>\n",
       "      <td>NaN</td>\n",
       "      <td>Region of Waterloo, Public Health</td>\n",
       "      <td>Waterloo</td>\n",
       "      <td>N2J 4V3</td>\n",
       "      <td>43.462876</td>\n",
       "      <td>-80.520913</td>\n",
       "      <td>105</td>\n",
       "      <td>105.0</td>\n",
       "    </tr>\n",
       "    <tr>\n",
       "      <th>4</th>\n",
       "      <td>82.0</td>\n",
       "      <td>30s</td>\n",
       "      <td>MALE</td>\n",
       "      <td>NaN</td>\n",
       "      <td>Eastern Ontario Health Unit</td>\n",
       "      <td>Cornwall</td>\n",
       "      <td>K6J 5T1</td>\n",
       "      <td>45.029152</td>\n",
       "      <td>-74.736298</td>\n",
       "      <td>91</td>\n",
       "      <td>91.0</td>\n",
       "    </tr>\n",
       "  </tbody>\n",
       "</table>\n",
       "</div>"
      ],
      "text/plain": [
       "   accurate_episode_date age_group client_gender outbreak_related  \\\n",
       "0                   87.0       20s        FEMALE              NaN   \n",
       "1                   72.0       30s          MALE              NaN   \n",
       "2                  102.0       20s        FEMALE              NaN   \n",
       "3                  102.0       30s        FEMALE              NaN   \n",
       "4                   82.0       30s          MALE              NaN   \n",
       "\n",
       "                       reporting_phu reporting_phu_city  \\\n",
       "0   Windsor-Essex County Health Unit            Windsor   \n",
       "1               Ottawa Public Health             Ottawa   \n",
       "2       Middlesex-London Health Unit             London   \n",
       "3  Region of Waterloo, Public Health           Waterloo   \n",
       "4        Eastern Ontario Health Unit           Cornwall   \n",
       "\n",
       "  reporting_phu_postal_code  reporting_phu_latitude  reporting_phu_longitude  \\\n",
       "0                   N9A 4J8               42.308796               -83.033670   \n",
       "1                   K2G 6J8               45.345665               -75.763912   \n",
       "2                   N6A 5L7               42.981468               -81.254016   \n",
       "3                   N2J 4V3               43.462876               -80.520913   \n",
       "4                   K6J 5T1               45.029152               -74.736298   \n",
       "\n",
       "   case_reported_date  test_reported_date  \n",
       "0                  93                93.0  \n",
       "1                  85                85.0  \n",
       "2                 140               140.0  \n",
       "3                 105               105.0  \n",
       "4                  91                91.0  "
      ]
     },
     "execution_count": 9,
     "metadata": {},
     "output_type": "execute_result"
    }
   ],
   "source": [
    "X.head()"
   ]
  },
  {
   "cell_type": "code",
   "execution_count": 10,
   "metadata": {
    "scrolled": true
   },
   "outputs": [
    {
     "data": {
      "text/plain": [
       "0        Resolved\n",
       "1        Resolved\n",
       "2        Resolved\n",
       "3        Resolved\n",
       "4        Resolved\n",
       "           ...   \n",
       "37942    Resolved\n",
       "37943    Resolved\n",
       "37944    Resolved\n",
       "37945    Resolved\n",
       "37946    Resolved\n",
       "Name: outcome1, Length: 37945, dtype: object"
      ]
     },
     "execution_count": 10,
     "metadata": {},
     "output_type": "execute_result"
    }
   ],
   "source": [
    "y"
   ]
  },
  {
   "cell_type": "code",
   "execution_count": 11,
   "metadata": {},
   "outputs": [],
   "source": [
    "np.random.seed(7)\n",
    "\n",
    "X_train, X_test, y_train, y_test = train_test_split(X, \n",
    "                                                   y, \n",
    "                                                   test_size = 0.2)"
   ]
  },
  {
   "cell_type": "code",
   "execution_count": 12,
   "metadata": {},
   "outputs": [
    {
     "name": "stdout",
     "output_type": "stream",
     "text": [
      "(30356, 11)\n",
      "(7589, 11)\n",
      "(30356,)\n",
      "(7589,)\n"
     ]
    }
   ],
   "source": [
    "print(X_train.shape, \n",
    "     X_test.shape, \n",
    "     y_train.shape, \n",
    "     y_test.shape, \n",
    "     sep=\"\\n\")"
   ]
  },
  {
   "cell_type": "code",
   "execution_count": 13,
   "metadata": {},
   "outputs": [
    {
     "data": {
      "text/plain": [
       "str"
      ]
     },
     "execution_count": 13,
     "metadata": {},
     "output_type": "execute_result"
    }
   ],
   "source": [
    "type(df.reporting_phu_postal_code[1])"
   ]
  },
  {
   "cell_type": "code",
   "execution_count": 228,
   "metadata": {},
   "outputs": [],
   "source": [
    "# custom transformer that assigns numbers to the age_groups\n",
    "from sklearn.base import BaseEstimator, TransformerMixin\n",
    "class CustomNumericalTransformer( BaseEstimator, TransformerMixin ):\n",
    "    def __init__(self):\n",
    "        print(\"init called\")\n",
    "        \n",
    "    def fit(self, X, y = None):\n",
    "        print(\"fit called\")\n",
    "        return self\n",
    "    \n",
    "    \n",
    "    def transform(self, X, y=None):\n",
    "        transformed_X = X.copy()\n",
    "        \n",
    "        for i in X.index.values.tolist(): \n",
    "            if X.loc[i].values == \"<20\":\n",
    "                transformed_X[i] = 10\n",
    "            else:    \n",
    "                transformed_X[i] = float(str(X.loc[i].values)[-5:-3])\n",
    "        #print(transformed_X[i]) \n",
    "        i += 1\n",
    "        print(transformed_X)\n",
    "        return transformed_X"
   ]
  },
  {
   "cell_type": "code",
   "execution_count": 55,
   "metadata": {},
   "outputs": [],
   "source": [
    "# custom transformer that assigns numbers to the age_groups\n",
    "from sklearn.base import BaseEstimator, TransformerMixin\n",
    "class CustomNumericalTransformer( BaseEstimator, TransformerMixin ):\n",
    "    def __init__(self):\n",
    "        print(\"init called\")\n",
    "        \n",
    "    def fit(self, X, y = None):\n",
    "        print(\"fit called\")\n",
    "        return self\n",
    "    \n",
    "    \n",
    "    def transform(self, X, y=None):\n",
    "        print(\"transform called\")\n",
    "        transformed_X = pd.DataFrame(X.copy())\n",
    "        print(type(transformed_X))\n",
    "        print(transformed_X.shape)\n",
    "        transformed_X = transformed_X.replace({'80s':80, '20s':20, '<20':10, '60s':60, '50s':50, '70s':70, '30s':30, '40s':40, '90s':90})\n",
    "\n",
    "        print(transformed_X)\n",
    "        return transformed_X\n",
    "\n"
   ]
  },
  {
   "cell_type": "code",
   "execution_count": 56,
   "metadata": {
    "scrolled": true
   },
   "outputs": [
    {
     "name": "stdout",
     "output_type": "stream",
     "text": [
      "init called\n",
      "init called\n",
      "fit called\n",
      "transform called\n",
      "<class 'pandas.core.frame.DataFrame'>\n",
      "(30356, 1)\n",
      "        0\n",
      "0      70\n",
      "1      90\n",
      "2      50\n",
      "3      20\n",
      "4      90\n",
      "...    ..\n",
      "30351  20\n",
      "30352  80\n",
      "30353  50\n",
      "30354  20\n",
      "30355  50\n",
      "\n",
      "[30356 rows x 1 columns]\n"
     ]
    },
    {
     "data": {
      "text/plain": [
       "Pipeline(memory=None,\n",
       "         steps=[('preprocessor',\n",
       "                 ColumnTransformer(n_jobs=None, remainder='drop',\n",
       "                                   sparse_threshold=0.3,\n",
       "                                   transformer_weights=None,\n",
       "                                   transformers=[('cat',\n",
       "                                                  Pipeline(memory=None,\n",
       "                                                           steps=[('imputer',\n",
       "                                                                   SimpleImputer(add_indicator=False,\n",
       "                                                                                 copy=True,\n",
       "                                                                                 fill_value='missing',\n",
       "                                                                                 missing_values=nan,\n",
       "                                                                                 strategy='constant',\n",
       "                                                                                 verbose=0)),\n",
       "                                                                  ('onehot',\n",
       "                                                                   OneHotEncoder(categories='a...\n",
       "                 RandomForestClassifier(bootstrap=True, ccp_alpha=0.0,\n",
       "                                        class_weight=None, criterion='gini',\n",
       "                                        max_depth=None, max_features='auto',\n",
       "                                        max_leaf_nodes=None, max_samples=None,\n",
       "                                        min_impurity_decrease=0.0,\n",
       "                                        min_impurity_split=None,\n",
       "                                        min_samples_leaf=1, min_samples_split=2,\n",
       "                                        min_weight_fraction_leaf=0.0,\n",
       "                                        n_estimators=100, n_jobs=None,\n",
       "                                        oob_score=False, random_state=None,\n",
       "                                        verbose=0, warm_start=False))],\n",
       "         verbose=False)"
      ]
     },
     "execution_count": 56,
     "metadata": {},
     "output_type": "execute_result"
    }
   ],
   "source": [
    "# Define different features and transformer pipeline\n",
    "categorical_features = [\"client_gender\", \"outbreak_related\", \"reporting_phu\", \"reporting_phu_city\", \"reporting_phu_postal_code\"]\n",
    "categorical_transformer = Pipeline(steps=[\n",
    "    (\"imputer\", SimpleImputer(strategy=\"constant\", fill_value=\"missing\")),\n",
    "    (\"onehot\", OneHotEncoder(handle_unknown=\"ignore\"))])\n",
    "\n",
    "numeric_features = [\"age_group\"]\n",
    "numeric_transformer = Pipeline(steps=[\n",
    "    (\"imputer\", SimpleImputer(missing_values=\"UNKNOWN\",strategy=\"most_frequent\")),\n",
    "    (\"num_transformer\", CustomNumericalTransformer() )\n",
    "])\n",
    "\n",
    "preprocessor = ColumnTransformer(\n",
    "    transformers=[\n",
    "        (\"cat\", categorical_transformer, categorical_features),\n",
    "        (\"num\", numeric_transformer, numeric_features)])\n",
    "\n",
    "model = Pipeline(steps=[(\"preprocessor\", preprocessor),\n",
    "                        (\"model\", RandomForestClassifier())])\n",
    "\n",
    "model.fit(X_train, y_train)\n",
    "\n"
   ]
  },
  {
   "cell_type": "code",
   "execution_count": 57,
   "metadata": {},
   "outputs": [
    {
     "name": "stdout",
     "output_type": "stream",
     "text": [
      "transform called\n",
      "<class 'pandas.core.frame.DataFrame'>\n",
      "(7589, 1)\n",
      "       0\n",
      "0     40\n",
      "1     70\n",
      "2     60\n",
      "3     20\n",
      "4     10\n",
      "...   ..\n",
      "7584  50\n",
      "7585  60\n",
      "7586  40\n",
      "7587  40\n",
      "7588  80\n",
      "\n",
      "[7589 rows x 1 columns]\n"
     ]
    },
    {
     "data": {
      "text/plain": [
       "0.8538674397153775"
      ]
     },
     "execution_count": 57,
     "metadata": {},
     "output_type": "execute_result"
    }
   ],
   "source": [
    "model.score(X_test, y_test)"
   ]
  },
  {
   "cell_type": "markdown",
   "metadata": {},
   "source": [
    "### Fit models"
   ]
  },
  {
   "cell_type": "code",
   "execution_count": null,
   "metadata": {},
   "outputs": [],
   "source": [
    "models = {\"KNN\": KNeighborsClassifier(),\n",
    "          \"Logistic Regression\": LogisticRegression(), \n",
    "          \"Random Forest\": RandomForestClassifier()}"
   ]
  },
  {
   "cell_type": "code",
   "execution_count": 219,
   "metadata": {},
   "outputs": [
    {
     "data": {
      "text/plain": [
       "50s        5720\n",
       "20s        5171\n",
       "40s        5002\n",
       "30s        4832\n",
       "60s        4019\n",
       "80s        3678\n",
       "70s        2730\n",
       "90s        2534\n",
       "<20        1593\n",
       "UNKNOWN       7\n",
       "Name: age_group, dtype: int64"
      ]
     },
     "execution_count": 219,
     "metadata": {},
     "output_type": "execute_result"
    }
   ],
   "source": [
    "df.age_group.value_counts()"
   ]
  }
 ],
 "metadata": {
  "kernelspec": {
   "display_name": "Python 3",
   "language": "python",
   "name": "python3"
  },
  "language_info": {
   "codemirror_mode": {
    "name": "ipython",
    "version": 3
   },
   "file_extension": ".py",
   "mimetype": "text/x-python",
   "name": "python",
   "nbconvert_exporter": "python",
   "pygments_lexer": "ipython3",
   "version": "3.7.6"
  }
 },
 "nbformat": 4,
 "nbformat_minor": 4
}
